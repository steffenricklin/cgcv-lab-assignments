{
  "nbformat": 4,
  "nbformat_minor": 0,
  "metadata": {
    "kernelspec": {
      "display_name": "Python 3",
      "language": "python",
      "name": "python3"
    },
    "language_info": {
      "codemirror_mode": {
        "name": "ipython",
        "version": 3
      },
      "file_extension": ".py",
      "mimetype": "text/x-python",
      "name": "python",
      "nbconvert_exporter": "python",
      "pygments_lexer": "ipython3",
      "version": "3.7.1"
    },
    "colab": {
      "name": "wave-function-collapse.ipynb",
      "provenance": []
    },
    "accelerator": "GPU"
  },
  "cells": [
    {
      "cell_type": "markdown",
      "metadata": {
        "id": "qdUxmhFlPVoJ"
      },
      "source": [
        "```\n",
        "SOW-MKI95 Computer Graphics & Computer Vision\n",
        "Wave function collapse\n",
        "```"
      ]
    },
    {
      "cell_type": "markdown",
      "metadata": {
        "id": "lbS1JkRdQfLm"
      },
      "source": [
        "```\n",
        "Group number: ...\n",
        "Student 1 name/number: ...\n",
        "Student 2 name/number: ...\n",
        "...\n",
        "```"
      ]
    },
    {
      "cell_type": "code",
      "metadata": {
        "id": "VBXLKXDh63nR"
      },
      "source": [
        "import random\n",
        "import io\n",
        "import base64\n",
        "from collections import namedtuple\n",
        "import numpy as np\n",
        "from PIL import Image, ImageDraw\n",
        "from IPython import display\n",
        "import matplotlib.pyplot as plt\n"
      ],
      "execution_count": 1,
      "outputs": []
    },
    {
      "cell_type": "code",
      "metadata": {
        "id": "4g25JVhG7P1g"
      },
      "source": [
        "from enum import Enum, auto\n",
        "\n",
        "class Direction(Enum):\n",
        "    RIGHT = 0; UP = 1; LEFT = 2; DOWN = 3\n",
        "    \n",
        "    def reverse(self):\n",
        "        return {Direction.RIGHT: Direction.LEFT,\n",
        "                Direction.LEFT: Direction.RIGHT,\n",
        "                Direction.UP: Direction.DOWN,\n",
        "                Direction.DOWN: Direction.UP}[self]"
      ],
      "execution_count": 2,
      "outputs": []
    },
    {
      "cell_type": "code",
      "metadata": {
        "id": "tT9nwqV8yGAW"
      },
      "source": [
        "# %%\n",
        "def neighbors(location, height, width):\n",
        "    res = []\n",
        "    x, y = location\n",
        "    if x != 0:\n",
        "        res.append((Direction.UP, x-1, y))\n",
        "    if y != 0:\n",
        "        res.append((Direction.LEFT, x, y-1))\n",
        "    if x < height - 1:\n",
        "        res.append((Direction.DOWN, x+1, y))\n",
        "    if y < width - 1:\n",
        "        res.append((Direction.RIGHT, x, y+1))\n",
        "    return res"
      ],
      "execution_count": null,
      "outputs": []
    },
    {
      "cell_type": "code",
      "metadata": {
        "id": "5pJ6mWmDrt2K"
      },
      "source": [
        "# %%\n",
        "def find_true(array):\n",
        "    \"\"\"\n",
        "    Like np.nonzero, except it makes sense.\n",
        "    \"\"\"\n",
        "    transform = int if len(np.asarray(array).shape) == 1 else tuple\n",
        "    return list(map(transform, np.transpose(np.nonzero(array))))"
      ],
      "execution_count": 5,
      "outputs": []
    },
    {
      "cell_type": "code",
      "metadata": {
        "id": "CFW49gNYudT5"
      },
      "source": [
        "def propagate_bt(potential, start_location):\n",
        "\n",
        "    height, width = potential.shape[:2]\n",
        "    \n",
        "    # Initialise grid of who needs an update; initially only the start loc\n",
        "    needs_update = np.full((height, width), False)\n",
        "    needs_update[start_location] = True\n",
        "    \n",
        "    while np.any(needs_update):\n",
        "        # While there is still a location that needs an update, \n",
        "        # initialise a similar grid for the neighbors\n",
        "        needs_update_next = np.full((height, width), False)\n",
        "\n",
        "        # Get all the locations that need an update\n",
        "        locations = find_true(needs_update)\n",
        "        # for every space that is needs to be updated\n",
        "        for location in locations:\n",
        "            #find possible tiles\n",
        "            \n",
        "            possible_tiles = [unique_tiles[n] for n in find_true(potential[location])]\n",
        "            #for every neighbor\n",
        "            for neighbor in neighbors(location, height, width):\n",
        "                neighbor_direction, neighbor_x, neighbor_y = neighbor\n",
        "                neighbor_location = (neighbor_x, neighbor_y)\n",
        "                \n",
        "                # Add a constraint to the neighbor location; update the potential, keep going\n",
        "                was_updated = add_constraint_bt(potential, neighbor_location,\n",
        "                                             neighbor_direction, possible_tiles, current_tile=location)\n",
        "                needs_update_next[neighbor_location] |= was_updated \n",
        "        needs_update = needs_update_next\n"
      ],
      "execution_count": 23,
      "outputs": []
    },
    {
      "cell_type": "code",
      "metadata": {
        "id": "QIYKXtUeTX4i"
      },
      "source": [
        "def get_candidates(potential):\n",
        "    '''\n",
        "    Returns a list of all coordinates which can be collapsed in \n",
        "    order max constrained to min constrained \n",
        "    '''\n",
        "    # 2d array where each entry is the number of choices\n",
        "    num_choices = np.sum(potential, axis=2, dtype='float32')\n",
        "\n",
        "    # if there's only one choice, set it to inf (one choice is no choice)\n",
        "    num_choices[num_choices == 1] = np.inf\n",
        "    \n",
        "    if np.all(num_choices) == np.inf: \n",
        "        return None\n",
        "\n",
        "    # get the indexes in order of the sums, in ascending order\n",
        "    candidate_locations = np.unravel_index(np.argsort(num_choices, axis=None), num_choices.shape)\n",
        "    candidate_locations = list(zip(*candidate_locations))\n",
        "    return candidate_locations"
      ],
      "execution_count": 7,
      "outputs": []
    },
    {
      "cell_type": "code",
      "metadata": {
        "id": "BI8tyR143LHu"
      },
      "source": [
        "def backtrack(potential, images):\n",
        "    old_potential = potential.copy()\n",
        "    # display.display(show_state(potential, tiles))\n",
        "    display.display(show_state(potential, unique_tiles))\n",
        "    images.append(show_state(potential, unique_tiles))\n",
        "\n",
        "    # Done\n",
        "    if done(potential):\n",
        "        print('It is done.')\n",
        "        out = io.BytesIO()\n",
        "        images[0].save(out, format='gif', save_all=True, append_images=images[1:],\n",
        "              duration=50, loop=0)\n",
        "        return True\n",
        "    else:\n",
        "        # Otherwise get all candidate locations that still need to be decided\n",
        "        candidates = get_candidates(potential)\n",
        "        for candidate in candidates:\n",
        "                ### Prepare\n",
        "\n",
        "            # find possible tiles for this canditate \n",
        "            p_tiles = find_true(potential[candidate])\n",
        "\n",
        "            # choose a random one according to weights\n",
        "            if len(p_tiles) > 0:              \n",
        "                tile_probs = weights[p_tiles] / sum(weights[p_tiles])\n",
        "                # sort files randomly according to frequency of tile\n",
        "                p_tiles = np.random.choice(p_tiles, p=tile_probs, size=len(p_tiles), replace=False)\n",
        "\n",
        "            for tile in p_tiles:\n",
        "                potential[candidate] = False\n",
        "                potential[candidate][tile] = True \n",
        "                propagate_bt(potential, candidate)\n",
        "\n",
        "                # if not finsihed after propagate \n",
        "                if np.any(potential[candidate]):\n",
        "                    \n",
        "                    ### Recurse\n",
        "\n",
        "                    solved = backtrack(potential, images)\n",
        "                    if solved:\n",
        "                        return True\n",
        "\n",
        "                ### Repair\n",
        "\n",
        "                potential = old_potential\n",
        "\n",
        "\n",
        "def done(potential):\n",
        "    return np.sum(potential) == potential.shape[0] * potential.shape[1]\n",
        "\n"
      ],
      "execution_count": 27,
      "outputs": []
    },
    {
      "cell_type": "code",
      "metadata": {
        "id": "qWyeJlDC5wS6"
      },
      "source": [
        "## change this so the potential tiles that do not overlapp are deleted from the potential list\n",
        "\n",
        "def add_constraint_bt(potential, location, incoming_direction, possible_tiles, current_tile):\n",
        "    changed = False\n",
        "    \n",
        " \n",
        "    # für alle tiles\n",
        "    # potential[location] is the neighbor \n",
        "    for i_p, p in enumerate(potential[location]):\n",
        "        if not p:\n",
        "            continue\n",
        "# if tile does not overlap with neighbors, set it to false \n",
        "# if coming from links, see if last two and first two coloumns overlapp\n",
        "#if coming form ... \n",
        "        # if the direction is down \n",
        "        if incoming_direction == Direction.DOWN:\n",
        "            # check for every tile that can be placed \n",
        "            for potential_tile in possible_tiles: \n",
        "\n",
        "                if not(potential_tile[0:2] == unique_tiles[i_p][1:3]).all():\n",
        "                    potential[location][i_p] = False\n",
        "                    changed = True\n",
        "\n",
        "   \n",
        "        if incoming_direction == Direction.UP:\n",
        "          for potential_tile in possible_tiles: \n",
        "        \n",
        "              if not (potential_tile [1:3] == unique_tiles[i_p][0:2]).all():\n",
        "                  potential[location][i_p] = False  \n",
        "                  changed = True\n",
        "\n",
        "\n",
        "        if incoming_direction == Direction.LEFT:\n",
        "          for potential_tile in possible_tiles:      \n",
        "           \n",
        "              if not (potential_tile[:,1:3] == unique_tiles[i_p][:,0:2]).all():\n",
        "                  potential[location][i_p] = False \n",
        "                  changed = True\n",
        "\n",
        "\n",
        "\n",
        "        if incoming_direction == Direction.RIGHT:\n",
        "          for potential_tile in possible_tiles: \n",
        "           \n",
        "              if not (potential_tile[:,0:2] == unique_tiles[i_p][:,1:3]).all():\n",
        "                  potential[location][i_p] = False \n",
        "                  changed = True\n",
        "\n",
        "    return changed"
      ],
      "execution_count": 45,
      "outputs": []
    },
    {
      "cell_type": "markdown",
      "metadata": {
        "id": "sf_92qZokU_E"
      },
      "source": [
        "###Create Tiles from Image"
      ]
    },
    {
      "cell_type": "code",
      "metadata": {
        "id": "-zE_XDjn6MfZ"
      },
      "source": [
        "\n",
        "def tile_image(bitmap, n=3):\n",
        "    \n",
        "   \n",
        "    tiles =np.empty((bitmap.shape[0]-(n-1),bitmap.shape[1]-(n-1), 3, 3, 3)) \n",
        "    for x in range(bitmap.shape[0]-(n-1)):\n",
        "      for y in range(bitmap.shape[1]-(n-1)):\n",
        "        tiles[x,y] = bitmap[x:x+n, y:y+n, :]\n",
        "    return tiles\n",
        "\n",
        "    #tile_grid = np.zeros(bitmap.shape + (n,n))\n",
        "    #bm_width, bm_height, _ = bitmap.shape\n",
        "    #padded = np.pad(bitmap, ((0, n-1), (0, n-1), (0,0)), mode='wrap')\n",
        "    #for x in range(bm_width):\n",
        "     #   for y in range(bm_height):\n",
        "     #       tile_grid[x, y] = padded[x:x+n, y:y+n, :]\n",
        "\n",
        "\n",
        "\n",
        "def get_unique_tiles(tile_grid):\n",
        "  all_tiles = np.empty((tile_grid.shape[0],tile_grid.shape[1],6,3,3,3))\n",
        "  for row_idx, row in enumerate(tile_grid):\n",
        "    for tile_idx, tile in enumerate(row): \n",
        "      all_tiles[row_idx][tile_idx][0]= tile\n",
        "      all_tiles[row_idx][tile_idx][1] =np.rot90(tile)\n",
        "      all_tiles[row_idx][tile_idx][2] =np.rot90(tile,2)\n",
        "      all_tiles[row_idx][tile_idx][3] =np.rot90(tile,3)\n",
        "      all_tiles[row_idx][tile_idx][4] =np.fliplr(tile)\n",
        "      all_tiles[row_idx][tile_idx][5] =np.flipud(tile)\n",
        "\n",
        "  all_tiles = all_tiles.reshape(tile_grid.shape[0]*tile_grid.shape[1]*6,3,3,3) \n",
        "  unique_tiles, counts_elements = np.unique(all_tiles, return_counts = True, axis=0)\n",
        "\n",
        "  return unique_tiles, counts_elements\n"
      ],
      "execution_count": 9,
      "outputs": []
    },
    {
      "cell_type": "code",
      "metadata": {
        "colab": {
          "base_uri": "https://localhost:8080/",
          "height": 505
        },
        "id": "hHMG1eN1kyd6",
        "outputId": "02b168be-de5e-484c-8baa-c7a50f332403"
      },
      "source": [
        "\n",
        "image = Image.open('/content/City.png')\n",
        "display.display(image)\n",
        "bitmap = np.asarray(image)\n",
        "bitmap = bitmap[:,:,:3]\n",
        "tile_grid = tile_image(bitmap)\n",
        "unique_tiles, weights = get_unique_tiles(tile_grid)\n",
        "print(\"possible Tiles\")\n",
        "for tile in unique_tiles:\n",
        "  image = Image.fromarray(tile.astype(np.uint8))\n",
        "  display.display(image)\n",
        "print(len(unique_tiles))\n"
      ],
      "execution_count": 51,
      "outputs": [
        {
          "output_type": "display_data",
          "data": {
            "image/png": "[encoded data removed]",
            "text/plain": [
              "<PIL.PngImagePlugin.PngImageFile image mode=RGBA size=9x9 at 0x7F7878858290>"
            ]
          },
          "metadata": {
            "tags": []
          }
        },
        {
          "output_type": "stream",
          "text": [
            "possible Tiles\n"
          ],
          "name": "stdout"
        },
        {
          "output_type": "display_data",
          "data": {
            "image/png": "[encoded data removed]",
            "text/plain": [
              "<PIL.Image.Image image mode=RGB size=3x3 at 0x7F78778FA090>"
            ]
          },
          "metadata": {
            "tags": []
          }
        },
        {
          "output_type": "display_data",
          "data": {
            "image/png": "[encoded data removed]",
            "text/plain": [
              "<PIL.Image.Image image mode=RGB size=3x3 at 0x7F78799E5C10>"
            ]
          },
          "metadata": {
            "tags": []
          }
        },
        {
          "output_type": "display_data",
          "data": {
            "image/png": "[encoded data removed]",
            "text/plain": [
              "<PIL.Image.Image image mode=RGB size=3x3 at 0x7F7871403DD0>"
            ]
          },
          "metadata": {
            "tags": []
          }
        },
        {
          "output_type": "display_data",
          "data": {
            "image/png": "[encoded data removed]",
            "text/plain": [
              "<PIL.Image.Image image mode=RGB size=3x3 at 0x7F7878858350>"
            ]
          },
          "metadata": {
            "tags": []
          }
        },
        {
          "output_type": "display_data",
          "data": {
            "image/png": "[encoded data removed]",
            "text/plain": [
              "<PIL.Image.Image image mode=RGB size=3x3 at 0x7F7871403B10>"
            ]
          },
          "metadata": {
            "tags": []
          }
        },
        {
          "output_type": "display_data",
          "data": {
            "image/png": "[encoded data removed]",
            "text/plain": [
              "<PIL.Image.Image image mode=RGB size=3x3 at 0x7F7878858350>"
            ]
          },
          "metadata": {
            "tags": []
          }
        },
        {
          "output_type": "display_data",
          "data": {
            "image/png": "[encoded data removed]",
            "text/plain": [
              "<PIL.Image.Image image mode=RGB size=3x3 at 0x7F78778FA690>"
            ]
          },
          "metadata": {
            "tags": []
          }
        },
        {
          "output_type": "display_data",
          "data": {
            "image/png": "[encoded data removed]",
            "text/plain": [
              "<PIL.Image.Image image mode=RGB size=3x3 at 0x7F7871403FD0>"
            ]
          },
          "metadata": {
            "tags": []
          }
        },
        {
          "output_type": "display_data",
          "data": {
            "image/png": "[encoded data removed]",
            "text/plain": [
              "<PIL.Image.Image image mode=RGB size=3x3 at 0x7F7879C4FC90>"
            ]
          },
          "metadata": {
            "tags": []
          }
        },
        {
          "output_type": "display_data",
          "data": {
            "image/png": "[encoded data removed]",
            "text/plain": [
              "<PIL.Image.Image image mode=RGB size=3x3 at 0x7F7878858290>"
            ]
          },
          "metadata": {
            "tags": []
          }
        },
        {
          "output_type": "display_data",
          "data": {
            "image/png": "[encoded data removed]",
            "text/plain": [
              "<PIL.Image.Image image mode=RGB size=3x3 at 0x7F78778FA150>"
            ]
          },
          "metadata": {
            "tags": []
          }
        },
        {
          "output_type": "display_data",
          "data": {
            "image/png": "[encoded data removed]",
            "text/plain": [
              "<PIL.Image.Image image mode=RGB size=3x3 at 0x7F7871403890>"
            ]
          },
          "metadata": {
            "tags": []
          }
        },
        {
          "output_type": "display_data",
          "data": {
            "image/png": "[encoded data removed]",
            "text/plain": [
              "<PIL.Image.Image image mode=RGB size=3x3 at 0x7F7871403FD0>"
            ]
          },
          "metadata": {
            "tags": []
          }
        },
        {
          "output_type": "display_data",
          "data": {
            "image/png": "[encoded data removed]",
            "text/plain": [
              "<PIL.Image.Image image mode=RGB size=3x3 at 0x7F7878858E10>"
            ]
          },
          "metadata": {
            "tags": []
          }
        },
        {
          "output_type": "display_data",
          "data": {
            "image/png": "[encoded data removed]",
            "text/plain": [
              "<PIL.Image.Image image mode=RGB size=3x3 at 0x7F78778FA150>"
            ]
          },
          "metadata": {
            "tags": []
          }
        },
        {
          "output_type": "display_data",
          "data": {
            "image/png": "[encoded data removed]",
            "text/plain": [
              "<PIL.Image.Image image mode=RGB size=3x3 at 0x7F7871403890>"
            ]
          },
          "metadata": {
            "tags": []
          }
        },
        {
          "output_type": "display_data",
          "data": {
            "image/png": "[encoded data removed]",
            "text/plain": [
              "<PIL.Image.Image image mode=RGB size=3x3 at 0x7F78778FA390>"
            ]
          },
          "metadata": {
            "tags": []
          }
        },
        {
          "output_type": "display_data",
          "data": {
            "image/png": "[encoded data removed]",
            "text/plain": [
              "<PIL.Image.Image image mode=RGB size=3x3 at 0x7F7871403190>"
            ]
          },
          "metadata": {
            "tags": []
          }
        },
        {
          "output_type": "display_data",
          "data": {
            "image/png": "[encoded data removed]",
            "text/plain": [
              "<PIL.Image.Image image mode=RGB size=3x3 at 0x7F7871403DD0>"
            ]
          },
          "metadata": {
            "tags": []
          }
        },
        {
          "output_type": "display_data",
          "data": {
            "image/png": "[encoded data removed]",
            "text/plain": [
              "<PIL.Image.Image image mode=RGB size=3x3 at 0x7F7871403190>"
            ]
          },
          "metadata": {
            "tags": []
          }
        },
        {
          "output_type": "display_data",
          "data": {
            "image/png": "[encoded data removed]",
            "text/plain": [
              "<PIL.Image.Image image mode=RGB size=3x3 at 0x7F7871403DD0>"
            ]
          },
          "metadata": {
            "tags": []
          }
        },
        {
          "output_type": "display_data",
          "data": {
            "image/png": "[encoded data removed]",
            "text/plain": [
              "<PIL.Image.Image image mode=RGB size=3x3 at 0x7F7878858610>"
            ]
          },
          "metadata": {
            "tags": []
          }
        },
        {
          "output_type": "display_data",
          "data": {
            "image/png": "[encoded data removed]",
            "text/plain": [
              "<PIL.Image.Image image mode=RGB size=3x3 at 0x7F7871403890>"
            ]
          },
          "metadata": {
            "tags": []
          }
        },
        {
          "output_type": "display_data",
          "data": {
            "image/png": "[encoded data removed]",
            "text/plain": [
              "<PIL.Image.Image image mode=RGB size=3x3 at 0x7F78778FA390>"
            ]
          },
          "metadata": {
            "tags": []
          }
        },
        {
          "output_type": "display_data",
          "data": {
            "image/png": "[encoded data removed]",
            "text/plain": [
              "<PIL.Image.Image image mode=RGB size=3x3 at 0x7F7878858150>"
            ]
          },
          "metadata": {
            "tags": []
          }
        },
        {
          "output_type": "stream",
          "text": [
            "25\n"
          ],
          "name": "stdout"
        }
      ]
    },
    {
      "cell_type": "code",
      "metadata": {
        "id": "RFG7qJqQkdtA"
      },
      "source": [
        "# output image pixel size \n",
        "output_length = 25 \n",
        "output_height = 25"
      ],
      "execution_count": 49,
      "outputs": []
    },
    {
      "cell_type": "code",
      "metadata": {
        "id": "kgzdQTXQght1"
      },
      "source": [
        "def blend_tiles(choices, tiles):\n",
        "  # gives back average RGB value of the top left corner \n",
        "  if len(find_true(choices)) == 0:\n",
        "    return np.asarray([200,200,200])\n",
        "  wert = np.asarray([tiles[i,0,0] for i in range(len(choices)) if choices[i]])\n",
        "  wert = np.average(wert, axis=0)\n",
        "\n",
        "  return wert\n",
        "\n",
        "\n",
        "def show_state(potential, tiles):\n",
        "    rows = []\n",
        "    # für jede reihe im bild\n",
        "    for row in potential:\n",
        "      row_pixels = []\n",
        "      for t in row: \n",
        "        pixel = blend_tiles(t, tiles)\n",
        "        row_pixels.append(pixel)\n",
        "\n",
        "      rows.append(row_pixels)\n",
        " \n",
        "    rows = np.array(rows)\n",
        "\n",
        "    image = rows.reshape(output_length , output_height, 3)  \n",
        "    image = Image.fromarray(image.astype(np.uint8))\n",
        "    return image\n"
      ],
      "execution_count": 12,
      "outputs": []
    },
    {
      "cell_type": "code",
      "metadata": {
        "id": "EqN3U7Pu6nan"
      },
      "source": [
        "# create list which keeps track which tiles are still possible \n",
        "potential = np.full((output_length, output_height, len(unique_tiles)), True)\n",
        "# create output image bitmap\n",
        "output = np.empty((output_length, output_height,3))\n",
        "\n",
        "display.display(show_state(potential, unique_tiles))\n",
        "images = [show_state(potential, unique_tiles)]\n",
        "backtrack(potential, images)\n",
        "\n",
        "# %%\n",
        "out = io.BytesIO()\n",
        "images[0].save(out, format='gif', save_all=True, append_images=images[1:],\n",
        "               duration=50, loop=0)\n",
        "images[-1]\n",
        "\n",
        "# %%\n",
        "import base64\n",
        "from IPython import display\n",
        "display.HTML('<img src=\"data:image/gif;base64,{0}\">'\n",
        "             .format(base64.b64encode(out.getvalue()).decode('utf8')))"
      ],
      "execution_count": null,
      "outputs": []
    }
  ]
}