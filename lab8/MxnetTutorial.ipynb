{
  "nbformat": 4,
  "nbformat_minor": 0,
  "metadata": {
    "colab": {
      "name": "Untitled2.ipynb",
      "provenance": []
    },
    "kernelspec": {
      "name": "python3",
      "display_name": "Python 3"
    },
    "language_info": {
      "name": "python"
    },
    "accelerator": "GPU"
  },
  "cells": [
    {
      "cell_type": "markdown",
      "metadata": {
        "id": "gg-mT1LU2jbE"
      },
      "source": [
        "# Gluon Crash Course \n",
        "\n",
        "This is the mxnet crash code which can be found at https://mxnet.apache.org/versions/1.8.0/api/python/docs/tutorials/getting-started/crash-course/index.html as well as a Tutorial for Handwritten Digit Recognition which can be found at https://mxnet.apache.org/versions/1.8.0/api/python/docs/tutorials/packages/gluon/image/mnist.html#Training\n",
        "\n",
        "Both tutorials worked without any errors. In order to use multiple GPUs on google colab the d2l module was imported in the section \"Use GPUs\"."
      ]
    },
    {
      "cell_type": "markdown",
      "metadata": {
        "id": "_GoYoLHni4RJ"
      },
      "source": [
        "# **Manipulate data with ndarray**"
      ]
    },
    {
      "cell_type": "code",
      "metadata": {
        "colab": {
          "base_uri": "https://localhost:8080/",
          "height": 327
        },
        "id": "ch_dQfJbijym",
        "outputId": "b8d8eff3-39fe-46fb-a442-bf346745b09c"
      },
      "source": [
        "# If you haven't installed MXNet yet, you can uncomment the following line to\n",
        "# install the latest stable release\n",
        "!pip install mxnet-cu100\n",
        "\n",
        "from mxnet import nd"
      ],
      "execution_count": 28,
      "outputs": [
        {
          "output_type": "stream",
          "text": [
            "Collecting mxnet-cu100\n",
            "\u001b[?25l  Downloading https://files.pythonhosted.org/packages/85/09/a13d45136ce70589cceee4081f485f8f47fc5eb716d07981d4c2547763df/mxnet_cu100-1.8.0.post0-py2.py3-none-manylinux2014_x86_64.whl (352.6MB)\n",
            "\u001b[K     |████████████████████████████████| 352.6MB 47kB/s \n",
            "\u001b[?25hRequirement already satisfied: numpy<2.0.0,>1.16.0 in /usr/local/lib/python3.7/dist-packages (from mxnet-cu100) (1.19.5)\n",
            "Requirement already satisfied: graphviz<0.9.0,>=0.8.1 in /usr/local/lib/python3.7/dist-packages (from mxnet-cu100) (0.8.4)\n",
            "Requirement already satisfied: requests<3,>=2.20.0 in /usr/local/lib/python3.7/dist-packages (from mxnet-cu100) (2.23.0)\n",
            "Requirement already satisfied: urllib3!=1.25.0,!=1.25.1,<1.26,>=1.21.1 in /usr/local/lib/python3.7/dist-packages (from requests<3,>=2.20.0->mxnet-cu100) (1.24.3)\n",
            "Requirement already satisfied: idna<3,>=2.5 in /usr/local/lib/python3.7/dist-packages (from requests<3,>=2.20.0->mxnet-cu100) (2.10)\n",
            "Requirement already satisfied: certifi>=2017.4.17 in /usr/local/lib/python3.7/dist-packages (from requests<3,>=2.20.0->mxnet-cu100) (2020.12.5)\n",
            "Requirement already satisfied: chardet<4,>=3.0.2 in /usr/local/lib/python3.7/dist-packages (from requests<3,>=2.20.0->mxnet-cu100) (3.0.4)\n",
            "Installing collected packages: mxnet-cu100\n",
            "Successfully installed mxnet-cu100-1.8.0.post0\n"
          ],
          "name": "stdout"
        },
        {
          "output_type": "display_data",
          "data": {
            "application/vnd.colab-display-data+json": {
              "pip_warning": {
                "packages": [
                  "mxnet"
                ]
              }
            }
          },
          "metadata": {
            "tags": []
          }
        }
      ]
    },
    {
      "cell_type": "code",
      "metadata": {
        "colab": {
          "base_uri": "https://localhost:8080/"
        },
        "id": "Bwvs0b3MirQe",
        "outputId": "50fc598f-8c60-4dc1-e23c-481af2cf7919"
      },
      "source": [
        "nd.array(((1,2,3),(5,6,7)))"
      ],
      "execution_count": 29,
      "outputs": [
        {
          "output_type": "execute_result",
          "data": {
            "text/plain": [
              "\n",
              "[[1. 2. 3.]\n",
              " [5. 6. 7.]]\n",
              "<NDArray 2x3 @cpu(0)>"
            ]
          },
          "metadata": {
            "tags": []
          },
          "execution_count": 29
        }
      ]
    },
    {
      "cell_type": "code",
      "metadata": {
        "colab": {
          "base_uri": "https://localhost:8080/"
        },
        "id": "YMXFvv-vizma",
        "outputId": "4b4c4a89-47f2-4a2e-e335-d5dcacabfba3"
      },
      "source": [
        "x = nd.ones((2,3))\n",
        "x"
      ],
      "execution_count": 30,
      "outputs": [
        {
          "output_type": "execute_result",
          "data": {
            "text/plain": [
              "\n",
              "[[1. 1. 1.]\n",
              " [1. 1. 1.]]\n",
              "<NDArray 2x3 @cpu(0)>"
            ]
          },
          "metadata": {
            "tags": []
          },
          "execution_count": 30
        }
      ]
    },
    {
      "cell_type": "code",
      "metadata": {
        "colab": {
          "base_uri": "https://localhost:8080/"
        },
        "id": "ZaumLtcli3IO",
        "outputId": "8546434b-bb3a-4f2b-fac7-54ed7d296b8f"
      },
      "source": [
        "y = nd.random.uniform(-1,1,(2,3))\n",
        "y"
      ],
      "execution_count": 31,
      "outputs": [
        {
          "output_type": "execute_result",
          "data": {
            "text/plain": [
              "\n",
              "[[-0.68570805 -0.7316899   0.30156887]\n",
              " [ 0.38699007 -0.7863959   0.58233285]]\n",
              "<NDArray 2x3 @cpu(0)>"
            ]
          },
          "metadata": {
            "tags": []
          },
          "execution_count": 31
        }
      ]
    },
    {
      "cell_type": "code",
      "metadata": {
        "colab": {
          "base_uri": "https://localhost:8080/"
        },
        "id": "iyUZs1NqjAio",
        "outputId": "c781b93a-77d2-4252-e11a-4f44c1818b2a"
      },
      "source": [
        "(x.shape, x.size, x.dtype)"
      ],
      "execution_count": 32,
      "outputs": [
        {
          "output_type": "execute_result",
          "data": {
            "text/plain": [
              "((2, 3), 6, numpy.float32)"
            ]
          },
          "metadata": {
            "tags": []
          },
          "execution_count": 32
        }
      ]
    },
    {
      "cell_type": "code",
      "metadata": {
        "colab": {
          "base_uri": "https://localhost:8080/"
        },
        "id": "d8lhaR3IjKSZ",
        "outputId": "3c9bb066-f6a1-460d-8c74-27fb7e238fe3"
      },
      "source": [
        "y[1,2]"
      ],
      "execution_count": 33,
      "outputs": [
        {
          "output_type": "execute_result",
          "data": {
            "text/plain": [
              "\n",
              "[0.58233285]\n",
              "<NDArray 1 @cpu(0)>"
            ]
          },
          "metadata": {
            "tags": []
          },
          "execution_count": 33
        }
      ]
    },
    {
      "cell_type": "code",
      "metadata": {
        "colab": {
          "base_uri": "https://localhost:8080/"
        },
        "id": "6bMl4wNDjPI4",
        "outputId": "3eb4f76c-11c2-41bc-b384-366511b287d5"
      },
      "source": [
        "y[:,1:3]"
      ],
      "execution_count": 34,
      "outputs": [
        {
          "output_type": "execute_result",
          "data": {
            "text/plain": [
              "\n",
              "[[-0.7316899   0.30156887]\n",
              " [-0.7863959   0.58233285]]\n",
              "<NDArray 2x2 @cpu(0)>"
            ]
          },
          "metadata": {
            "tags": []
          },
          "execution_count": 34
        }
      ]
    },
    {
      "cell_type": "code",
      "metadata": {
        "colab": {
          "base_uri": "https://localhost:8080/"
        },
        "id": "2N6ow9-TjYeO",
        "outputId": "888757cb-cd61-4c6f-93a3-1df2c69b08c9"
      },
      "source": [
        "y[:,1:3] = 2\n",
        "y"
      ],
      "execution_count": 35,
      "outputs": [
        {
          "output_type": "execute_result",
          "data": {
            "text/plain": [
              "\n",
              "[[-0.68570805  2.          2.        ]\n",
              " [ 0.38699007  2.          2.        ]]\n",
              "<NDArray 2x3 @cpu(0)>"
            ]
          },
          "metadata": {
            "tags": []
          },
          "execution_count": 35
        }
      ]
    },
    {
      "cell_type": "code",
      "metadata": {
        "colab": {
          "base_uri": "https://localhost:8080/"
        },
        "id": "HOY5etTujb4t",
        "outputId": "8be48682-40e8-4066-f2a8-62f2ea7c997c"
      },
      "source": [
        "y[1:2,0:2] = 4\n",
        "y"
      ],
      "execution_count": 36,
      "outputs": [
        {
          "output_type": "execute_result",
          "data": {
            "text/plain": [
              "\n",
              "[[-0.68570805  2.          2.        ]\n",
              " [ 4.          4.          2.        ]]\n",
              "<NDArray 2x3 @cpu(0)>"
            ]
          },
          "metadata": {
            "tags": []
          },
          "execution_count": 36
        }
      ]
    },
    {
      "cell_type": "code",
      "metadata": {
        "colab": {
          "base_uri": "https://localhost:8080/"
        },
        "id": "lUWqKrxkje6T",
        "outputId": "6e32c01d-5199-4cf7-aa59-3fc6567517ee"
      },
      "source": [
        "a = x.asnumpy()\n",
        "(type(a), a)"
      ],
      "execution_count": 37,
      "outputs": [
        {
          "output_type": "execute_result",
          "data": {
            "text/plain": [
              "(numpy.ndarray, array([[1., 1., 1.],\n",
              "        [1., 1., 1.]], dtype=float32))"
            ]
          },
          "metadata": {
            "tags": []
          },
          "execution_count": 37
        }
      ]
    },
    {
      "cell_type": "code",
      "metadata": {
        "colab": {
          "base_uri": "https://localhost:8080/"
        },
        "id": "Argrc9m_jlGV",
        "outputId": "c86c16ad-aae8-422e-acf9-7724cf728b1d"
      },
      "source": [
        "nd.array(a)"
      ],
      "execution_count": 38,
      "outputs": [
        {
          "output_type": "execute_result",
          "data": {
            "text/plain": [
              "\n",
              "[[1. 1. 1.]\n",
              " [1. 1. 1.]]\n",
              "<NDArray 2x3 @cpu(0)>"
            ]
          },
          "metadata": {
            "tags": []
          },
          "execution_count": 38
        }
      ]
    },
    {
      "cell_type": "markdown",
      "metadata": {
        "id": "o0I3X03fjq-n"
      },
      "source": [
        "# **Create a neural network**"
      ]
    },
    {
      "cell_type": "code",
      "metadata": {
        "id": "8E8M6IHgjtMu"
      },
      "source": [
        "from mxnet import nd\n",
        "from mxnet.gluon import nn"
      ],
      "execution_count": 39,
      "outputs": []
    },
    {
      "cell_type": "code",
      "metadata": {
        "colab": {
          "base_uri": "https://localhost:8080/"
        },
        "id": "iFpxbS0TjxOm",
        "outputId": "873b543e-e2d3-4e5a-dcf2-f7f2eb962c75"
      },
      "source": [
        "layer = nn.Dense(2)\n",
        "layer"
      ],
      "execution_count": 40,
      "outputs": [
        {
          "output_type": "execute_result",
          "data": {
            "text/plain": [
              "Dense(None -> 2, linear)"
            ]
          },
          "metadata": {
            "tags": []
          },
          "execution_count": 40
        }
      ]
    },
    {
      "cell_type": "code",
      "metadata": {
        "id": "GKTVfG2YTgUt"
      },
      "source": [
        "layer.initialize()"
      ],
      "execution_count": 41,
      "outputs": []
    },
    {
      "cell_type": "code",
      "metadata": {
        "colab": {
          "base_uri": "https://localhost:8080/"
        },
        "id": "3p94AgR_TaMG",
        "outputId": "07fea7eb-9eaf-4023-c73e-71a753c320a9"
      },
      "source": [
        "x = nd.random.uniform(-1,1,(3,4))\n",
        "layer(x)\n"
      ],
      "execution_count": 42,
      "outputs": [
        {
          "output_type": "execute_result",
          "data": {
            "text/plain": [
              "\n",
              "[[-0.01662923  0.06106782]\n",
              " [ 0.03683347 -0.03663786]\n",
              " [-0.0099416   0.09988014]]\n",
              "<NDArray 3x2 @cpu(0)>"
            ]
          },
          "metadata": {
            "tags": []
          },
          "execution_count": 42
        }
      ]
    },
    {
      "cell_type": "code",
      "metadata": {
        "colab": {
          "base_uri": "https://localhost:8080/"
        },
        "id": "gCELZxjwTk6t",
        "outputId": "ebb20c3a-c59b-488a-bf6d-35fefb392176"
      },
      "source": [
        "layer.weight.data()"
      ],
      "execution_count": 43,
      "outputs": [
        {
          "output_type": "execute_result",
          "data": {
            "text/plain": [
              "\n",
              "[[ 0.03126474  0.017447    0.01159232 -0.03893754]\n",
              " [ 0.06324176  0.05514552 -0.04867891  0.05439345]]\n",
              "<NDArray 2x4 @cpu(0)>"
            ]
          },
          "metadata": {
            "tags": []
          },
          "execution_count": 43
        }
      ]
    },
    {
      "cell_type": "code",
      "metadata": {
        "colab": {
          "base_uri": "https://localhost:8080/"
        },
        "id": "r0_YovudTl0-",
        "outputId": "680f12d7-36ec-40c5-f775-7394f6bbfe66"
      },
      "source": [
        "net = nn.Sequential()\n",
        "# Add a sequence of layers.\n",
        "net.add(# Similar to Dense, it is not necessary to specify the input channels\n",
        "        # by the argument `in_channels`, which will be  automatically inferred\n",
        "        # in the first forward pass. Also, we apply a relu activation on the\n",
        "        # output. In addition, we can use a tuple to specify a  non-square\n",
        "        # kernel size, such as `kernel_size=(2,4)`\n",
        "        nn.Conv2D(channels=6, kernel_size=5, activation='relu'),\n",
        "        # One can also use a tuple to specify non-symmetric pool and stride sizes\n",
        "        nn.MaxPool2D(pool_size=2, strides=2),\n",
        "        nn.Conv2D(channels=16, kernel_size=3, activation='relu'),\n",
        "        nn.MaxPool2D(pool_size=2, strides=2),\n",
        "        # The dense layer will automatically reshape the 4-D output of last\n",
        "        # max pooling layer into the 2-D shape: (x.shape[0], x.size/x.shape[0])\n",
        "        nn.Dense(120, activation=\"relu\"),\n",
        "        nn.Dense(84, activation=\"relu\"),\n",
        "        nn.Dense(10))\n",
        "net"
      ],
      "execution_count": 44,
      "outputs": [
        {
          "output_type": "execute_result",
          "data": {
            "text/plain": [
              "Sequential(\n",
              "  (0): Conv2D(None -> 6, kernel_size=(5, 5), stride=(1, 1), Activation(relu))\n",
              "  (1): MaxPool2D(size=(2, 2), stride=(2, 2), padding=(0, 0), ceil_mode=False, global_pool=False, pool_type=max, layout=NCHW)\n",
              "  (2): Conv2D(None -> 16, kernel_size=(3, 3), stride=(1, 1), Activation(relu))\n",
              "  (3): MaxPool2D(size=(2, 2), stride=(2, 2), padding=(0, 0), ceil_mode=False, global_pool=False, pool_type=max, layout=NCHW)\n",
              "  (4): Dense(None -> 120, Activation(relu))\n",
              "  (5): Dense(None -> 84, Activation(relu))\n",
              "  (6): Dense(None -> 10, linear)\n",
              ")"
            ]
          },
          "metadata": {
            "tags": []
          },
          "execution_count": 44
        }
      ]
    },
    {
      "cell_type": "code",
      "metadata": {
        "colab": {
          "base_uri": "https://localhost:8080/"
        },
        "id": "yazyos_cTmD9",
        "outputId": "9590e5ef-18eb-4bac-b996-4d1a758beda7"
      },
      "source": [
        "net.initialize()\n",
        "# Input shape is (batch_size, color_channels, height, width)\n",
        "x = nd.random.uniform(shape=(4,1,28,28))\n",
        "y = net(x)\n",
        "y.shape"
      ],
      "execution_count": 45,
      "outputs": [
        {
          "output_type": "execute_result",
          "data": {
            "text/plain": [
              "(4, 10)"
            ]
          },
          "metadata": {
            "tags": []
          },
          "execution_count": 45
        }
      ]
    },
    {
      "cell_type": "code",
      "metadata": {
        "colab": {
          "base_uri": "https://localhost:8080/"
        },
        "id": "YQ3UlVGWTmQC",
        "outputId": "9160d740-60a2-4da3-9ba0-3edab6829675"
      },
      "source": [
        "(net[0].weight.data().shape, net[5].bias.data().shape)"
      ],
      "execution_count": 46,
      "outputs": [
        {
          "output_type": "execute_result",
          "data": {
            "text/plain": [
              "((6, 1, 5, 5), (84,))"
            ]
          },
          "metadata": {
            "tags": []
          },
          "execution_count": 46
        }
      ]
    },
    {
      "cell_type": "code",
      "metadata": {
        "colab": {
          "base_uri": "https://localhost:8080/"
        },
        "id": "5lJlCbKBTmXh",
        "outputId": "11cae284-ace4-4736-c8fb-0f9fd5a607f3"
      },
      "source": [
        "class MixMLP(nn.Block):\n",
        "    def __init__(self, **kwargs):\n",
        "        # Run `nn.Block`'s init method\n",
        "        super(MixMLP, self).__init__(**kwargs)\n",
        "        self.blk = nn.Sequential()\n",
        "        self.blk.add(nn.Dense(3, activation='relu'),\n",
        "                     nn.Dense(4, activation='relu'))\n",
        "        self.dense = nn.Dense(5)\n",
        "    def forward(self, x):\n",
        "        y = nd.relu(self.blk(x))\n",
        "        print(y)\n",
        "        return self.dense(y)\n",
        "\n",
        "net = MixMLP()\n",
        "net"
      ],
      "execution_count": 47,
      "outputs": [
        {
          "output_type": "execute_result",
          "data": {
            "text/plain": [
              "MixMLP(\n",
              "  (blk): Sequential(\n",
              "    (0): Dense(None -> 3, Activation(relu))\n",
              "    (1): Dense(None -> 4, Activation(relu))\n",
              "  )\n",
              "  (dense): Dense(None -> 5, linear)\n",
              ")"
            ]
          },
          "metadata": {
            "tags": []
          },
          "execution_count": 47
        }
      ]
    },
    {
      "cell_type": "code",
      "metadata": {
        "colab": {
          "base_uri": "https://localhost:8080/"
        },
        "id": "UfjotGUQTme2",
        "outputId": "c44cfaa5-1be8-4f55-d960-c16efcbda373"
      },
      "source": [
        "net.initialize()\n",
        "x = nd.random.uniform(shape=(2,2))\n",
        "net(x)"
      ],
      "execution_count": 48,
      "outputs": [
        {
          "output_type": "stream",
          "text": [
            "\n",
            "[[0. 0. 0. 0.]\n",
            " [0. 0. 0. 0.]]\n",
            "<NDArray 2x4 @cpu(0)>\n"
          ],
          "name": "stdout"
        },
        {
          "output_type": "execute_result",
          "data": {
            "text/plain": [
              "\n",
              "[[0. 0. 0. 0. 0.]\n",
              " [0. 0. 0. 0. 0.]]\n",
              "<NDArray 2x5 @cpu(0)>"
            ]
          },
          "metadata": {
            "tags": []
          },
          "execution_count": 48
        }
      ]
    },
    {
      "cell_type": "code",
      "metadata": {
        "colab": {
          "base_uri": "https://localhost:8080/"
        },
        "id": "5_s0AMHrTmje",
        "outputId": "e1978106-4a46-45ad-b74f-376895732e30"
      },
      "source": [
        "net.blk[1].weight.data()"
      ],
      "execution_count": 49,
      "outputs": [
        {
          "output_type": "execute_result",
          "data": {
            "text/plain": [
              "\n",
              "[[ 0.04793114 -0.00180743  0.03089273]\n",
              " [ 0.03962107  0.02081677 -0.06987108]\n",
              " [ 0.05730059  0.00376511 -0.00151725]\n",
              " [ 0.0646903   0.00878946 -0.00665336]]\n",
              "<NDArray 4x3 @cpu(0)>"
            ]
          },
          "metadata": {
            "tags": []
          },
          "execution_count": 49
        }
      ]
    },
    {
      "cell_type": "markdown",
      "metadata": {
        "id": "2KMFIGgjT_x7"
      },
      "source": [
        "# **Automatic differentiation with autograd**"
      ]
    },
    {
      "cell_type": "code",
      "metadata": {
        "id": "1C0gzvNdTmnW"
      },
      "source": [
        "from mxnet import nd\n",
        "from mxnet import autograd"
      ],
      "execution_count": 50,
      "outputs": []
    },
    {
      "cell_type": "code",
      "metadata": {
        "colab": {
          "base_uri": "https://localhost:8080/"
        },
        "id": "ggwOdp1gTmq9",
        "outputId": "a1cb9501-9183-4fed-dd41-8de02daaa13b"
      },
      "source": [
        "x = nd.array([[1, 2], [3, 4]])\n",
        "x"
      ],
      "execution_count": 51,
      "outputs": [
        {
          "output_type": "execute_result",
          "data": {
            "text/plain": [
              "\n",
              "[[1. 2.]\n",
              " [3. 4.]]\n",
              "<NDArray 2x2 @cpu(0)>"
            ]
          },
          "metadata": {
            "tags": []
          },
          "execution_count": 51
        }
      ]
    },
    {
      "cell_type": "code",
      "metadata": {
        "id": "HWXN8REITmuY"
      },
      "source": [
        "x.attach_grad()\n"
      ],
      "execution_count": 52,
      "outputs": []
    },
    {
      "cell_type": "code",
      "metadata": {
        "id": "feIyqZrnTmx9"
      },
      "source": [
        "with autograd.record():\n",
        "    y = 2 * x * x"
      ],
      "execution_count": 53,
      "outputs": []
    },
    {
      "cell_type": "code",
      "metadata": {
        "id": "ogXepCkcTm1b"
      },
      "source": [
        "y.backward()"
      ],
      "execution_count": 54,
      "outputs": []
    },
    {
      "cell_type": "code",
      "metadata": {
        "colab": {
          "base_uri": "https://localhost:8080/"
        },
        "id": "orO2A5XdTnD-",
        "outputId": "f9ec7d9b-ebed-4154-e1b1-e9cf7c59cd05"
      },
      "source": [
        "x.grad"
      ],
      "execution_count": 55,
      "outputs": [
        {
          "output_type": "execute_result",
          "data": {
            "text/plain": [
              "\n",
              "[[ 4.  8.]\n",
              " [12. 16.]]\n",
              "<NDArray 2x2 @cpu(0)>"
            ]
          },
          "metadata": {
            "tags": []
          },
          "execution_count": 55
        }
      ]
    },
    {
      "cell_type": "code",
      "metadata": {
        "id": "fkofdWpkTnHR"
      },
      "source": [
        "def f(a):\n",
        "    b = a * 2\n",
        "    while b.norm().asscalar() < 1000:\n",
        "        b = b * 2\n",
        "    if b.sum().asscalar() >= 0:\n",
        "        c = b[0]\n",
        "    else:\n",
        "        c = b[1]\n",
        "    return c"
      ],
      "execution_count": 56,
      "outputs": []
    },
    {
      "cell_type": "code",
      "metadata": {
        "id": "HrGJWgQuTnKF"
      },
      "source": [
        "a = nd.random.uniform(shape=2)\n",
        "a.attach_grad()\n",
        "with autograd.record():\n",
        "    c = f(a)\n",
        "c.backward()"
      ],
      "execution_count": 57,
      "outputs": []
    },
    {
      "cell_type": "code",
      "metadata": {
        "colab": {
          "base_uri": "https://localhost:8080/"
        },
        "id": "DSLxStJQUWpi",
        "outputId": "f5d766c9-1f1d-4b15-dd0d-a617d3b83ac4"
      },
      "source": [
        "[a.grad, c/a]"
      ],
      "execution_count": 58,
      "outputs": [
        {
          "output_type": "execute_result",
          "data": {
            "text/plain": [
              "[\n",
              " [4096.    0.]\n",
              " <NDArray 2 @cpu(0)>, \n",
              " [4096.     5878.3145]\n",
              " <NDArray 2 @cpu(0)>]"
            ]
          },
          "metadata": {
            "tags": []
          },
          "execution_count": 58
        }
      ]
    },
    {
      "cell_type": "markdown",
      "metadata": {
        "id": "tgw6peHGUeOd"
      },
      "source": [
        "# **Train the neural network**"
      ]
    },
    {
      "cell_type": "code",
      "metadata": {
        "id": "ydU5VW94Ul77"
      },
      "source": [
        "from mxnet import nd, gluon, init, autograd\n",
        "from mxnet.gluon import nn\n",
        "from mxnet.gluon.data.vision import datasets, transforms\n",
        "from IPython import display\n",
        "import matplotlib.pyplot as plt\n",
        "import time"
      ],
      "execution_count": 59,
      "outputs": []
    },
    {
      "cell_type": "code",
      "metadata": {
        "colab": {
          "base_uri": "https://localhost:8080/"
        },
        "id": "WynO5cLcUpf_",
        "outputId": "681401e3-91bd-4c50-a484-b96df12866fd"
      },
      "source": [
        "mnist_train = datasets.FashionMNIST(train=True)\n",
        "X, y = mnist_train[0]\n",
        "('X shape: ', X.shape, 'X dtype', X.dtype, 'y:', y)"
      ],
      "execution_count": 60,
      "outputs": [
        {
          "output_type": "stream",
          "text": [
            "Downloading /root/.mxnet/datasets/fashion-mnist/train-images-idx3-ubyte.gz from https://apache-mxnet.s3-accelerate.dualstack.amazonaws.com/gluon/dataset/fashion-mnist/train-images-idx3-ubyte.gz...\n",
            "Downloading /root/.mxnet/datasets/fashion-mnist/train-labels-idx1-ubyte.gz from https://apache-mxnet.s3-accelerate.dualstack.amazonaws.com/gluon/dataset/fashion-mnist/train-labels-idx1-ubyte.gz...\n"
          ],
          "name": "stdout"
        },
        {
          "output_type": "execute_result",
          "data": {
            "text/plain": [
              "('X shape: ', (28, 28, 1), 'X dtype', numpy.uint8, 'y:', 2)"
            ]
          },
          "metadata": {
            "tags": []
          },
          "execution_count": 60
        }
      ]
    },
    {
      "cell_type": "code",
      "metadata": {
        "colab": {
          "base_uri": "https://localhost:8080/",
          "height": 181
        },
        "id": "7YoBKKhmUp3W",
        "outputId": "7af6e7b6-0d0c-4ecb-b2cd-775982c8571b"
      },
      "source": [
        "text_labels = ['t-shirt', 'trouser', 'pullover', 'dress', 'coat',\n",
        "               'sandal', 'shirt', 'sneaker', 'bag', 'ankle boot']\n",
        "X, y = mnist_train[0:10]\n",
        "# plot images\n",
        "display.set_matplotlib_formats('svg')\n",
        "_, figs = plt.subplots(1, X.shape[0], figsize=(15, 15))\n",
        "for f,x,yi in zip(figs, X,y):\n",
        "    # 3D->2D by removing the last channel dim\n",
        "    f.imshow(x.reshape((28,28)).asnumpy())\n",
        "    ax = f.axes\n",
        "    ax.set_title(text_labels[int(yi)])\n",
        "    ax.title.set_fontsize(14)\n",
        "    ax.get_xaxis().set_visible(False)\n",
        "    ax.get_yaxis().set_visible(False)\n",
        "plt.show()"
      ],
      "execution_count": 61,
      "outputs": [
        {
          "output_type": "display_data",
          "data": {
            "text/plain": [
              "<Figure size 1080x1080 with 10 Axes>"
            ],
            "image/svg+xml": "<?xml version=\"1.0\" encoding=\"utf-8\" standalone=\"no\"?>\n<!DOCTYPE svg PUBLIC \"-//W3C//DTD SVG 1.1//EN\"\n  \"http://www.w3.org/Graphics/SVG/1.1/DTD/svg11.dtd\">\n<!-- Created with matplotlib (https://matplotlib.org/) -->\n<svg height=\"105.470016pt\" version=\"1.1\" viewBox=\"0 0 854.9 105.470016\" width=\"854.9pt\" xmlns=\"http://www.w3.org/2000/svg\" xmlns:xlink=\"http://www.w3.org/1999/xlink\">\n <defs>\n  <style type=\"text/css\">\n*{stroke-linecap:butt;stroke-linejoin:round;}\n  </style>\n </defs>\n <g id=\"figure_1\">\n  <g id=\"patch_1\">\n   <path d=\"M 0 105.470016 \nL 854.9 105.470016 \nL 854.9 -0 \nL 0 -0 \nz\n\" style=\"fill:none;\"/>\n  </g>\n  <g id=\"axes_1\">\n   <g id=\"patch_2\">\n    <path d=\"M 10.7 94.770016 \nL 81.632203 94.770016 \nL 81.632203 23.837812 \nL 10.7 23.837812 \nz\n\" style=\"fill:#ffffff;\"/>\n   </g>\n   <g clip-path=\"url(#p96a40efd97)\">\n    <image height=\"71\" id=\"image3c33ce9b2a\" transform=\"scale(1 -1)translate(0 -71)\" width=\"71\" x=\"10.7\" xlink:href=\"data:image/png;base64,\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\" y=\"-23.770016\"/>\n   </g>\n   <g id=\"patch_3\">\n    <path d=\"M 10.7 94.770016 \nL 10.7 23.837812 \n\" style=\"fill:none;stroke:#000000;stroke-linecap:square;stroke-linejoin:miter;stroke-width:0.8;\"/>\n   </g>\n   <g id=\"patch_4\">\n    <path d=\"M 81.632203 94.770016 \nL 81.632203 23.837812 \n\" style=\"fill:none;stroke:#000000;stroke-linecap:square;stroke-linejoin:miter;stroke-width:0.8;\"/>\n   </g>\n   <g id=\"patch_5\">\n    <path d=\"M 10.7 94.770016 \nL 81.632203 94.770016 \n\" style=\"fill:none;stroke:#000000;stroke-linecap:square;stroke-linejoin:miter;stroke-width:0.8;\"/>\n   </g>\n   <g id=\"patch_6\">\n    <path d=\"M 10.7 23.837812 \nL 81.632203 23.837812 \n\" style=\"fill:none;stroke:#000000;stroke-linecap:square;stroke-linejoin:miter;stroke-width:0.8;\"/>\n   </g>\n   <g id=\"text_1\">\n    <!-- pullover -->\n    <defs>\n     <path d=\"M 18.109375 8.203125 \nL 18.109375 -20.796875 \nL 9.078125 -20.796875 \nL 9.078125 54.6875 \nL 18.109375 54.6875 \nL 18.109375 46.390625 \nQ 20.953125 51.265625 25.265625 53.625 \nQ 29.59375 56 35.59375 56 \nQ 45.5625 56 51.78125 48.09375 \nQ 58.015625 40.1875 58.015625 27.296875 \nQ 58.015625 14.40625 51.78125 6.484375 \nQ 45.5625 -1.421875 35.59375 -1.421875 \nQ 29.59375 -1.421875 25.265625 0.953125 \nQ 20.953125 3.328125 18.109375 8.203125 \nz\nM 48.6875 27.296875 \nQ 48.6875 37.203125 44.609375 42.84375 \nQ 40.53125 48.484375 33.40625 48.484375 \nQ 26.265625 48.484375 22.1875 42.84375 \nQ 18.109375 37.203125 18.109375 27.296875 \nQ 18.109375 17.390625 22.1875 11.75 \nQ 26.265625 6.109375 33.40625 6.109375 \nQ 40.53125 6.109375 44.609375 11.75 \nQ 48.6875 17.390625 48.6875 27.296875 \nz\n\" id=\"DejaVuSans-112\"/>\n     <path d=\"M 8.5 21.578125 \nL 8.5 54.6875 \nL 17.484375 54.6875 \nL 17.484375 21.921875 \nQ 17.484375 14.15625 20.5 10.265625 \nQ 23.53125 6.390625 29.59375 6.390625 \nQ 36.859375 6.390625 41.078125 11.03125 \nQ 45.3125 15.671875 45.3125 23.6875 \nL 45.3125 54.6875 \nL 54.296875 54.6875 \nL 54.296875 0 \nL 45.3125 0 \nL 45.3125 8.40625 \nQ 42.046875 3.421875 37.71875 1 \nQ 33.40625 -1.421875 27.6875 -1.421875 \nQ 18.265625 -1.421875 13.375 4.4375 \nQ 8.5 10.296875 8.5 21.578125 \nz\nM 31.109375 56 \nz\n\" id=\"DejaVuSans-117\"/>\n     <path d=\"M 9.421875 75.984375 \nL 18.40625 75.984375 \nL 18.40625 0 \nL 9.421875 0 \nz\n\" id=\"DejaVuSans-108\"/>\n     <path d=\"M 30.609375 48.390625 \nQ 23.390625 48.390625 19.1875 42.75 \nQ 14.984375 37.109375 14.984375 27.296875 \nQ 14.984375 17.484375 19.15625 11.84375 \nQ 23.34375 6.203125 30.609375 6.203125 \nQ 37.796875 6.203125 41.984375 11.859375 \nQ 46.1875 17.53125 46.1875 27.296875 \nQ 46.1875 37.015625 41.984375 42.703125 \nQ 37.796875 48.390625 30.609375 48.390625 \nz\nM 30.609375 56 \nQ 42.328125 56 49.015625 48.375 \nQ 55.71875 40.765625 55.71875 27.296875 \nQ 55.71875 13.875 49.015625 6.21875 \nQ 42.328125 -1.421875 30.609375 -1.421875 \nQ 18.84375 -1.421875 12.171875 6.21875 \nQ 5.515625 13.875 5.515625 27.296875 \nQ 5.515625 40.765625 12.171875 48.375 \nQ 18.84375 56 30.609375 56 \nz\n\" id=\"DejaVuSans-111\"/>\n     <path d=\"M 2.984375 54.6875 \nL 12.5 54.6875 \nL 29.59375 8.796875 \nL 46.6875 54.6875 \nL 56.203125 54.6875 \nL 35.6875 0 \nL 23.484375 0 \nz\n\" id=\"DejaVuSans-118\"/>\n     <path d=\"M 56.203125 29.59375 \nL 56.203125 25.203125 \nL 14.890625 25.203125 \nQ 15.484375 15.921875 20.484375 11.0625 \nQ 25.484375 6.203125 34.421875 6.203125 \nQ 39.59375 6.203125 44.453125 7.46875 \nQ 49.3125 8.734375 54.109375 11.28125 \nL 54.109375 2.78125 \nQ 49.265625 0.734375 44.1875 -0.34375 \nQ 39.109375 -1.421875 33.890625 -1.421875 \nQ 20.796875 -1.421875 13.15625 6.1875 \nQ 5.515625 13.8125 5.515625 26.8125 \nQ 5.515625 40.234375 12.765625 48.109375 \nQ 20.015625 56 32.328125 56 \nQ 43.359375 56 49.78125 48.890625 \nQ 56.203125 41.796875 56.203125 29.59375 \nz\nM 47.21875 32.234375 \nQ 47.125 39.59375 43.09375 43.984375 \nQ 39.0625 48.390625 32.421875 48.390625 \nQ 24.90625 48.390625 20.390625 44.140625 \nQ 15.875 39.890625 15.1875 32.171875 \nz\n\" id=\"DejaVuSans-101\"/>\n     <path d=\"M 41.109375 46.296875 \nQ 39.59375 47.171875 37.8125 47.578125 \nQ 36.03125 48 33.890625 48 \nQ 26.265625 48 22.1875 43.046875 \nQ 18.109375 38.09375 18.109375 28.8125 \nL 18.109375 0 \nL 9.078125 0 \nL 9.078125 54.6875 \nL 18.109375 54.6875 \nL 18.109375 46.1875 \nQ 20.953125 51.171875 25.484375 53.578125 \nQ 30.03125 56 36.53125 56 \nQ 37.453125 56 38.578125 55.875 \nQ 39.703125 55.765625 41.0625 55.515625 \nz\n\" id=\"DejaVuSans-114\"/>\n    </defs>\n    <g transform=\"translate(17.785477 17.837812)scale(0.14 -0.14)\">\n     <use xlink:href=\"#DejaVuSans-112\"/>\n     <use x=\"63.476562\" xlink:href=\"#DejaVuSans-117\"/>\n     <use x=\"126.855469\" xlink:href=\"#DejaVuSans-108\"/>\n     <use x=\"154.638672\" xlink:href=\"#DejaVuSans-108\"/>\n     <use x=\"182.421875\" xlink:href=\"#DejaVuSans-111\"/>\n     <use x=\"243.603516\" xlink:href=\"#DejaVuSans-118\"/>\n     <use x=\"302.783203\" xlink:href=\"#DejaVuSans-101\"/>\n     <use x=\"364.306641\" xlink:href=\"#DejaVuSans-114\"/>\n    </g>\n   </g>\n  </g>\n  <g id=\"axes_2\">\n   <g id=\"patch_7\">\n    <path d=\"M 95.818644 94.770016 \nL 166.750847 94.770016 \nL 166.750847 23.837812 \nL 95.818644 23.837812 \nz\n\" style=\"fill:#ffffff;\"/>\n   </g>\n   <g clip-path=\"url(#p31427d830e)\">\n    <image height=\"71\" id=\"image5b0acd5500\" transform=\"scale(1 -1)translate(0 -71)\" width=\"71\" x=\"95.818644\" xlink:href=\"data:image/png;base64,\niVBORw0KGgoAAAANSUhEUgAAAEcAAABHCAYAAABVsFofAAAABHNCSVQICAgIfAhkiAAAFLFJREFUeJztm1mPZMl1338nIu6Way1dvU6rOd0zpEjRi0AKFmTBAGG9+kWwHwUIfvGjv4I/iD+B4Vc/WA8GTFGkYFm0SZAjkrP3Ul3dtWblcpfY/BA3s6t6emqGEIczhPsAiay+mXkj7j/O+Z//OREtfyb/NvLaXmnqy57AV9leg3OFvQbnCnsNzhX2Gpwr7DU4V9hrcK6w1+BcYa/BucLM5i8REAUxQPwKiGalESWv/CiGCMF/4VMwn7giCuIXP/BnmSgBrT/5QYjAb2d+L8CJEQif/IYIojVqa4oUBXFQEqYDQqbpdnLsUOMzcKWAgmAgKoEIEiNEUA7Eg0SQAEQo5p7s3KMbhzmcI01HnM/xZ7M0nRCRTwMhvpinZDmiFfLmXc6/tYPPBQSiXBjv0m9BQkRi+g4iKBvJ5g5tA/nHx7iPHr4Ezgagy8AgCqkq4u097LSivpGzuK2xQ1i91bF17YxroyXfmDxnaFpuZOdM9QobNatQYKPmaTdlZits0HRB0/iMdx7fgv2S/Kxg5xclxZmj+DiD2XmaR/AXMXi1iaCqEoqC0z/cZfbnC3ZGKwrjMBLSWM4Qo/RfjzivaZ0mRsGogFKB+bLEHwwwC+H2D26QP3wCwb8AR7IcyTMkM0hVgTGgBJQiVgX17THdRFPvCM0uuEFksFVzYzzn1uCce9URA9Vx08wYqxqLpgk5NmoKZZmZATZq2mBog+HpdMJRrenEUF9T+DxDdVvk7i44D84RfQDbEZuWGCOx6y4voCgoCqQssEPhxnTO3dEpWiKKSBsMjTeEHpwQFV3Q1C7DB0WmPUYCSuBokmO1xg0UhZIE3noF9N3bNF/bpd0xHH9b0+54EEBB1BE96cjzmiJzXC9btAqM85ZSW2qf8ZPzuwAoCZvJKYn9pISAoIgYlULlza1j9oYLVjbn8M0hc6s5qDNobqJqRXmoMDUMnwbGHy5RK4t6/BQ/O994ucoz4u1rdDsVqxvCH06OuF2esd9sMXcFIcpmDl0wuKBovaFxBh8Utc0IMfnA3o0ZjTXUu1uMR0OidS88x28PWbyRs7opjL57xPduPMSIR0kkE8+1bEGhLCEqPEIbMvbbLc5tycplHNshLig6r/FBYVTYuLdWAaMCuXIMTEcmgdvVjNGoTYNfZwOiR/G0mfC/Ht1jNS9wVY5pKvLzjOKoRBZLou+5SGvcuKDZzbCTyO3yjOvZOYfdmMZlGOUxKmzubUOam/MaHwQXFN4rytxyZzwnROHRcDt5o9YY+2ffIWrh7K2c87cCYWK5O1ygiNQ+p/YZAI/qbUIUOp9c1UfFostpbVoRaw0xQoxCjKBUxJiASPIgoz1aRXKdAK+MpTIWJSFd672qUJ7GZ4wHLVoHVg+g28pQnab8Zw8wq/tkq0g+DwQjLG9pujG4nY7jboQNmnNbEhBc0CiJyXP70HJB0ViD94oYhRCEYNL4SE/gbZs858N/p0DBvXv7/MXtn+IRnncTap8zsyWH9YjGGY7PRrjWEDuFdAoCSEhZ6TJJQlRpoK6XmFFH6K+hI0hEdERURKlIXli0DgyLjkmeQvbe9ASjAvfvH/EHgydoAh6Fj8LfnL/Nj/a/RggKpQK5RLaLjv16woGMaXyG671XBfUitKPQeU1T5wT/QkN1RqMkoEhZNSxrorMYM7aICtwcnnMvP6KJWQ9ORuMzaptRd1kCptGIFVTXg9KvRsqZPRAqgRaFDXkKyZsQejCFGCJRRaKOWKUJQdFpT2c0pr+ZIjI1NXfMKaVYSnEoicxDxbPtCY2/nIm6YDbeEXswQnxRBKz556IlT39JbPZC2LhFBgKP51v8dHSXhSv4v6dvcFaX1G1OW2dErxIwXog64qsejCwgpveEtWesxw9CDC8Eh6zHV5cnKCoJjhCgc4ZFm3Te0WJIiMLjxRY/Ku9jlN/wlZLIjSoRs+4f+KyrOG6GuAtghCCXSFlLoDSOatDivcJ2Bu9UooCemxBSFgSMNAoEZnXJ43qbuSt4dj6mXuWEViON7gVdP6IBTAQdySpLljuUimQ6kaQPKhGrVzib9MRFONYYRXih1IAY0m9a0em9yQlOWMxL9vU0JYbcYXTgznTGP996TKEcWkLiC+BZPcZ6/SJLSgQFPiZglKR5DnKL9YrQE/KaFxVxEwyIYMwicU7XGYzy5MqTaU+nAxQQ1t6w+VHPF/0EnNMoFQnhk3VQ8ooIQV26xRqkuAZmTZZW46xO4WBV8jwJCJEYBedS+B2thvxM3caIp9QOozznXUXrDL73FCGFUYySxB8KJZHWmQtJRBM6jStSmaIkJlrIDMSAGRwIUcP8ZkalLQCDosMFtQHgovv6zSTTe+zUpSfWOqB0clHVh5AnQE+M6zsq6QGOQggqYdiZFyy+9jCJYNLvXKeJQWiXOYfPJ4iKmNxjMr/xXpGIVnHjDetn8D0PdU7TdobgFX5lkEbT5YmrMuWJBqQokufoJhJ1cutCuf5LYTOQEi4N5LxG6Nk/CCHqRLb9U18kuIvgvmzrFV2nfi7cI6HXp1Yd0T3YnkQB0Qk4RZSIE1LW0h5yUCoQY5rrev4JnDQvHxS+X1ycQqwQXVoQRfIctEIygxkcBoKBMxX51+Ofs4oFM1vxWG9tfgAQSOSWFQ0D06UwiBoXFLXLWHY5zitWTY5ba55wAaSXEwIgURMDhE5DEPTAUWzV5MZzfbSgMpbS2I1HQ/LchS2Y9WF0tqroWkPwmtW8F/w6JQCRiPREG9cZzAmxNogXzFxhaqHtPafSFp+DjEfgPKY86giZAon8UTFjHgP/uzzbiL+1PnBB46JiK6+5U52hCWQqiafDbszj1Ra1y3hsDV3dZ6p+RaIJiH5FGgWiF7BJN5nM8cbWjGlR853pQ25kMxSBXHwSi+JRBA7cFk+6bU7tgL87/D1O7JBghbhK8RcViegVSVel1U0E6gRdK8QJ2UIwK7DjtHKFssQMwrBCrMOYWU3MNMX7U/7Dg39D5w3vPL2BXeXphrHXNGvBVwSyyqJ0YFi1lJlDS6QwKSSHZYfRAdenyhCF6HuwXt27SiaQ5469asEkayiU7Z9J0UQFEax4NIEQhUIcI91yY7AgU4F5UzDXFcEL0SpwFwaTCBrERKLq1bID1YFyQuyLKI9K2UoLBIXhvYeICG8ubnHy1/cAuGcDEiziAuJDUsPeQ4BYGvwwwxcZ8zsjFlNhdSsy+v1TplXD17cPuVXOOLMDnjVjapexfzahnpcJ3J4sPyG8BHaHK/7F9EMKZcklgb0MBauQA6D7EFcSGOuGsW64dS31fx5327y/uMa8K/nwcAd7XvTiNG6IW5tACIIfKKIXLEVagDLJARc0SCRmKXuZsFqluX30iPxZmQSQVundOaJz4H0q9rxHqop8OICqhHCNZpXhS8VyVaBUgBEMdIeNmpHJMeIxerQBZe096/R80XLlmeoluXi6mCYYosIGs6nqAUplyZQlE89E1ZS9ly3Lglx5HmdTrL7Ac72e0jqgVOKiIAqbhQSEfsGr6fu9aLwv3/pP6QIQAtFasBacA2uJ1oHveyshJPnqPXQdWRMpzhyDE0EflMT3Bzzcv85PHt/jH05usDIaFw07gxV3tmeMhi1eBNGxL/oUOIVapbKkG0SGlaOOBTeyGTt6RRMzTvyIgEoVvgQCii4ampDTxIxlKOiiodKWaV4jGZQji9PQzQvoFMErnE2tCmNC0mYGfBHJxx3XRkvaYDj+6R7bf/sMmS8vdAKDJ7Z+g9OnWbQd0aZsxdks9YKAqShUWcD938PuDTh9u+C0GhGmK76x9Zw/nrzPw26XH3KfeVswCwrXZynVCuJhuSx5f7HH7cGMb1eP2dNzjn2qtAEy7dGAjZompIQx9yVaAiPd8EZ+DMC2WbLwJT9QD/jl/hjVKKLt27ilh8JhjCfLHIygzBxdMCysJltE/LNDou1e0WD/dW3dmYue2HXoxQqTaQZHGcuPCs4nOT90msNro/SAyrNV1r18F6xAyDWqE3yneDKf0njDo8EuikATMka63Qzno8JHhX6pORyiYh4qNAFNZKQbtooaGTmC1kirUK0QRKeaygvGBLQOtNZwsBjTWkPesOlRvwgrEVB6U3T1QuHy3y9/fvHfkMKuaZHZguJgwfa7nt2fO3g24fmTXZ4stnhw74B/uvWELAvkuUeyyNLmRCVIrWkPKw6XIxaDnHmsyJXnQfGcqa45DxVNzBDoQyyiJZJJoIkZx27E3FdMTc2uWaIVtLnBDB3LswHFYQpfHxS+M3gEUZFmlbN6OsIfVOy+49DvPk1V+eZBL9p6/+riZxdBkMsS/9IKNg00Dczn8Ow5kuVM9NtoO8KVSSsV4tjKarpgsEFznHuCE3SjyeYpnR7XAybZhO1sxVC1NDFDScBHhRK/IeeLHlX7bFN0lmKZmhW3qnOURA5URDmgE3yrCDESi7UwVGQLhVkKunnhkS88Z2OXagFe/dlLr1fuWqSXKI1Gky0jxcrw8fl1/v7Rmzw0I76184xMB2rJkCLQ0lfxWWThcw6WY84YEIzmxI8YqY5ts6RQPmkSUm/aRY1I8qZCOQSYhwqHYmxahqbjw26bNmSp3aIAATPt2Nue00VNmOXoVhg/9qiPDi54zubZr6Diz7sLut7OWRc1MeD2D+DJPuUHFfd+MiFujfnVv7/G3oM5E1MTorBwBR+wy9INwAv6WUHwBR90Gi2Ba+WSP916l6/lRzx3Y5peudmQYaMmE8/U1ADMXEUbDLvZkq+XT2nyjF/u3eDdINjGwCyReTVouTc+xXrNiRp94lH+8YT8Knw+bRvXOmJdI1pTHQp/9fT3GWUde9WC3WLJQTFmVZTEThFNanIEpzheDbFB87DaBZKSLcXhRbBRb/SJj4pAurZ+NSHDRkOuHEVhUzWuSYI2Cl3QtNZgVkK2ANX6VxDyZz5xT8Cf43uiVL+fndqNYgwqyxAlxNZC0zBeDHDvb/P8bJvb33zG97Z/yYwhp75EsoDTKbxwivq04nQ+ZD+M+ajdIyrFN6t9RqqliTk2JpHYhIwmZix8ydIXeBQiwtxXnPsSpcGLUDd5kiCVQzQcHk7Z+bFm8rGleHRKPD0DPq/nrA8ZfE6L4SXOWu97e090luhAf7DP5GiEz+7ggmbPnLOTLxnkFi0x9YxUhEWGmStCJswGQ6zX3KjmZOLREjbv6/CyUactmJi4aF16FMozyRsWXZFqrJiEaOs1sdEUM09x3CB1+wqF/Pke+7O5R9atw3jhkiRlHXzyJnplHyImG/JOdYv/dvotZlLyT3YPGBYdZ11FCClMopJULUewXcZKMlqTc2CnFNoy0Q1aAhEhk8DItEyzhjvFGW+Vz7ienRMl9YI8inNfgAloneopd1iy9+OW7MkJ8XxObJOu+vyc83kJ+RXfi8594lpoGmhbzC/gTf8G3XbBR3++w3+8/z84dBMOlhOO+v6uM4HoFNKXGUdhwt+Ge0zKlu/d+BX380PO/GCz07BtlgxVy54+5+3sFEhFa6b63Qtbsuhy5nVJXedkCyF7do57/OTS/L8QQv7c1u9/67MVRYTsZMQPzr+OjWkfezJoWDRF70GhF52AF5Z1qqhXfX2lJTBQHR5h4UtO3ZB92eJnzV08wqNmh5NuyFlXcbRI4RmCYIwnfAoKXy44QKgb1NPnqJOc29+/z/88/g7NXuQP/vgD/tXee/yfs7u8e3QNazXWKaJOvRp7WHFa5by/fY0ds+SamfN2ccB5KPmvz7/Lu8d7nD2dsPUzg24j7ZbgBv2gAsFE/JsND24e8qujijgokDxPhXZ/MOpLB4fgCfM5LITBe1OU3ebs7RzzJ55vV4/Zb6d8bLbT7kMWUnu10eilwkeYdyVzX7JtlmypVdqxXY05Oxox/Mhw8/snqEVDfX+X+nqGzwRXgS+F+V1ht1xCEYhGIeuk0YvkLx+ctYlC5kvKfcMkn/Ljnz7g3Tt7bA9qvnHtOQtb8N7za3QhJ5pAKIRoIif1gHfOb/Lfz7/J0bMJ0miqx5qd48joqUOdzIlNQ7mfY5YVUQuh0PhC4cuSHzVvUT3KELdEqjK1bXqO/O2DI5cbSsBGP/mjYzg6Zji7zu3BXVZ7Wzz6k5K//KMfcuJGPF+OOO5S8z4AKJjNK+ouI/z9lG/+lwM4nV0422NxnYUYkLMZShSo1GLJ85zbswfMH5bkc4d0DhkMwLpUG/JV8hxI3cYYiU1DceqIKuN0nrHfbdNGg5KINh4i6SCAAqXTEZcYQOZL/Nlsc59L9345Y3qPnjUUpxnZyiVQQtrWWduXB87FTsD6BGtfrIbFkvKdJxTDinZ6k/88+pfkpWU8aLm+teC8KVipEqU9d3fPuDWY8TfXp4Sbu2itCadnhNWK9XnGi7Y+iRq9Rz1+yvBsDs4RliuitZdA/O2Dswbh5WsX/9l1uKcHIML4wS7zjwu6SU6437JTrfBRaNuMLPPcqOY8GBzx1yOPG+VkqwpZLmHV36wPpbUJPeHGmA5n9gc0X2VfqbB6FXDlwZKdf5hSX1Oc7Q6ZlEm9DqsWrSLntuT91TVkpVFdg1hH8Be6hDFcOpkbwysWZz32S/abB+czvOJTr73qsxiJv/iA7Q8Ltu6/weLulJPRgEHRcX20AOCkHnCwGJPPBLWy0Nm0AbD+vX/Fcd2+Tlx3D1It+MnD6V/54/2xbfHn56jZkmwuzM8rVm3en65Im3ln5wPMShDbbyWFi54TL79+DfvNe84X9F8D4vEpd76/S/NOxvPvFuR/+pzOFqx+ucXooTD9yMLxKXGxJHT2ihtFiB5ELh/U/62E1RdkfrEk//F75EXB4tbbmH73YfBU2P15Q/5sTpjNX2wbfZZ9jkX8nQGHmJSrANVx4O8+vofvNHsnEbO0SGv57CPvv579DoETCXUNopi8t6T5wRjlI9P3a/TROXGxetFk+w3Z7w44sOELvWipToaIj+hllzKUc/8fe85Fe3bE1k9iag2ezAirVcpSv+Fk8DsJjj8+geOTL3ycr7zO+TLtNThX2GtwrrDX4Fxhr8G5wl6Dc4W9BucKew3OFfYanCvsNThX2GtwrrD/BxpKmQ7MFns0AAAAAElFTkSuQmCC\" y=\"-23.770016\"/>\n   </g>\n   <g id=\"patch_8\">\n    <path d=\"M 95.818644 94.770016 \nL 95.818644 23.837812 \n\" style=\"fill:none;stroke:#000000;stroke-linecap:square;stroke-linejoin:miter;stroke-width:0.8;\"/>\n   </g>\n   <g id=\"patch_9\">\n    <path d=\"M 166.750847 94.770016 \nL 166.750847 23.837812 \n\" style=\"fill:none;stroke:#000000;stroke-linecap:square;stroke-linejoin:miter;stroke-width:0.8;\"/>\n   </g>\n   <g id=\"patch_10\">\n    <path d=\"M 95.818644 94.770016 \nL 166.750847 94.770016 \n\" style=\"fill:none;stroke:#000000;stroke-linecap:square;stroke-linejoin:miter;stroke-width:0.8;\"/>\n   </g>\n   <g id=\"patch_11\">\n    <path d=\"M 95.818644 23.837812 \nL 166.750847 23.837812 \n\" style=\"fill:none;stroke:#000000;stroke-linecap:square;stroke-linejoin:miter;stroke-width:0.8;\"/>\n   </g>\n   <g id=\"text_2\">\n    <!-- ankle boot -->\n    <defs>\n     <path d=\"M 34.28125 27.484375 \nQ 23.390625 27.484375 19.1875 25 \nQ 14.984375 22.515625 14.984375 16.5 \nQ 14.984375 11.71875 18.140625 8.90625 \nQ 21.296875 6.109375 26.703125 6.109375 \nQ 34.1875 6.109375 38.703125 11.40625 \nQ 43.21875 16.703125 43.21875 25.484375 \nL 43.21875 27.484375 \nz\nM 52.203125 31.203125 \nL 52.203125 0 \nL 43.21875 0 \nL 43.21875 8.296875 \nQ 40.140625 3.328125 35.546875 0.953125 \nQ 30.953125 -1.421875 24.3125 -1.421875 \nQ 15.921875 -1.421875 10.953125 3.296875 \nQ 6 8.015625 6 15.921875 \nQ 6 25.140625 12.171875 29.828125 \nQ 18.359375 34.515625 30.609375 34.515625 \nL 43.21875 34.515625 \nL 43.21875 35.40625 \nQ 43.21875 41.609375 39.140625 45 \nQ 35.0625 48.390625 27.6875 48.390625 \nQ 23 48.390625 18.546875 47.265625 \nQ 14.109375 46.140625 10.015625 43.890625 \nL 10.015625 52.203125 \nQ 14.9375 54.109375 19.578125 55.046875 \nQ 24.21875 56 28.609375 56 \nQ 40.484375 56 46.34375 49.84375 \nQ 52.203125 43.703125 52.203125 31.203125 \nz\n\" id=\"DejaVuSans-97\"/>\n     <path d=\"M 54.890625 33.015625 \nL 54.890625 0 \nL 45.90625 0 \nL 45.90625 32.71875 \nQ 45.90625 40.484375 42.875 44.328125 \nQ 39.84375 48.1875 33.796875 48.1875 \nQ 26.515625 48.1875 22.3125 43.546875 \nQ 18.109375 38.921875 18.109375 30.90625 \nL 18.109375 0 \nL 9.078125 0 \nL 9.078125 54.6875 \nL 18.109375 54.6875 \nL 18.109375 46.1875 \nQ 21.34375 51.125 25.703125 53.5625 \nQ 30.078125 56 35.796875 56 \nQ 45.21875 56 50.046875 50.171875 \nQ 54.890625 44.34375 54.890625 33.015625 \nz\n\" id=\"DejaVuSans-110\"/>\n     <path d=\"M 9.078125 75.984375 \nL 18.109375 75.984375 \nL 18.109375 31.109375 \nL 44.921875 54.6875 \nL 56.390625 54.6875 \nL 27.390625 29.109375 \nL 57.625 0 \nL 45.90625 0 \nL 18.109375 26.703125 \nL 18.109375 0 \nL 9.078125 0 \nz\n\" id=\"DejaVuSans-107\"/>\n     <path id=\"DejaVuSans-32\"/>\n     <path d=\"M 48.6875 27.296875 \nQ 48.6875 37.203125 44.609375 42.84375 \nQ 40.53125 48.484375 33.40625 48.484375 \nQ 26.265625 48.484375 22.1875 42.84375 \nQ 18.109375 37.203125 18.109375 27.296875 \nQ 18.109375 17.390625 22.1875 11.75 \nQ 26.265625 6.109375 33.40625 6.109375 \nQ 40.53125 6.109375 44.609375 11.75 \nQ 48.6875 17.390625 48.6875 27.296875 \nz\nM 18.109375 46.390625 \nQ 20.953125 51.265625 25.265625 53.625 \nQ 29.59375 56 35.59375 56 \nQ 45.5625 56 51.78125 48.09375 \nQ 58.015625 40.1875 58.015625 27.296875 \nQ 58.015625 14.40625 51.78125 6.484375 \nQ 45.5625 -1.421875 35.59375 -1.421875 \nQ 29.59375 -1.421875 25.265625 0.953125 \nQ 20.953125 3.328125 18.109375 8.203125 \nL 18.109375 0 \nL 9.078125 0 \nL 9.078125 75.984375 \nL 18.109375 75.984375 \nz\n\" id=\"DejaVuSans-98\"/>\n     <path d=\"M 18.3125 70.21875 \nL 18.3125 54.6875 \nL 36.8125 54.6875 \nL 36.8125 47.703125 \nL 18.3125 47.703125 \nL 18.3125 18.015625 \nQ 18.3125 11.328125 20.140625 9.421875 \nQ 21.96875 7.515625 27.59375 7.515625 \nL 36.8125 7.515625 \nL 36.8125 0 \nL 27.59375 0 \nQ 17.1875 0 13.234375 3.875 \nQ 9.28125 7.765625 9.28125 18.015625 \nL 9.28125 47.703125 \nL 2.6875 47.703125 \nL 2.6875 54.6875 \nL 9.28125 54.6875 \nL 9.28125 70.21875 \nz\n\" id=\"DejaVuSans-116\"/>\n    </defs>\n    <g transform=\"translate(94.274433 17.837812)scale(0.14 -0.14)\">\n     <use xlink:href=\"#DejaVuSans-97\"/>\n     <use x=\"61.279297\" xlink:href=\"#DejaVuSans-110\"/>\n     <use x=\"124.658203\" xlink:href=\"#DejaVuSans-107\"/>\n     <use x=\"182.568359\" xlink:href=\"#DejaVuSans-108\"/>\n     <use x=\"210.351562\" xlink:href=\"#DejaVuSans-101\"/>\n     <use x=\"271.875\" xlink:href=\"#DejaVuSans-32\"/>\n     <use x=\"303.662109\" xlink:href=\"#DejaVuSans-98\"/>\n     <use x=\"367.138672\" xlink:href=\"#DejaVuSans-111\"/>\n     <use x=\"428.320312\" xlink:href=\"#DejaVuSans-111\"/>\n     <use x=\"489.501953\" xlink:href=\"#DejaVuSans-116\"/>\n    </g>\n   </g>\n  </g>\n  <g id=\"axes_3\">\n   <g id=\"patch_12\">\n    <path d=\"M 180.937288 94.770016 \nL 251.869492 94.770016 \nL 251.869492 23.837812 \nL 180.937288 23.837812 \nz\n\" style=\"fill:#ffffff;\"/>\n   </g>\n   <g clip-path=\"url(#p6759ed2886)\">\n    <image height=\"71\" id=\"imagefb2ecea2d7\" transform=\"scale(1 -1)translate(0 -71)\" width=\"71\" x=\"180.937288\" xlink:href=\"data:image/png;base64,\niVBORw0KGgoAAAANSUhEUgAAAEcAAABHCAYAAABVsFofAAAABHNCSVQICAgIfAhkiAAAGgxJREFUeJy9nMuPJNl13n/33HsjIl/16vewe2bMEUmTokXZpmBqZdCStRG888Ir7722/xPDgAEDXhj2xgvB0MqAAQEiLMMWQUgkTUoiR+Rw3t1dr6zMjIyI+/LiRkRm9fTQ1cMaXqDQ1VmZkRnnnvOd73zn3FS/r/554hWWefgA//p9VAL97JJ0tSa1LXG7hbS7lD4+Jr3+EL8oefbNKasvBVIZqA5brPU8WKx5NF1yYFremJxSKc+fXb7FXz1/gA9Csy1IXjCVY1I5NpuKyfcnTJ4mjt7eIn/+Y5LrPvH5lDHoB/dJBzOS1cTKomJC3ntGePrsVW4Vc+NnKgVKwBiSERIg1kBhUSF8+vOskDQklUCBUgkFCAmtsjE1+V8hIf1jSuXXKEV+TCWSQNIQraALCymSYoIUr20MRpPs3k9MaGNA9Cef+6saR6ZT+PKbdCcTTn+j4OLrkWQT0j5AeTj+seLeH/2YuNmivvJFugczzl8vOPvtRJp7pkdLvjDbYnVgUbQU4nltsuRhccVCN7xRPKdQgY+mh5zNZ3RR00wNIQqLsuW4rFkvSn6u77CpLRe/WVB96xuYDZz8TUf58Rq5WOM/+Ag5PODDP3zC5d/zqKBQTiGd4uBnbzD/4DHVaYP88G+Jm83tGEfNZpx//YDVE8H/9pp/+w//K1/QSxbiKBX8/v/+V9z/k0NUiFx97YiLLwvd12r+4z/6T3zFXvHD7pifdg+JSWhSfssHZskds2amOp6YK6yCZ5MPOVvMiEmISQFwZGvuFytERaYPOzSROpbUseDHq0f8xf/4Ksd/fcT83RL9/BR1eID/p5d895v/gfe94QftF3i/u8N//snvcPWzBYufzXj0zvz2jLO/tI4cSc2hOKyCQimmVYe/f4ieVqwfCdsveB4crREVcUCTLC7p/qYFAJcMLhk6Al0SIAIw0Y6YFKISmshEO0Tlv9WxGD+HVYGFbWjvBFaPNWZbMtMaUiJGRdOHzoFuODQ1Ione3jdeNzNODJgmYWrYtJZNLFkqx7v+mMswZVo4Pvj2HWDB0bc/5l+/+R2aVPB/6rf4n9HwzC1YuglCYqIdRgIuaZpkmUlLRLDK45Lh2NRoFTk2GyrlWIYpq1Bx5St+ur7PqiuZ2Y6TMu/8N//+2/hvCD/6zm/w1v+agvNsP57z789/l6l03LUr1qGi2RYUVwpbJ1KIt2gcQAUQBzEoIkKH8Nwf8NQdUhpP/VoEk/gXr/2Yf3lwyl+2Lf/l4lucdzNWvqQJlkI8EYWJkVI8VgViEirlsCoQECrJv9/RaypxuKQ59zO2seB5PWO1rdhWLaISc9PyraOf80Zxyr+5/yaqzJ6lN8Jfrx5wv1qz0E32WidIB+J6AL9N4wyZQskuw9wzV2gV+Qcn7xG+KmiJzHXD99qOd9w9AErtEZWYmV3ajUmhiVgVqGPBD+onfdgpAsKh2fLF8hlHUnMlFZU4JtJxWDb9NQOtzx/93faEOhbYg5bnv/c6KIiPGha2ZSLdGJLJCboB7dLtZiuUImlFMjvjWBV5aJbc0Wu+VHzMPzv6C1zSvOfu8Cebr9JGC8BEOmY6p+g2GlauIqL6awTO/Yy/vHzMuiuZ2o6DoiFWiko57ukNV7HiqTjmpuX+ZMXUdNS+oHYFXdS8s77Dx+aA+0drPv4DjVKJrzx6xqHdMjctuscyvMJsE7pJsE89fnXjCMGCrzIgw7D7CVRAk9AkOiUIcQRdUTveoonjBx34jFUerWL2mKRISRGTIqZ8Hen5T0xCSILur2ckoiUiKhFR+ChMrOPwYIMoOCq2lOLH14ckoLLnJ53v59aMowpL/UCon3ieHK0IKJpkEBXRpPH/LhkKFTjUNU2yCAmXNG00tNHgkh6NtdANJ2ZNkywHRUNKiolxGIkYCWgV0SrhkmEVKrbBEvp0U4jHFNnQRgJGIo9nl/zm0UdYFTg2NZU4IGfKNhooIt2hwV0K6Fs0DkbjZ6APHUfVlpCEDk3F4EWS03LSiIpU4pCUDaNTHA2z86iMNzNpmUpHpR21LjASxt0eVkDhkr72eiMRUddD49Bu+dr0QwrlCUkICC5p6lgQEJSJhAJCoW7XcwDocSy+QBY0iaAiwz0NIRCTwqqAYxdeokL2it6oqzDBJc3cdMQkWAkU4pnrFgCXhCZatsGy8SWX3YStt5TaMzVdDqs+FH3cAXodS1zSe58xIjqRTC5BbrpuyHNSvvkXjKOHWijlHY7sdiwgIybZ/kdUGlM1wGWY4pLmyNR9ZklYFTg0NQBN0tSxZBsKVr7kbDtl0xYsqpZCAqIiXTTEpHrvzLezDBNWoWIqHQvdYCUgEokGkgHkZmzw5jwnQgrZI7SKFISxYNTkmwovbIuoyItb9WLYAFgJvTGvh2nos5qoiFE7bvJptyYqg7SQdllqfFH69Bd+yrqh50RMDVwZGm95qK84kY46aZqk0SSOpMGpjlWcsFHljmgpiOSd3c9cc90wlRabAq1k8K5jwTZYRCWuYoWQ8eu1csmVbln7klKHnjv1ma+/5kR3HOkaq3wOafHj5g0rKV6phLiZcUJAdwm9FXwUFuI4EqEJOVNZFZkpT9eXAcOHHkIwJMEnjaS8o1HlxytxEDPfCT1I+j67NdHSKIsQOTEbtIrMTYuP0gNyL3Ok7BEDwFvlacQSyHVcQBGSZAmk36zbNQ65fFABuqAzUKZAmyxNsj0o53fVKvOZoXYaM0yPOcNPTBk4m2hZhYo2GnzchaBLhiZZmlT0NEGPRocd9vke/Lex4CpkNp1rtZwMmlgQk8qk+PMIq5QS4kB3isYZNslQpcAmWVaxAoEq7VKrVpEmWdahGsuCUnYepYk00XIZptSh5MzNaKPJJK8PhTqWaBWpY8E6VNShGF8vZONGFC5ouqi5chWn/oBSHJVyVKojphLXc6zPsm6c2FQCIj2LzS8L/csH93V9Gg+9NDH8Pjxv2HVg5C4uaXzS+KhHkpevreh6j3Gx5zn91sc9Fxh+90k49zOWfprBfY+dA68GNv26cSpXMWcsgEp5SsWYsbqkOQ/T/t85yzCliXb0mv1lVWa/61By4af4qGmDwSXJko6ARMPST6lVFrXqWND1YTeE3nDjpfZYUZw1M95fHVEaz7fv/4TfmrwLQKvtqAPt38PtGQcg7S5sVaRQmeQJkYhwFW1P9TPHiKiRlA1ETVRCq1wztdFw6Sa97XsP7LHIJ806lFgVeizK3jMQvfyafL2i5zAXzYTn5wdoE1ieTKiUI4qwkXIsJVSElzCJX904KiZUzMXhi0uIVCqiVWQqLY02WRLFElGsfck2FhRkDQeVFT6rsui1DRk0jYRR55nrdtR4tlGNRklJoYZMpdJYW2l1/a61ioQoY+hCT7luPVuliHYgHXS+d+u9PxcqMJU2kzdj0CrSJUMbLU0yXLgp5910NEgpnrt2xaHesg4VH3WHbEPBRHdMddcXj5vReJdpkqvvHoQlMVbllfZMtKM0vgfG3QqoHJY9mCf5BCf9petmT025sFI9IO+/eewvUfTilVV55/cZakwZK/YB16pAoTyluNEDcpimsby4dqOfAqiZFWcGLRIxJlOGISnsi/Wvum4cVhJAPMSwz0Uyl6mUG1NsTqOOBstTd0Abzch6hwyiVaQOJQBttOOHF5WY6hYXDR91R7ik2fiyr58klxC9sgiZO2XDa+5N1sxeayl04FBveR4O2MQyG06yZqR95mq3a5yYUCH/DJ4Tyam8Szqz5N5TrApU0hHCnCtfsfHlS3mGS5qln47ADRknMnkzPO/mbHzZv33+u5GA7Om/Awt3Sbhbrnm0WPYFbuS5X+Rr9nVWigrlFSqkXEjfmnHo02DYya/CoO5lFVCrREiKOpac+TlttCOorkOJ9AK73lP4xg8hEUmJUnkq5XCiR6Psq4mDMfZZ8mU3IfTp/b5dXSt2RUVKcUx1N8q76tazVYoonxAPKV7HjUq6LHf2iuC77g4/3T5grlverE4BeOYOOHXzjEmy8+uIQkhMJYvvC92w0M1YF3VRU0jIvawekPcN1QTLe5dHbLcFm5OCx9UlcyD2nGMuLjcByHj0Koa5uXHoK/4IRDVKCftrQKI2WjahZKo7KtVRqMBSJqOms2+YYQ3cJ4O5vwbmo+d8yo15rwmtpvVmZOL70smoOcGoSd10vQIJ7LNVJ7zjTnDpksswJfTaS5OEtucTpjdCFr92Ox2QsaViJPZFosJFi1YRlzLwikocmO21t48oGm9Hb6qMw6jIpOxICY4mWw71lqluqUNJmwwXfkYbLaduTnAa/fl6TkI54RfdvTGFh5RBuU2abq+GEtILO5gr9XUoiUmYmXb0pP06axC95iY37rahyCpfzAXm1lvE9tlKAvOyQ6nEYbHl0NRUylGHXO3XqeA0zVm6CbHT9MMat2ycmBAXEQcERo3kZWsQz/VLipg2Gi66KT4KouKoFY+6D7lFs6//uiRsfO5RtcHggsbrPq0LWB0ojFC8gGUDcJfKU4jP5Y8nZ6vb7HimENAbR7HS6MaMtdD+CuRqfWDAg4GGPpZLmvNuxtvnd3FBwx14WF6NYnxAaKPNGk+yYyW+dBOeb+e4oNl0Fh80pcmsGMCXwswajootmkhA+lDXzKXNQhkRvGDXYLcJbrVXnhLKRXQbP7WqDS8C7Eue2EVN6wzOabqXcJ99eWNYPmac8lHwQe8Vsfn6g8cY9UnPASjF7bQkn7naTdfNPWe5QcWIdAWv2Que2LMsVqWS2HccBoFr6XO1vZBmJGWleO6WGx4fLemi5qjY0vTsuI25QLUqcKRrNrHMBDMaCgkcVdtRHg19uJy1s2tS7DYUPHWHWWiLdmTimvjSEL894zhPulgi2wZxxzyxZ7xpOn6aNHUo+45nlkxXoWLlqgzAJl9ek1syJ3aDOQx9RopsQ5ZR2769olVkITlLxaRog8lFpfa4qCl0oAuakISLdoqolLukKrANlqfdAUIae2Of6HSkz0PPSZHkPXQK5em7m+laCAxMeeg07EsFQ8hpNQjju85BfEmjMKRdWORUvwsnyO2d+ALX8knYBju2cLREImrsoymvEPc5ADIpETc1qtGYBj72hyykoY4lXdJUyjGVFkkRFzW1t1ipWIYJZd+NyDedwdcnjekr96jUtfCI/QhBltEU22DpwiClypgljYqonjKISnRBU/sCIXFc5qaghMRSTVn6CXotVJcRu/K3P7xEDKQYUB42saTpe+ND5iqIuD5b+EH3jRqRdC3ms7asMC9REQbNefd/NRrTRxmnMEbD7JEWnzJLViplT9OqL0oz+IsH3SbEBYi3bZx+JYGZtMyU4wzokh4rc03ixGy4V66ZmTYXnuJpez15HUpOuxld0BwXW06KDTFmHuOTcOGnfOwPR804G3MXTlYHLAGjIoX21/5eaceBbXrwz5lrV04oxCt0E1DtXvV828ZB4EjXLMYRjwKXuhFXjs2Gx5MLSuVZ6DyJ1ZJ5y8aXI2cpdOCEzSijdkFzauaU4vPIStjxqcE4hXiMRAoJzExWHpeuoouGuW55XF0iKrEOJduQh6diz7+UA7MNSOtIn5fnkOgzU84HmcCpsT2T7ffJnQnIqNhFUePszr7CN6qAQj9UKdckC580PuQZHx/1yGd+mdI3fJYsuUQIkfR5eY44eKe7S6UcV6ECMo5sUjEyU5d0Frh7Y7keM0rxvDZbElJuIW98iU+SPUIFHpRXfKX6iKs4GdM8MALus3pB6w0T6zgom/HxlBRNyC0YTcTHXfkxyCQSQNYdqu1uX+waloqJpZ9yaaa74pPdVMQ4+NjrtwOTzZ6TWJgcarmg1GMVbiTXWke6HkljrtMUiMdHoQuabZfDxepwLcv5mEmjUWEMpX0CqAIo58GH258m3RknF5BNsoQ98WkoRq0KYwdhqLqHkZBcP5me+PVZhDxpalTmJWdhzmZv+Mgl6Rt6ui8yfeYwe70w6MdWogbpAXjYlD476hbUckVqu3xe4vMyzjqUrMKEUtwoTLlkdsbpR1yHiYuB/Lmo6PbkBx+FSnsWpmGiHSEJT90hTbSjEX3M/MVHwUqEwqEA12NPPjyS8L3Bd9JqP+tDfk9TJ/yz09s/GHJtJUYGbJNHq7xTXdrpvsN6UZkbdneYjBjW0MoZcGoIi+HmBi9RanfSZpz16ftXw+RG3BtGGCr0kFSvYr5C6+GzGEcFuOimnNo5dy3MdUNIBXXfKRjGSmIfZhFF3QtWbTTU3o4M2Uik7Jtyg47s+tkc13tC4y1bb0ePMCaP5xY632ghu1ZN13tkpR1WKbo+rde+eKWa6jMbRwLUvmAdSg7NdtRihmnPcYAAtVd1m5yG+z64j4LpAXVI31Y8bpw6VWNDzifJ+g9cM0ylXd8r92iVaIOhCfl2vNJonUbhzEf9StrxZzeOT1w0E07tnDt2w7FJhJSF9ZCENuWd91HY7p1ygQzMpucxXTQ0wdJpTakPmEhHKZ5SfO6PB5u9LO51HPbqqNabfJzA5uHJwfAAkZBDvQfyjS9QNwThX8k4ukucXs2wEnkyvaBQvlfwilx09tS/DYZNPyAwM11/NCgxNQ6fAmfNjGVTUehAEyyVdtyr1rxWLolJUXubjwL0WCM98AI03rLpCrTkWDkomjHVZ4IoGCV0/WOrtkReDW4+m3FUzO2QxmcNRl6Y2tREjAo4tZMZQv8DfW+71272wRS4BrajWKV2/fn9Zl6I+TDky9b+87pocEGofh2Yo9tIWFmWdsI2FH3/u28FS+DYbqiU59TP2YZ7+UhisP2RolwTadOxsA1+qin7VF6Jyx3Pfk7578zORvwZqvyzdkrti944+QCbqDSWJIXOgwiVdsxNx2k746KZsK4rpv7XEFbKJ1Rj6Jp+GguuqW6Hessdvc79cznJGSQYfBIwHUcqMtEZXypxlOJGOTWXHgarA5W4sWZzSVOHgqXL5UqibxX3GcxK6KWMDPJlPwkPsO0s3ulX0o4/s3F0G7FXis5mTAjD9NZeHdUkS91Xxk2wPRDnotPIjva7pJGYQPphI/JpmeEA2iCfDnODecApUhkPkwatspcYFXEvaUjVvmC9qYhri3S/BuOYZcvswxLdGZ5/Zb4T1/vzVUs/JfbazFVX0QbDwrZUxmU9uPeYJtrcwtXCyWB4Iqh8lvOD5ohlV41To5CzVSGeqnSYSTb2zLSUkgeza+z4OWNSXLUV/ryiuBBs3Xz+xpHOYzfgp+SbS7tDrTFldtskc23mZrixYcz2pdcl9keU8pkJ19de+0x6x236Kfa9s+k7Vh1HwuiiILVgNgrlXh2RX718eHrKne/B9skBH/zOgtXjaiR7AKt+ZjggPJpcXRPCZQid1BM/HVjohiNdM5WWmbQspOFjfcgH5dF14/UKn5UwCu4AbTC0GFauZNlViEocFhnDzq9mnPwIps8d9qNLPK+2Xtk44fQMTs+Y1m/g1vfGpj0wsuGYBCOBu+UagI3P+KP3Uqztx9xKcVTimEnLPb3hnngKLji2NdtYjEC/kzES22DHIUvXe24Tdtwn60WBrrYcvr2l+PCSdHbxqrf6GTxnWD6gLw1/fvEmB8WWx9UlVuddHYYBdsNGcTxoFlM+DDZVHXPdUKlcjTfJchkrYmq5jBPmuuHEbrIhYvHSSXRRiYk49ADwVS5bLrspa1eirix608C2ya2lX5dxUtOy+Lnwg+pNZl9Y8XffesqJWY+DR+Mpuf73YQ2n96a246FZjo+5MOEyzEay+NAseWiWvN0+4Lye4aJm7Uq6qJnblkObz1EdmZqp7jixGx5VS678hO89fczl5YzZ+4J+dkF4fnpjDedWjEMMFKtEcS5sDiou/HQ8xjMe9+lbjPssePAcyKESk4zi1qAmWhW4Z64o+unSkPJUV9e3e4awHPrjwwa0/am+9aaCpcWuE6ltP5PX/ErGSZuak+9fMv9gyvrtkj9+91v4WaJ6fcWT40tOypovzZ9RKp/Pcfbp+7ybEZPiqRwQUJy6BT9aPmLjCgrJIH1gG75x8D7HZsOFzyECuYYyKvKoWvJW9Yw6lnzn7Et8uD7g7HyOfr/C1Iqj9xKTs8Dk4zVp/f//zopbN05sGvj+X2GU4u7DBxz+7UO6I8tHv3vAz94yLI/WPJleMDUdtmerYV8e7TLJe78+4icf3cfVFikDtvAspu0OzEP+NgMjkTumZmZaXi/P+Vr1AR+6Y967OuT8w0Om71gefLfFXnXoXzwlPHuep9xuqPrdqnHGlRKpadHLhiImZu8bNkx5Np/wRxcLysrx+OiSN+bnaJU4MC3QUko+Jl1pj7GBUAq28ExKx6zoOLY1h7rmxFZsJ3YMrZWr+NP6S/xx91uc1xOWPzlheirMPkwUly2yaaFtbyyFfr7GAeJqhfpZizGGR+8tSJMyf8FPaQmzgl/83hu8940jHh6u+MOH/5cHdsllmLIOFW1puLvYsCktB1X+rpw7Zc1Xqw/zqEtxxuVkxrmf82eXb/G0XvDB917j9f/ecm/d8WB1iuocNC1xvSGFQGza27it2zFO8n4HeldX1/6mFwumX/8658sJFzY/p1JZmB8GC7REtGTmW+gwtmU0kUo5FrJlIyVrV3JZT5g8Vdjv/ZS4WvEZZJobr1sxDpC/8gk+IWKnpuXu9zcUV1M2j+7w767+MbN5Q9vmajl5ITUaIjy3R6giICbxp9O3sDowKRxT63i6muO/e8z048Tdt7ekfe9QL3Q8byGkANSrfqHZy6+iUCYXfcm7T344pVBaI1/+Ih/9k7u0h6C73D1FQbS7Ey1JQ38cHZXALRLuMFKcad78b0v44d9kzjJswmAYJaj+vHgKNx8W+GXr9jznl62Uctj5AHF3Yk6FfhI/F+P5pGHMRpFAL9z0jwVQIRBfxllu+PULr7r+H2R5p749VZY1AAAAAElFTkSuQmCC\" y=\"-23.770016\"/>\n   </g>\n   <g id=\"patch_13\">\n    <path d=\"M 180.937288 94.770016 \nL 180.937288 23.837812 \n\" style=\"fill:none;stroke:#000000;stroke-linecap:square;stroke-linejoin:miter;stroke-width:0.8;\"/>\n   </g>\n   <g id=\"patch_14\">\n    <path d=\"M 251.869492 94.770016 \nL 251.869492 23.837812 \n\" style=\"fill:none;stroke:#000000;stroke-linecap:square;stroke-linejoin:miter;stroke-width:0.8;\"/>\n   </g>\n   <g id=\"patch_15\">\n    <path d=\"M 180.937288 94.770016 \nL 251.869492 94.770016 \n\" style=\"fill:none;stroke:#000000;stroke-linecap:square;stroke-linejoin:miter;stroke-width:0.8;\"/>\n   </g>\n   <g id=\"patch_16\">\n    <path d=\"M 180.937288 23.837812 \nL 251.869492 23.837812 \n\" style=\"fill:none;stroke:#000000;stroke-linecap:square;stroke-linejoin:miter;stroke-width:0.8;\"/>\n   </g>\n   <g id=\"text_3\">\n    <!-- shirt -->\n    <defs>\n     <path d=\"M 44.28125 53.078125 \nL 44.28125 44.578125 \nQ 40.484375 46.53125 36.375 47.5 \nQ 32.28125 48.484375 27.875 48.484375 \nQ 21.1875 48.484375 17.84375 46.4375 \nQ 14.5 44.390625 14.5 40.28125 \nQ 14.5 37.15625 16.890625 35.375 \nQ 19.28125 33.59375 26.515625 31.984375 \nL 29.59375 31.296875 \nQ 39.15625 29.25 43.1875 25.515625 \nQ 47.21875 21.78125 47.21875 15.09375 \nQ 47.21875 7.46875 41.1875 3.015625 \nQ 35.15625 -1.421875 24.609375 -1.421875 \nQ 20.21875 -1.421875 15.453125 -0.5625 \nQ 10.6875 0.296875 5.421875 2 \nL 5.421875 11.28125 \nQ 10.40625 8.6875 15.234375 7.390625 \nQ 20.0625 6.109375 24.8125 6.109375 \nQ 31.15625 6.109375 34.5625 8.28125 \nQ 37.984375 10.453125 37.984375 14.40625 \nQ 37.984375 18.0625 35.515625 20.015625 \nQ 33.0625 21.96875 24.703125 23.78125 \nL 21.578125 24.515625 \nQ 13.234375 26.265625 9.515625 29.90625 \nQ 5.8125 33.546875 5.8125 39.890625 \nQ 5.8125 47.609375 11.28125 51.796875 \nQ 16.75 56 26.8125 56 \nQ 31.78125 56 36.171875 55.265625 \nQ 40.578125 54.546875 44.28125 53.078125 \nz\n\" id=\"DejaVuSans-115\"/>\n     <path d=\"M 54.890625 33.015625 \nL 54.890625 0 \nL 45.90625 0 \nL 45.90625 32.71875 \nQ 45.90625 40.484375 42.875 44.328125 \nQ 39.84375 48.1875 33.796875 48.1875 \nQ 26.515625 48.1875 22.3125 43.546875 \nQ 18.109375 38.921875 18.109375 30.90625 \nL 18.109375 0 \nL 9.078125 0 \nL 9.078125 75.984375 \nL 18.109375 75.984375 \nL 18.109375 46.1875 \nQ 21.34375 51.125 25.703125 53.5625 \nQ 30.078125 56 35.796875 56 \nQ 45.21875 56 50.046875 50.171875 \nQ 54.890625 44.34375 54.890625 33.015625 \nz\n\" id=\"DejaVuSans-104\"/>\n     <path d=\"M 9.421875 54.6875 \nL 18.40625 54.6875 \nL 18.40625 0 \nL 9.421875 0 \nz\nM 9.421875 75.984375 \nL 18.40625 75.984375 \nL 18.40625 64.59375 \nL 9.421875 64.59375 \nz\n\" id=\"DejaVuSans-105\"/>\n    </defs>\n    <g transform=\"translate(200.754015 17.837812)scale(0.14 -0.14)\">\n     <use xlink:href=\"#DejaVuSans-115\"/>\n     <use x=\"52.099609\" xlink:href=\"#DejaVuSans-104\"/>\n     <use x=\"115.478516\" xlink:href=\"#DejaVuSans-105\"/>\n     <use x=\"143.261719\" xlink:href=\"#DejaVuSans-114\"/>\n     <use x=\"184.375\" xlink:href=\"#DejaVuSans-116\"/>\n    </g>\n   </g>\n  </g>\n  <g id=\"axes_4\">\n   <g id=\"patch_17\">\n    <path d=\"M 266.055932 94.770016 \nL 336.988136 94.770016 \nL 336.988136 23.837812 \nL 266.055932 23.837812 \nz\n\" style=\"fill:#ffffff;\"/>\n   </g>\n   <g clip-path=\"url(#p1e41ff90c1)\">\n    <image height=\"71\" id=\"imagee773a1ef83\" transform=\"scale(1 -1)translate(0 -71)\" width=\"71\" x=\"266.055932\" xlink:href=\"data:image/png;base64,\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\" y=\"-23.770016\"/>\n   </g>\n   <g id=\"patch_18\">\n    <path d=\"M 266.055932 94.770016 \nL 266.055932 23.837812 \n\" style=\"fill:none;stroke:#000000;stroke-linecap:square;stroke-linejoin:miter;stroke-width:0.8;\"/>\n   </g>\n   <g id=\"patch_19\">\n    <path d=\"M 336.988136 94.770016 \nL 336.988136 23.837812 \n\" style=\"fill:none;stroke:#000000;stroke-linecap:square;stroke-linejoin:miter;stroke-width:0.8;\"/>\n   </g>\n   <g id=\"patch_20\">\n    <path d=\"M 266.055932 94.770016 \nL 336.988136 94.770016 \n\" style=\"fill:none;stroke:#000000;stroke-linecap:square;stroke-linejoin:miter;stroke-width:0.8;\"/>\n   </g>\n   <g id=\"patch_21\">\n    <path d=\"M 266.055932 23.837812 \nL 336.988136 23.837812 \n\" style=\"fill:none;stroke:#000000;stroke-linecap:square;stroke-linejoin:miter;stroke-width:0.8;\"/>\n   </g>\n   <g id=\"text_4\">\n    <!-- t-shirt -->\n    <defs>\n     <path d=\"M 4.890625 31.390625 \nL 31.203125 31.390625 \nL 31.203125 23.390625 \nL 4.890625 23.390625 \nz\n\" id=\"DejaVuSans-45\"/>\n    </defs>\n    <g transform=\"translate(280.602971 17.837812)scale(0.14 -0.14)\">\n     <use xlink:href=\"#DejaVuSans-116\"/>\n     <use x=\"39.208984\" xlink:href=\"#DejaVuSans-45\"/>\n     <use x=\"75.292969\" xlink:href=\"#DejaVuSans-115\"/>\n     <use x=\"127.392578\" xlink:href=\"#DejaVuSans-104\"/>\n     <use x=\"190.771484\" xlink:href=\"#DejaVuSans-105\"/>\n     <use x=\"218.554688\" xlink:href=\"#DejaVuSans-114\"/>\n     <use x=\"259.667969\" xlink:href=\"#DejaVuSans-116\"/>\n    </g>\n   </g>\n  </g>\n  <g id=\"axes_5\">\n   <g id=\"patch_22\">\n    <path d=\"M 351.174576 94.770016 \nL 422.10678 94.770016 \nL 422.10678 23.837812 \nL 351.174576 23.837812 \nz\n\" style=\"fill:#ffffff;\"/>\n   </g>\n   <g clip-path=\"url(#pb75e1c81bb)\">\n    <image height=\"71\" id=\"imagec7df71160b\" transform=\"scale(1 -1)translate(0 -71)\" width=\"71\" x=\"351.174576\" xlink:href=\"data:image/png;base64,\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\" y=\"-23.770016\"/>\n   </g>\n   <g id=\"patch_23\">\n    <path d=\"M 351.174576 94.770016 \nL 351.174576 23.837812 \n\" style=\"fill:none;stroke:#000000;stroke-linecap:square;stroke-linejoin:miter;stroke-width:0.8;\"/>\n   </g>\n   <g id=\"patch_24\">\n    <path d=\"M 422.10678 94.770016 \nL 422.10678 23.837812 \n\" style=\"fill:none;stroke:#000000;stroke-linecap:square;stroke-linejoin:miter;stroke-width:0.8;\"/>\n   </g>\n   <g id=\"patch_25\">\n    <path d=\"M 351.174576 94.770016 \nL 422.10678 94.770016 \n\" style=\"fill:none;stroke:#000000;stroke-linecap:square;stroke-linejoin:miter;stroke-width:0.8;\"/>\n   </g>\n   <g id=\"patch_26\">\n    <path d=\"M 351.174576 23.837812 \nL 422.10678 23.837812 \n\" style=\"fill:none;stroke:#000000;stroke-linecap:square;stroke-linejoin:miter;stroke-width:0.8;\"/>\n   </g>\n   <g id=\"text_5\">\n    <!-- dress -->\n    <defs>\n     <path d=\"M 45.40625 46.390625 \nL 45.40625 75.984375 \nL 54.390625 75.984375 \nL 54.390625 0 \nL 45.40625 0 \nL 45.40625 8.203125 \nQ 42.578125 3.328125 38.25 0.953125 \nQ 33.9375 -1.421875 27.875 -1.421875 \nQ 17.96875 -1.421875 11.734375 6.484375 \nQ 5.515625 14.40625 5.515625 27.296875 \nQ 5.515625 40.1875 11.734375 48.09375 \nQ 17.96875 56 27.875 56 \nQ 33.9375 56 38.25 53.625 \nQ 42.578125 51.265625 45.40625 46.390625 \nz\nM 14.796875 27.296875 \nQ 14.796875 17.390625 18.875 11.75 \nQ 22.953125 6.109375 30.078125 6.109375 \nQ 37.203125 6.109375 41.296875 11.75 \nQ 45.40625 17.390625 45.40625 27.296875 \nQ 45.40625 37.203125 41.296875 42.84375 \nQ 37.203125 48.484375 30.078125 48.484375 \nQ 22.953125 48.484375 18.875 42.84375 \nQ 14.796875 37.203125 14.796875 27.296875 \nz\n\" id=\"DejaVuSans-100\"/>\n    </defs>\n    <g transform=\"translate(367.876303 17.837812)scale(0.14 -0.14)\">\n     <use xlink:href=\"#DejaVuSans-100\"/>\n     <use x=\"63.476562\" xlink:href=\"#DejaVuSans-114\"/>\n     <use x=\"102.339844\" xlink:href=\"#DejaVuSans-101\"/>\n     <use x=\"163.863281\" xlink:href=\"#DejaVuSans-115\"/>\n     <use x=\"215.962891\" xlink:href=\"#DejaVuSans-115\"/>\n    </g>\n   </g>\n  </g>\n  <g id=\"axes_6\">\n   <g id=\"patch_27\">\n    <path d=\"M 436.29322 94.770016 \nL 507.225424 94.770016 \nL 507.225424 23.837812 \nL 436.29322 23.837812 \nz\n\" style=\"fill:#ffffff;\"/>\n   </g>\n   <g clip-path=\"url(#p0e8c1cc9f9)\">\n    <image height=\"71\" id=\"image800d5def26\" transform=\"scale(1 -1)translate(0 -71)\" width=\"71\" x=\"436.29322\" xlink:href=\"data:image/png;base64,\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\" y=\"-23.770016\"/>\n   </g>\n   <g id=\"patch_28\">\n    <path d=\"M 436.29322 94.770016 \nL 436.29322 23.837812 \n\" style=\"fill:none;stroke:#000000;stroke-linecap:square;stroke-linejoin:miter;stroke-width:0.8;\"/>\n   </g>\n   <g id=\"patch_29\">\n    <path d=\"M 507.225424 94.770016 \nL 507.225424 23.837812 \n\" style=\"fill:none;stroke:#000000;stroke-linecap:square;stroke-linejoin:miter;stroke-width:0.8;\"/>\n   </g>\n   <g id=\"patch_30\">\n    <path d=\"M 436.29322 94.770016 \nL 507.225424 94.770016 \n\" style=\"fill:none;stroke:#000000;stroke-linecap:square;stroke-linejoin:miter;stroke-width:0.8;\"/>\n   </g>\n   <g id=\"patch_31\">\n    <path d=\"M 436.29322 23.837812 \nL 507.225424 23.837812 \n\" style=\"fill:none;stroke:#000000;stroke-linecap:square;stroke-linejoin:miter;stroke-width:0.8;\"/>\n   </g>\n   <g id=\"text_6\">\n    <!-- coat -->\n    <defs>\n     <path d=\"M 48.78125 52.59375 \nL 48.78125 44.1875 \nQ 44.96875 46.296875 41.140625 47.34375 \nQ 37.3125 48.390625 33.40625 48.390625 \nQ 24.65625 48.390625 19.8125 42.84375 \nQ 14.984375 37.3125 14.984375 27.296875 \nQ 14.984375 17.28125 19.8125 11.734375 \nQ 24.65625 6.203125 33.40625 6.203125 \nQ 37.3125 6.203125 41.140625 7.25 \nQ 44.96875 8.296875 48.78125 10.40625 \nL 48.78125 2.09375 \nQ 45.015625 0.34375 40.984375 -0.53125 \nQ 36.96875 -1.421875 32.421875 -1.421875 \nQ 20.0625 -1.421875 12.78125 6.34375 \nQ 5.515625 14.109375 5.515625 27.296875 \nQ 5.515625 40.671875 12.859375 48.328125 \nQ 20.21875 56 33.015625 56 \nQ 37.15625 56 41.109375 55.140625 \nQ 45.0625 54.296875 48.78125 52.59375 \nz\n\" id=\"DejaVuSans-99\"/>\n    </defs>\n    <g transform=\"translate(456.593385 17.837812)scale(0.14 -0.14)\">\n     <use xlink:href=\"#DejaVuSans-99\"/>\n     <use x=\"54.980469\" xlink:href=\"#DejaVuSans-111\"/>\n     <use x=\"116.162109\" xlink:href=\"#DejaVuSans-97\"/>\n     <use x=\"177.441406\" xlink:href=\"#DejaVuSans-116\"/>\n    </g>\n   </g>\n  </g>\n  <g id=\"axes_7\">\n   <g id=\"patch_32\">\n    <path d=\"M 521.411864 94.770016 \nL 592.344068 94.770016 \nL 592.344068 23.837812 \nL 521.411864 23.837812 \nz\n\" style=\"fill:#ffffff;\"/>\n   </g>\n   <g clip-path=\"url(#p7648bc0c92)\">\n    <image height=\"71\" id=\"image6e99753f70\" transform=\"scale(1 -1)translate(0 -71)\" width=\"71\" x=\"521.411864\" xlink:href=\"data:image/png;base64,\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\" y=\"-23.770016\"/>\n   </g>\n   <g id=\"patch_33\">\n    <path d=\"M 521.411864 94.770016 \nL 521.411864 23.837812 \n\" style=\"fill:none;stroke:#000000;stroke-linecap:square;stroke-linejoin:miter;stroke-width:0.8;\"/>\n   </g>\n   <g id=\"patch_34\">\n    <path d=\"M 592.344068 94.770016 \nL 592.344068 23.837812 \n\" style=\"fill:none;stroke:#000000;stroke-linecap:square;stroke-linejoin:miter;stroke-width:0.8;\"/>\n   </g>\n   <g id=\"patch_35\">\n    <path d=\"M 521.411864 94.770016 \nL 592.344068 94.770016 \n\" style=\"fill:none;stroke:#000000;stroke-linecap:square;stroke-linejoin:miter;stroke-width:0.8;\"/>\n   </g>\n   <g id=\"patch_36\">\n    <path d=\"M 521.411864 23.837812 \nL 592.344068 23.837812 \n\" style=\"fill:none;stroke:#000000;stroke-linecap:square;stroke-linejoin:miter;stroke-width:0.8;\"/>\n   </g>\n   <g id=\"text_7\">\n    <!-- coat -->\n    <g transform=\"translate(541.712029 17.837812)scale(0.14 -0.14)\">\n     <use xlink:href=\"#DejaVuSans-99\"/>\n     <use x=\"54.980469\" xlink:href=\"#DejaVuSans-111\"/>\n     <use x=\"116.162109\" xlink:href=\"#DejaVuSans-97\"/>\n     <use x=\"177.441406\" xlink:href=\"#DejaVuSans-116\"/>\n    </g>\n   </g>\n  </g>\n  <g id=\"axes_8\">\n   <g id=\"patch_37\">\n    <path d=\"M 606.530508 94.770016 \nL 677.462712 94.770016 \nL 677.462712 23.837812 \nL 606.530508 23.837812 \nz\n\" style=\"fill:#ffffff;\"/>\n   </g>\n   <g clip-path=\"url(#p9184660660)\">\n    <image height=\"71\" id=\"image050426b3d9\" transform=\"scale(1 -1)translate(0 -71)\" width=\"71\" x=\"606.530508\" xlink:href=\"data:image/png;base64,\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\" y=\"-23.770016\"/>\n   </g>\n   <g id=\"patch_38\">\n    <path d=\"M 606.530508 94.770016 \nL 606.530508 23.837812 \n\" style=\"fill:none;stroke:#000000;stroke-linecap:square;stroke-linejoin:miter;stroke-width:0.8;\"/>\n   </g>\n   <g id=\"patch_39\">\n    <path d=\"M 677.462712 94.770016 \nL 677.462712 23.837812 \n\" style=\"fill:none;stroke:#000000;stroke-linecap:square;stroke-linejoin:miter;stroke-width:0.8;\"/>\n   </g>\n   <g id=\"patch_40\">\n    <path d=\"M 606.530508 94.770016 \nL 677.462712 94.770016 \n\" style=\"fill:none;stroke:#000000;stroke-linecap:square;stroke-linejoin:miter;stroke-width:0.8;\"/>\n   </g>\n   <g id=\"patch_41\">\n    <path d=\"M 606.530508 23.837812 \nL 677.462712 23.837812 \n\" style=\"fill:none;stroke:#000000;stroke-linecap:square;stroke-linejoin:miter;stroke-width:0.8;\"/>\n   </g>\n   <g id=\"text_8\">\n    <!-- sandal -->\n    <g transform=\"translate(618.945829 17.837812)scale(0.14 -0.14)\">\n     <use xlink:href=\"#DejaVuSans-115\"/>\n     <use x=\"52.099609\" xlink:href=\"#DejaVuSans-97\"/>\n     <use x=\"113.378906\" xlink:href=\"#DejaVuSans-110\"/>\n     <use x=\"176.757812\" xlink:href=\"#DejaVuSans-100\"/>\n     <use x=\"240.234375\" xlink:href=\"#DejaVuSans-97\"/>\n     <use x=\"301.513672\" xlink:href=\"#DejaVuSans-108\"/>\n    </g>\n   </g>\n  </g>\n  <g id=\"axes_9\">\n   <g id=\"patch_42\">\n    <path d=\"M 691.649153 94.770016 \nL 762.581356 94.770016 \nL 762.581356 23.837812 \nL 691.649153 23.837812 \nz\n\" style=\"fill:#ffffff;\"/>\n   </g>\n   <g clip-path=\"url(#p57b53af42f)\">\n    <image height=\"71\" id=\"image6110a405f4\" transform=\"scale(1 -1)translate(0 -71)\" width=\"71\" x=\"691.649153\" xlink:href=\"data:image/png;base64,\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\" y=\"-23.770016\"/>\n   </g>\n   <g id=\"patch_43\">\n    <path d=\"M 691.649153 94.770016 \nL 691.649153 23.837812 \n\" style=\"fill:none;stroke:#000000;stroke-linecap:square;stroke-linejoin:miter;stroke-width:0.8;\"/>\n   </g>\n   <g id=\"patch_44\">\n    <path d=\"M 762.581356 94.770016 \nL 762.581356 23.837812 \n\" style=\"fill:none;stroke:#000000;stroke-linecap:square;stroke-linejoin:miter;stroke-width:0.8;\"/>\n   </g>\n   <g id=\"patch_45\">\n    <path d=\"M 691.649153 94.770016 \nL 762.581356 94.770016 \n\" style=\"fill:none;stroke:#000000;stroke-linecap:square;stroke-linejoin:miter;stroke-width:0.8;\"/>\n   </g>\n   <g id=\"patch_46\">\n    <path d=\"M 691.649153 23.837812 \nL 762.581356 23.837812 \n\" style=\"fill:none;stroke:#000000;stroke-linecap:square;stroke-linejoin:miter;stroke-width:0.8;\"/>\n   </g>\n   <g id=\"text_9\">\n    <!-- coat -->\n    <g transform=\"translate(711.949317 17.837812)scale(0.14 -0.14)\">\n     <use xlink:href=\"#DejaVuSans-99\"/>\n     <use x=\"54.980469\" xlink:href=\"#DejaVuSans-111\"/>\n     <use x=\"116.162109\" xlink:href=\"#DejaVuSans-97\"/>\n     <use x=\"177.441406\" xlink:href=\"#DejaVuSans-116\"/>\n    </g>\n   </g>\n  </g>\n  <g id=\"axes_10\">\n   <g id=\"patch_47\">\n    <path d=\"M 776.767797 94.770016 \nL 847.7 94.770016 \nL 847.7 23.837812 \nL 776.767797 23.837812 \nz\n\" style=\"fill:#ffffff;\"/>\n   </g>\n   <g clip-path=\"url(#pfbaf539da9)\">\n    <image height=\"71\" id=\"imagee927b4c9e0\" transform=\"scale(1 -1)translate(0 -71)\" width=\"71\" x=\"776.767797\" xlink:href=\"data:image/png;base64,\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\" y=\"-23.770016\"/>\n   </g>\n   <g id=\"patch_48\">\n    <path d=\"M 776.767797 94.770016 \nL 776.767797 23.837812 \n\" style=\"fill:none;stroke:#000000;stroke-linecap:square;stroke-linejoin:miter;stroke-width:0.8;\"/>\n   </g>\n   <g id=\"patch_49\">\n    <path d=\"M 847.7 94.770016 \nL 847.7 23.837812 \n\" style=\"fill:none;stroke:#000000;stroke-linecap:square;stroke-linejoin:miter;stroke-width:0.8;\"/>\n   </g>\n   <g id=\"patch_50\">\n    <path d=\"M 776.767797 94.770016 \nL 847.7 94.770016 \n\" style=\"fill:none;stroke:#000000;stroke-linecap:square;stroke-linejoin:miter;stroke-width:0.8;\"/>\n   </g>\n   <g id=\"patch_51\">\n    <path d=\"M 776.767797 23.837812 \nL 847.7 23.837812 \n\" style=\"fill:none;stroke:#000000;stroke-linecap:square;stroke-linejoin:miter;stroke-width:0.8;\"/>\n   </g>\n   <g id=\"text_10\">\n    <!-- bag -->\n    <defs>\n     <path d=\"M 45.40625 27.984375 \nQ 45.40625 37.75 41.375 43.109375 \nQ 37.359375 48.484375 30.078125 48.484375 \nQ 22.859375 48.484375 18.828125 43.109375 \nQ 14.796875 37.75 14.796875 27.984375 \nQ 14.796875 18.265625 18.828125 12.890625 \nQ 22.859375 7.515625 30.078125 7.515625 \nQ 37.359375 7.515625 41.375 12.890625 \nQ 45.40625 18.265625 45.40625 27.984375 \nz\nM 54.390625 6.78125 \nQ 54.390625 -7.171875 48.1875 -13.984375 \nQ 42 -20.796875 29.203125 -20.796875 \nQ 24.46875 -20.796875 20.265625 -20.09375 \nQ 16.0625 -19.390625 12.109375 -17.921875 \nL 12.109375 -9.1875 \nQ 16.0625 -11.328125 19.921875 -12.34375 \nQ 23.78125 -13.375 27.78125 -13.375 \nQ 36.625 -13.375 41.015625 -8.765625 \nQ 45.40625 -4.15625 45.40625 5.171875 \nL 45.40625 9.625 \nQ 42.625 4.78125 38.28125 2.390625 \nQ 33.9375 0 27.875 0 \nQ 17.828125 0 11.671875 7.65625 \nQ 5.515625 15.328125 5.515625 27.984375 \nQ 5.515625 40.671875 11.671875 48.328125 \nQ 17.828125 56 27.875 56 \nQ 33.9375 56 38.28125 53.609375 \nQ 42.625 51.21875 45.40625 46.390625 \nL 45.40625 54.6875 \nL 54.390625 54.6875 \nz\n\" id=\"DejaVuSans-103\"/>\n    </defs>\n    <g transform=\"translate(799.056398 17.837812)scale(0.14 -0.14)\">\n     <use xlink:href=\"#DejaVuSans-98\"/>\n     <use x=\"63.476562\" xlink:href=\"#DejaVuSans-97\"/>\n     <use x=\"124.755859\" xlink:href=\"#DejaVuSans-103\"/>\n    </g>\n   </g>\n  </g>\n </g>\n <defs>\n  <clipPath id=\"p96a40efd97\">\n   <rect height=\"70.932203\" width=\"70.932203\" x=\"10.7\" y=\"23.837812\"/>\n  </clipPath>\n  <clipPath id=\"p31427d830e\">\n   <rect height=\"70.932203\" width=\"70.932203\" x=\"95.818644\" y=\"23.837812\"/>\n  </clipPath>\n  <clipPath id=\"p6759ed2886\">\n   <rect height=\"70.932203\" width=\"70.932203\" x=\"180.937288\" y=\"23.837812\"/>\n  </clipPath>\n  <clipPath id=\"p1e41ff90c1\">\n   <rect height=\"70.932203\" width=\"70.932203\" x=\"266.055932\" y=\"23.837812\"/>\n  </clipPath>\n  <clipPath id=\"pb75e1c81bb\">\n   <rect height=\"70.932203\" width=\"70.932203\" x=\"351.174576\" y=\"23.837812\"/>\n  </clipPath>\n  <clipPath id=\"p0e8c1cc9f9\">\n   <rect height=\"70.932203\" width=\"70.932203\" x=\"436.29322\" y=\"23.837812\"/>\n  </clipPath>\n  <clipPath id=\"p7648bc0c92\">\n   <rect height=\"70.932203\" width=\"70.932203\" x=\"521.411864\" y=\"23.837812\"/>\n  </clipPath>\n  <clipPath id=\"p9184660660\">\n   <rect height=\"70.932203\" width=\"70.932203\" x=\"606.530508\" y=\"23.837812\"/>\n  </clipPath>\n  <clipPath id=\"p57b53af42f\">\n   <rect height=\"70.932203\" width=\"70.932203\" x=\"691.649153\" y=\"23.837812\"/>\n  </clipPath>\n  <clipPath id=\"pfbaf539da9\">\n   <rect height=\"70.932203\" width=\"70.932203\" x=\"776.767797\" y=\"23.837812\"/>\n  </clipPath>\n </defs>\n</svg>\n"
          },
          "metadata": {
            "tags": [],
            "needs_background": "light"
          }
        }
      ]
    },
    {
      "cell_type": "code",
      "metadata": {
        "id": "iZjoSXcQUp8K"
      },
      "source": [
        "transformer = transforms.Compose([\n",
        "    transforms.ToTensor(),\n",
        "    transforms.Normalize(0.13, 0.31)])\n",
        "mnist_train = mnist_train.transform_first(transformer)"
      ],
      "execution_count": 62,
      "outputs": []
    },
    {
      "cell_type": "code",
      "metadata": {
        "id": "zi9I4OXsUqD_"
      },
      "source": [
        "batch_size = 256\n",
        "train_data = gluon.data.DataLoader(\n",
        "    mnist_train, batch_size=batch_size, shuffle=True, num_workers=4)"
      ],
      "execution_count": 63,
      "outputs": []
    },
    {
      "cell_type": "code",
      "metadata": {
        "colab": {
          "base_uri": "https://localhost:8080/"
        },
        "id": "5DMcfOL2UqGs",
        "outputId": "d843de49-b699-4288-bd6d-b09afe4b0cce"
      },
      "source": [
        "for data, label in train_data:\n",
        "    print(data.shape, label.shape)\n",
        "    break"
      ],
      "execution_count": 64,
      "outputs": [
        {
          "output_type": "stream",
          "text": [
            "(256, 1, 28, 28) (256,)\n"
          ],
          "name": "stdout"
        }
      ]
    },
    {
      "cell_type": "code",
      "metadata": {
        "colab": {
          "base_uri": "https://localhost:8080/"
        },
        "id": "_vNoq5xrUqJw",
        "outputId": "7e6969ab-ef1e-4db3-913a-537a7fbf9bf1"
      },
      "source": [
        "mnist_valid = gluon.data.vision.FashionMNIST(train=False)\n",
        "valid_data = gluon.data.DataLoader(\n",
        "    mnist_valid.transform_first(transformer),\n",
        "    batch_size=batch_size, num_workers=4)"
      ],
      "execution_count": 65,
      "outputs": [
        {
          "output_type": "stream",
          "text": [
            "Downloading /root/.mxnet/datasets/fashion-mnist/t10k-images-idx3-ubyte.gz from https://apache-mxnet.s3-accelerate.dualstack.amazonaws.com/gluon/dataset/fashion-mnist/t10k-images-idx3-ubyte.gz...\n",
            "Downloading /root/.mxnet/datasets/fashion-mnist/t10k-labels-idx1-ubyte.gz from https://apache-mxnet.s3-accelerate.dualstack.amazonaws.com/gluon/dataset/fashion-mnist/t10k-labels-idx1-ubyte.gz...\n"
          ],
          "name": "stdout"
        }
      ]
    },
    {
      "cell_type": "code",
      "metadata": {
        "id": "wRdT_2BbUqNE"
      },
      "source": [
        "net = nn.Sequential()\n",
        "net.add(nn.Conv2D(channels=6, kernel_size=5, activation='relu'),\n",
        "        nn.MaxPool2D(pool_size=2, strides=2),\n",
        "        nn.Conv2D(channels=16, kernel_size=3, activation='relu'),\n",
        "        nn.MaxPool2D(pool_size=2, strides=2),\n",
        "        nn.Flatten(),\n",
        "        nn.Dense(120, activation=\"relu\"),\n",
        "        nn.Dense(84, activation=\"relu\"),\n",
        "        nn.Dense(10))\n",
        "net.initialize(init=init.Xavier())"
      ],
      "execution_count": 66,
      "outputs": []
    },
    {
      "cell_type": "code",
      "metadata": {
        "id": "aS06GsblUqQS"
      },
      "source": [
        "softmax_cross_entropy = gluon.loss.SoftmaxCrossEntropyLoss()"
      ],
      "execution_count": 67,
      "outputs": []
    },
    {
      "cell_type": "code",
      "metadata": {
        "id": "iOogadfVUqTi"
      },
      "source": [
        "trainer = gluon.Trainer(net.collect_params(), 'sgd', {'learning_rate': 0.1})"
      ],
      "execution_count": 68,
      "outputs": []
    },
    {
      "cell_type": "code",
      "metadata": {
        "id": "y_7AoB3XUqXE"
      },
      "source": [
        "def acc(output, label):\n",
        "    # output: (batch, num_output) float32 ndarray\n",
        "    # label: (batch, ) int32 ndarray\n",
        "    return (output.argmax(axis=1) ==\n",
        "            label.astype('float32')).mean().asscalar()"
      ],
      "execution_count": 69,
      "outputs": []
    },
    {
      "cell_type": "code",
      "metadata": {
        "colab": {
          "base_uri": "https://localhost:8080/"
        },
        "id": "3S86xre3Uqap",
        "outputId": "0b997822-348a-4dbd-cb69-2acf8e14b722"
      },
      "source": [
        "for epoch in range(10):\n",
        "    train_loss, train_acc, valid_acc = 0., 0., 0.\n",
        "    tic = time.time()\n",
        "    for data, label in train_data:\n",
        "        # forward + backward\n",
        "        with autograd.record():\n",
        "            output = net(data)\n",
        "            loss = softmax_cross_entropy(output, label)\n",
        "        loss.backward()\n",
        "        # update parameters\n",
        "        trainer.step(batch_size)\n",
        "        # calculate training metrics\n",
        "        train_loss += loss.mean().asscalar()\n",
        "        train_acc += acc(output, label)\n",
        "    # calculate validation accuracy\n",
        "    for data, label in valid_data:\n",
        "        valid_acc += acc(net(data), label)\n",
        "    print(\"Epoch %d: loss %.3f, train acc %.3f, test acc %.3f, in %.1f sec\" % (\n",
        "            epoch, train_loss/len(train_data), train_acc/len(train_data),\n",
        "            valid_acc/len(valid_data), time.time()-tic))"
      ],
      "execution_count": 70,
      "outputs": [
        {
          "output_type": "stream",
          "text": [
            "Epoch 0: loss 0.745, train acc 0.721, test acc 0.827, in 24.5 sec\n",
            "Epoch 1: loss 0.466, train acc 0.826, test acc 0.853, in 24.1 sec\n",
            "Epoch 2: loss 0.406, train acc 0.849, test acc 0.863, in 23.5 sec\n",
            "Epoch 3: loss 0.367, train acc 0.865, test acc 0.872, in 23.6 sec\n",
            "Epoch 4: loss 0.340, train acc 0.874, test acc 0.871, in 23.9 sec\n",
            "Epoch 5: loss 0.319, train acc 0.882, test acc 0.885, in 23.6 sec\n",
            "Epoch 6: loss 0.303, train acc 0.888, test acc 0.890, in 23.3 sec\n",
            "Epoch 7: loss 0.292, train acc 0.891, test acc 0.890, in 23.5 sec\n",
            "Epoch 8: loss 0.283, train acc 0.894, test acc 0.888, in 24.3 sec\n",
            "Epoch 9: loss 0.272, train acc 0.898, test acc 0.892, in 24.4 sec\n"
          ],
          "name": "stdout"
        }
      ]
    },
    {
      "cell_type": "code",
      "metadata": {
        "id": "aECKT_qVUqeH"
      },
      "source": [
        "net.save_parameters('net.params')"
      ],
      "execution_count": 71,
      "outputs": []
    },
    {
      "cell_type": "markdown",
      "metadata": {
        "id": "ZsqdP1DwVX9d"
      },
      "source": [
        "# **Predict with a pre-trained model**"
      ]
    },
    {
      "cell_type": "code",
      "metadata": {
        "id": "66gsV1uZUqhL"
      },
      "source": [
        "from mxnet import nd\n",
        "from mxnet import gluon\n",
        "from mxnet.gluon import nn\n",
        "from mxnet.gluon.data.vision import datasets, transforms\n",
        "from IPython import display\n",
        "import matplotlib.pyplot as plt"
      ],
      "execution_count": 72,
      "outputs": []
    },
    {
      "cell_type": "code",
      "metadata": {
        "id": "6U950mhsUqkR"
      },
      "source": [
        "net = nn.Sequential()\n",
        "net.add(nn.Conv2D(channels=6, kernel_size=5, activation='relu'),\n",
        "        nn.MaxPool2D(pool_size=2, strides=2),\n",
        "        nn.Conv2D(channels=16, kernel_size=3, activation='relu'),\n",
        "        nn.MaxPool2D(pool_size=2, strides=2),\n",
        "        nn.Flatten(),\n",
        "        nn.Dense(120, activation=\"relu\"),\n",
        "        nn.Dense(84, activation=\"relu\"),\n",
        "        nn.Dense(10))"
      ],
      "execution_count": 73,
      "outputs": []
    },
    {
      "cell_type": "code",
      "metadata": {
        "id": "6sPvVHiUUqnt"
      },
      "source": [
        "net.load_parameters('net.params')"
      ],
      "execution_count": 74,
      "outputs": []
    },
    {
      "cell_type": "code",
      "metadata": {
        "id": "NhAcGTxQUqrM"
      },
      "source": [
        "transformer = transforms.Compose([\n",
        "    transforms.ToTensor(),\n",
        "    transforms.Normalize(0.13, 0.31)])"
      ],
      "execution_count": 75,
      "outputs": []
    },
    {
      "cell_type": "code",
      "metadata": {
        "id": "kZ1P8_3TUquv"
      },
      "source": [
        "mnist_valid = datasets.FashionMNIST(train=False)\n",
        "X, y = mnist_valid[:10]\n",
        "preds = []\n",
        "for x in X:\n",
        "    x = transformer(x).expand_dims(axis=0)\n",
        "    pred = net(x).argmax(axis=1)\n",
        "    preds.append(pred.astype('int32').asscalar())"
      ],
      "execution_count": 76,
      "outputs": []
    },
    {
      "cell_type": "code",
      "metadata": {
        "colab": {
          "base_uri": "https://localhost:8080/",
          "height": 202
        },
        "id": "acjmA65fUqyC",
        "outputId": "fb317fcf-b6ec-4f55-b7c2-3a15687a38f8"
      },
      "source": [
        "_, figs = plt.subplots(1, 10, figsize=(15, 15))\n",
        "text_labels = ['t-shirt', 'trouser', 'pullover', 'dress', 'coat',\n",
        "               'sandal', 'shirt', 'sneaker', 'bag', 'ankle boot']\n",
        "display.set_matplotlib_formats('svg')\n",
        "for f,x,yi,pyi in zip(figs, X, y, preds):\n",
        "    f.imshow(x.reshape((28,28)).asnumpy())\n",
        "    ax = f.axes\n",
        "    ax.set_title(text_labels[yi]+'\\n'+text_labels[pyi])\n",
        "    ax.title.set_fontsize(14)\n",
        "    ax.get_xaxis().set_visible(False)\n",
        "    ax.get_yaxis().set_visible(False)\n",
        "plt.show()"
      ],
      "execution_count": 77,
      "outputs": [
        {
          "output_type": "display_data",
          "data": {
            "text/plain": [
              "<Figure size 1080x1080 with 10 Axes>"
            ],
            "image/svg+xml": "<?xml version=\"1.0\" encoding=\"utf-8\" standalone=\"no\"?>\n<!DOCTYPE svg PUBLIC \"-//W3C//DTD SVG 1.1//EN\"\n  \"http://www.w3.org/Graphics/SVG/1.1/DTD/svg11.dtd\">\n<!-- Created with matplotlib (https://matplotlib.org/) -->\n<svg height=\"121.146953pt\" version=\"1.1\" viewBox=\"0 0 854.9 121.146953\" width=\"854.9pt\" xmlns=\"http://www.w3.org/2000/svg\" xmlns:xlink=\"http://www.w3.org/1999/xlink\">\n <defs>\n  <style type=\"text/css\">\n*{stroke-linecap:butt;stroke-linejoin:round;}\n  </style>\n </defs>\n <g id=\"figure_1\">\n  <g id=\"patch_1\">\n   <path d=\"M 0 121.146953 \nL 854.9 121.146953 \nL 854.9 0 \nL 0 0 \nz\n\" style=\"fill:none;\"/>\n  </g>\n  <g id=\"axes_1\">\n   <g id=\"patch_2\">\n    <path d=\"M 10.7 110.446953 \nL 81.632203 110.446953 \nL 81.632203 39.51475 \nL 10.7 39.51475 \nz\n\" style=\"fill:#ffffff;\"/>\n   </g>\n   <g clip-path=\"url(#p1e3c4f5647)\">\n    <image height=\"71\" id=\"image06b84a8931\" transform=\"scale(1 -1)translate(0 -71)\" width=\"71\" x=\"10.7\" xlink:href=\"data:image/png;base64,\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\" y=\"-39.446953\"/>\n   </g>\n   <g id=\"patch_3\">\n    <path d=\"M 10.7 110.446953 \nL 10.7 39.51475 \n\" style=\"fill:none;stroke:#000000;stroke-linecap:square;stroke-linejoin:miter;stroke-width:0.8;\"/>\n   </g>\n   <g id=\"patch_4\">\n    <path d=\"M 81.632203 110.446953 \nL 81.632203 39.51475 \n\" style=\"fill:none;stroke:#000000;stroke-linecap:square;stroke-linejoin:miter;stroke-width:0.8;\"/>\n   </g>\n   <g id=\"patch_5\">\n    <path d=\"M 10.7 110.446953 \nL 81.632203 110.446953 \n\" style=\"fill:none;stroke:#000000;stroke-linecap:square;stroke-linejoin:miter;stroke-width:0.8;\"/>\n   </g>\n   <g id=\"patch_6\">\n    <path d=\"M 10.7 39.51475 \nL 81.632203 39.51475 \n\" style=\"fill:none;stroke:#000000;stroke-linecap:square;stroke-linejoin:miter;stroke-width:0.8;\"/>\n   </g>\n   <g id=\"text_1\">\n    <!-- t-shirt -->\n    <defs>\n     <path d=\"M 18.3125 70.21875 \nL 18.3125 54.6875 \nL 36.8125 54.6875 \nL 36.8125 47.703125 \nL 18.3125 47.703125 \nL 18.3125 18.015625 \nQ 18.3125 11.328125 20.140625 9.421875 \nQ 21.96875 7.515625 27.59375 7.515625 \nL 36.8125 7.515625 \nL 36.8125 0 \nL 27.59375 0 \nQ 17.1875 0 13.234375 3.875 \nQ 9.28125 7.765625 9.28125 18.015625 \nL 9.28125 47.703125 \nL 2.6875 47.703125 \nL 2.6875 54.6875 \nL 9.28125 54.6875 \nL 9.28125 70.21875 \nz\n\" id=\"DejaVuSans-116\"/>\n     <path d=\"M 4.890625 31.390625 \nL 31.203125 31.390625 \nL 31.203125 23.390625 \nL 4.890625 23.390625 \nz\n\" id=\"DejaVuSans-45\"/>\n     <path d=\"M 44.28125 53.078125 \nL 44.28125 44.578125 \nQ 40.484375 46.53125 36.375 47.5 \nQ 32.28125 48.484375 27.875 48.484375 \nQ 21.1875 48.484375 17.84375 46.4375 \nQ 14.5 44.390625 14.5 40.28125 \nQ 14.5 37.15625 16.890625 35.375 \nQ 19.28125 33.59375 26.515625 31.984375 \nL 29.59375 31.296875 \nQ 39.15625 29.25 43.1875 25.515625 \nQ 47.21875 21.78125 47.21875 15.09375 \nQ 47.21875 7.46875 41.1875 3.015625 \nQ 35.15625 -1.421875 24.609375 -1.421875 \nQ 20.21875 -1.421875 15.453125 -0.5625 \nQ 10.6875 0.296875 5.421875 2 \nL 5.421875 11.28125 \nQ 10.40625 8.6875 15.234375 7.390625 \nQ 20.0625 6.109375 24.8125 6.109375 \nQ 31.15625 6.109375 34.5625 8.28125 \nQ 37.984375 10.453125 37.984375 14.40625 \nQ 37.984375 18.0625 35.515625 20.015625 \nQ 33.0625 21.96875 24.703125 23.78125 \nL 21.578125 24.515625 \nQ 13.234375 26.265625 9.515625 29.90625 \nQ 5.8125 33.546875 5.8125 39.890625 \nQ 5.8125 47.609375 11.28125 51.796875 \nQ 16.75 56 26.8125 56 \nQ 31.78125 56 36.171875 55.265625 \nQ 40.578125 54.546875 44.28125 53.078125 \nz\n\" id=\"DejaVuSans-115\"/>\n     <path d=\"M 54.890625 33.015625 \nL 54.890625 0 \nL 45.90625 0 \nL 45.90625 32.71875 \nQ 45.90625 40.484375 42.875 44.328125 \nQ 39.84375 48.1875 33.796875 48.1875 \nQ 26.515625 48.1875 22.3125 43.546875 \nQ 18.109375 38.921875 18.109375 30.90625 \nL 18.109375 0 \nL 9.078125 0 \nL 9.078125 75.984375 \nL 18.109375 75.984375 \nL 18.109375 46.1875 \nQ 21.34375 51.125 25.703125 53.5625 \nQ 30.078125 56 35.796875 56 \nQ 45.21875 56 50.046875 50.171875 \nQ 54.890625 44.34375 54.890625 33.015625 \nz\n\" id=\"DejaVuSans-104\"/>\n     <path d=\"M 9.421875 54.6875 \nL 18.40625 54.6875 \nL 18.40625 0 \nL 9.421875 0 \nz\nM 9.421875 75.984375 \nL 18.40625 75.984375 \nL 18.40625 64.59375 \nL 9.421875 64.59375 \nz\n\" id=\"DejaVuSans-105\"/>\n     <path d=\"M 41.109375 46.296875 \nQ 39.59375 47.171875 37.8125 47.578125 \nQ 36.03125 48 33.890625 48 \nQ 26.265625 48 22.1875 43.046875 \nQ 18.109375 38.09375 18.109375 28.8125 \nL 18.109375 0 \nL 9.078125 0 \nL 9.078125 54.6875 \nL 18.109375 54.6875 \nL 18.109375 46.1875 \nQ 20.953125 51.171875 25.484375 53.578125 \nQ 30.03125 56 36.53125 56 \nQ 37.453125 56 38.578125 55.875 \nQ 39.703125 55.765625 41.0625 55.515625 \nz\n\" id=\"DejaVuSans-114\"/>\n    </defs>\n    <g transform=\"translate(25.247039 17.837812)scale(0.14 -0.14)\">\n     <use xlink:href=\"#DejaVuSans-116\"/>\n     <use x=\"39.208984\" xlink:href=\"#DejaVuSans-45\"/>\n     <use x=\"75.292969\" xlink:href=\"#DejaVuSans-115\"/>\n     <use x=\"127.392578\" xlink:href=\"#DejaVuSans-104\"/>\n     <use x=\"190.771484\" xlink:href=\"#DejaVuSans-105\"/>\n     <use x=\"218.554688\" xlink:href=\"#DejaVuSans-114\"/>\n     <use x=\"259.667969\" xlink:href=\"#DejaVuSans-116\"/>\n    </g>\n    <!-- t-shirt -->\n    <g transform=\"translate(25.247039 33.51475)scale(0.14 -0.14)\">\n     <use xlink:href=\"#DejaVuSans-116\"/>\n     <use x=\"39.208984\" xlink:href=\"#DejaVuSans-45\"/>\n     <use x=\"75.292969\" xlink:href=\"#DejaVuSans-115\"/>\n     <use x=\"127.392578\" xlink:href=\"#DejaVuSans-104\"/>\n     <use x=\"190.771484\" xlink:href=\"#DejaVuSans-105\"/>\n     <use x=\"218.554688\" xlink:href=\"#DejaVuSans-114\"/>\n     <use x=\"259.667969\" xlink:href=\"#DejaVuSans-116\"/>\n    </g>\n   </g>\n  </g>\n  <g id=\"axes_2\">\n   <g id=\"patch_7\">\n    <path d=\"M 95.818644 110.446953 \nL 166.750847 110.446953 \nL 166.750847 39.51475 \nL 95.818644 39.51475 \nz\n\" style=\"fill:#ffffff;\"/>\n   </g>\n   <g clip-path=\"url(#p4943db4c63)\">\n    <image height=\"71\" id=\"imagea8f6bde2f1\" transform=\"scale(1 -1)translate(0 -71)\" width=\"71\" x=\"95.818644\" xlink:href=\"data:image/png;base64,\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\" y=\"-39.446953\"/>\n   </g>\n   <g id=\"patch_8\">\n    <path d=\"M 95.818644 110.446953 \nL 95.818644 39.51475 \n\" style=\"fill:none;stroke:#000000;stroke-linecap:square;stroke-linejoin:miter;stroke-width:0.8;\"/>\n   </g>\n   <g id=\"patch_9\">\n    <path d=\"M 166.750847 110.446953 \nL 166.750847 39.51475 \n\" style=\"fill:none;stroke:#000000;stroke-linecap:square;stroke-linejoin:miter;stroke-width:0.8;\"/>\n   </g>\n   <g id=\"patch_10\">\n    <path d=\"M 95.818644 110.446953 \nL 166.750847 110.446953 \n\" style=\"fill:none;stroke:#000000;stroke-linecap:square;stroke-linejoin:miter;stroke-width:0.8;\"/>\n   </g>\n   <g id=\"patch_11\">\n    <path d=\"M 95.818644 39.51475 \nL 166.750847 39.51475 \n\" style=\"fill:none;stroke:#000000;stroke-linecap:square;stroke-linejoin:miter;stroke-width:0.8;\"/>\n   </g>\n   <g id=\"text_2\">\n    <!-- trouser -->\n    <defs>\n     <path d=\"M 30.609375 48.390625 \nQ 23.390625 48.390625 19.1875 42.75 \nQ 14.984375 37.109375 14.984375 27.296875 \nQ 14.984375 17.484375 19.15625 11.84375 \nQ 23.34375 6.203125 30.609375 6.203125 \nQ 37.796875 6.203125 41.984375 11.859375 \nQ 46.1875 17.53125 46.1875 27.296875 \nQ 46.1875 37.015625 41.984375 42.703125 \nQ 37.796875 48.390625 30.609375 48.390625 \nz\nM 30.609375 56 \nQ 42.328125 56 49.015625 48.375 \nQ 55.71875 40.765625 55.71875 27.296875 \nQ 55.71875 13.875 49.015625 6.21875 \nQ 42.328125 -1.421875 30.609375 -1.421875 \nQ 18.84375 -1.421875 12.171875 6.21875 \nQ 5.515625 13.875 5.515625 27.296875 \nQ 5.515625 40.765625 12.171875 48.375 \nQ 18.84375 56 30.609375 56 \nz\n\" id=\"DejaVuSans-111\"/>\n     <path d=\"M 8.5 21.578125 \nL 8.5 54.6875 \nL 17.484375 54.6875 \nL 17.484375 21.921875 \nQ 17.484375 14.15625 20.5 10.265625 \nQ 23.53125 6.390625 29.59375 6.390625 \nQ 36.859375 6.390625 41.078125 11.03125 \nQ 45.3125 15.671875 45.3125 23.6875 \nL 45.3125 54.6875 \nL 54.296875 54.6875 \nL 54.296875 0 \nL 45.3125 0 \nL 45.3125 8.40625 \nQ 42.046875 3.421875 37.71875 1 \nQ 33.40625 -1.421875 27.6875 -1.421875 \nQ 18.265625 -1.421875 13.375 4.4375 \nQ 8.5 10.296875 8.5 21.578125 \nz\nM 31.109375 56 \nz\n\" id=\"DejaVuSans-117\"/>\n     <path d=\"M 56.203125 29.59375 \nL 56.203125 25.203125 \nL 14.890625 25.203125 \nQ 15.484375 15.921875 20.484375 11.0625 \nQ 25.484375 6.203125 34.421875 6.203125 \nQ 39.59375 6.203125 44.453125 7.46875 \nQ 49.3125 8.734375 54.109375 11.28125 \nL 54.109375 2.78125 \nQ 49.265625 0.734375 44.1875 -0.34375 \nQ 39.109375 -1.421875 33.890625 -1.421875 \nQ 20.796875 -1.421875 13.15625 6.1875 \nQ 5.515625 13.8125 5.515625 26.8125 \nQ 5.515625 40.234375 12.765625 48.109375 \nQ 20.015625 56 32.328125 56 \nQ 43.359375 56 49.78125 48.890625 \nQ 56.203125 41.796875 56.203125 29.59375 \nz\nM 47.21875 32.234375 \nQ 47.125 39.59375 43.09375 43.984375 \nQ 39.0625 48.390625 32.421875 48.390625 \nQ 24.90625 48.390625 20.390625 44.140625 \nQ 15.875 39.890625 15.1875 32.171875 \nz\n\" id=\"DejaVuSans-101\"/>\n    </defs>\n    <g transform=\"translate(106.26959 17.837812)scale(0.14 -0.14)\">\n     <use xlink:href=\"#DejaVuSans-116\"/>\n     <use x=\"39.208984\" xlink:href=\"#DejaVuSans-114\"/>\n     <use x=\"78.072266\" xlink:href=\"#DejaVuSans-111\"/>\n     <use x=\"139.253906\" xlink:href=\"#DejaVuSans-117\"/>\n     <use x=\"202.632812\" xlink:href=\"#DejaVuSans-115\"/>\n     <use x=\"254.732422\" xlink:href=\"#DejaVuSans-101\"/>\n     <use x=\"316.255859\" xlink:href=\"#DejaVuSans-114\"/>\n    </g>\n    <!-- trouser -->\n    <g transform=\"translate(106.26959 33.51475)scale(0.14 -0.14)\">\n     <use xlink:href=\"#DejaVuSans-116\"/>\n     <use x=\"39.208984\" xlink:href=\"#DejaVuSans-114\"/>\n     <use x=\"78.072266\" xlink:href=\"#DejaVuSans-111\"/>\n     <use x=\"139.253906\" xlink:href=\"#DejaVuSans-117\"/>\n     <use x=\"202.632812\" xlink:href=\"#DejaVuSans-115\"/>\n     <use x=\"254.732422\" xlink:href=\"#DejaVuSans-101\"/>\n     <use x=\"316.255859\" xlink:href=\"#DejaVuSans-114\"/>\n    </g>\n   </g>\n  </g>\n  <g id=\"axes_3\">\n   <g id=\"patch_12\">\n    <path d=\"M 180.937288 110.446953 \nL 251.869492 110.446953 \nL 251.869492 39.51475 \nL 180.937288 39.51475 \nz\n\" style=\"fill:#ffffff;\"/>\n   </g>\n   <g clip-path=\"url(#p6225f498d1)\">\n    <image height=\"71\" id=\"image204cb0dad9\" transform=\"scale(1 -1)translate(0 -71)\" width=\"71\" x=\"180.937288\" xlink:href=\"data:image/png;base64,\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\" y=\"-39.446953\"/>\n   </g>\n   <g id=\"patch_13\">\n    <path d=\"M 180.937288 110.446953 \nL 180.937288 39.51475 \n\" style=\"fill:none;stroke:#000000;stroke-linecap:square;stroke-linejoin:miter;stroke-width:0.8;\"/>\n   </g>\n   <g id=\"patch_14\">\n    <path d=\"M 251.869492 110.446953 \nL 251.869492 39.51475 \n\" style=\"fill:none;stroke:#000000;stroke-linecap:square;stroke-linejoin:miter;stroke-width:0.8;\"/>\n   </g>\n   <g id=\"patch_15\">\n    <path d=\"M 180.937288 110.446953 \nL 251.869492 110.446953 \n\" style=\"fill:none;stroke:#000000;stroke-linecap:square;stroke-linejoin:miter;stroke-width:0.8;\"/>\n   </g>\n   <g id=\"patch_16\">\n    <path d=\"M 180.937288 39.51475 \nL 251.869492 39.51475 \n\" style=\"fill:none;stroke:#000000;stroke-linecap:square;stroke-linejoin:miter;stroke-width:0.8;\"/>\n   </g>\n   <g id=\"text_3\">\n    <!-- pullover -->\n    <defs>\n     <path d=\"M 18.109375 8.203125 \nL 18.109375 -20.796875 \nL 9.078125 -20.796875 \nL 9.078125 54.6875 \nL 18.109375 54.6875 \nL 18.109375 46.390625 \nQ 20.953125 51.265625 25.265625 53.625 \nQ 29.59375 56 35.59375 56 \nQ 45.5625 56 51.78125 48.09375 \nQ 58.015625 40.1875 58.015625 27.296875 \nQ 58.015625 14.40625 51.78125 6.484375 \nQ 45.5625 -1.421875 35.59375 -1.421875 \nQ 29.59375 -1.421875 25.265625 0.953125 \nQ 20.953125 3.328125 18.109375 8.203125 \nz\nM 48.6875 27.296875 \nQ 48.6875 37.203125 44.609375 42.84375 \nQ 40.53125 48.484375 33.40625 48.484375 \nQ 26.265625 48.484375 22.1875 42.84375 \nQ 18.109375 37.203125 18.109375 27.296875 \nQ 18.109375 17.390625 22.1875 11.75 \nQ 26.265625 6.109375 33.40625 6.109375 \nQ 40.53125 6.109375 44.609375 11.75 \nQ 48.6875 17.390625 48.6875 27.296875 \nz\n\" id=\"DejaVuSans-112\"/>\n     <path d=\"M 9.421875 75.984375 \nL 18.40625 75.984375 \nL 18.40625 0 \nL 9.421875 0 \nz\n\" id=\"DejaVuSans-108\"/>\n     <path d=\"M 2.984375 54.6875 \nL 12.5 54.6875 \nL 29.59375 8.796875 \nL 46.6875 54.6875 \nL 56.203125 54.6875 \nL 35.6875 0 \nL 23.484375 0 \nz\n\" id=\"DejaVuSans-118\"/>\n    </defs>\n    <g transform=\"translate(188.022765 17.837812)scale(0.14 -0.14)\">\n     <use xlink:href=\"#DejaVuSans-112\"/>\n     <use x=\"63.476562\" xlink:href=\"#DejaVuSans-117\"/>\n     <use x=\"126.855469\" xlink:href=\"#DejaVuSans-108\"/>\n     <use x=\"154.638672\" xlink:href=\"#DejaVuSans-108\"/>\n     <use x=\"182.421875\" xlink:href=\"#DejaVuSans-111\"/>\n     <use x=\"243.603516\" xlink:href=\"#DejaVuSans-118\"/>\n     <use x=\"302.783203\" xlink:href=\"#DejaVuSans-101\"/>\n     <use x=\"364.306641\" xlink:href=\"#DejaVuSans-114\"/>\n    </g>\n    <!-- pullover -->\n    <g transform=\"translate(188.022765 33.51475)scale(0.14 -0.14)\">\n     <use xlink:href=\"#DejaVuSans-112\"/>\n     <use x=\"63.476562\" xlink:href=\"#DejaVuSans-117\"/>\n     <use x=\"126.855469\" xlink:href=\"#DejaVuSans-108\"/>\n     <use x=\"154.638672\" xlink:href=\"#DejaVuSans-108\"/>\n     <use x=\"182.421875\" xlink:href=\"#DejaVuSans-111\"/>\n     <use x=\"243.603516\" xlink:href=\"#DejaVuSans-118\"/>\n     <use x=\"302.783203\" xlink:href=\"#DejaVuSans-101\"/>\n     <use x=\"364.306641\" xlink:href=\"#DejaVuSans-114\"/>\n    </g>\n   </g>\n  </g>\n  <g id=\"axes_4\">\n   <g id=\"patch_17\">\n    <path d=\"M 266.055932 110.446953 \nL 336.988136 110.446953 \nL 336.988136 39.51475 \nL 266.055932 39.51475 \nz\n\" style=\"fill:#ffffff;\"/>\n   </g>\n   <g clip-path=\"url(#p8d21af852d)\">\n    <image height=\"71\" id=\"image2f528b8170\" transform=\"scale(1 -1)translate(0 -71)\" width=\"71\" x=\"266.055932\" xlink:href=\"data:image/png;base64,\niVBORw0KGgoAAAANSUhEUgAAAEcAAABHCAYAAABVsFofAAAABHNCSVQICAgIfAhkiAAAIABJREFUeJy1vFmsZdd55/f71tprD2ef8U5Vt6puFYtVnERSpJqkZMuGPECO2w1n6jT80EDykARxXpLn5C3IUx76IUg/dIAgA7oTxAHcDSNGW4jstBS5ZZkiqYGSOFexhltVdzr3nHvGPa218rBO3SLFIlmS3Qu4qFv3nL332v/9rW/9v//3fVu+Lv/A87Ahwsk//ArTvz/lXH/Cv7f9I15Mb1L7iLmP+fOT53j1H71M9//8a/TGOm7nLNV6yq2/azjz3AGzImE2S/FWQO6f0iPaI6vfEY93CtsocIKvFdjVl5UPx8nqX0/4zMuDOXpQpUIsOOPxiUPPNJf/7xL1//0Q/9UXuPH7LeqNhl999gP+YOs1AKxX3K0H/Pf/z++x8+eWZFig3r6Bm04/BkH0UGA+jhEKj8ah8dQP/ZKCSOEjhVegxaOVQ5QPNyUfOdcKFJEAkMMhSvAA2oNbff8UnBVAXsK53EefpeD16jMFKPAKvBJWFwh/X11X4XCogL24B+dXHwH8kcARRTlQfP3Su1xJD3k6uUdHVXSoOMOMx9Ij/ioOE2iunmP36znlmuPxL97h9878jIWLOarbuI88aSUeI/b0dwDnhdJFOK+ovaJx+vRzJQ4IYFsvp5+5FdrWC4U1NE6R6oZM1+zO+9zbvciZ5kWOn0mxFwo2BzOe79zhihmG4xA6aonr1yw2Y/DQij4JxWdaTrEGf7j+HS5FETNfU3hPRxRdlfJ+fICLQbTm5PGMJ79+jZcHN/m3Oj/hhZjV5P3qWanTc2r55FOy/uEr+7OGIwBX+/CvEsGgebuGP/jSH7LvM+YXHc/u3OOxfMhXWtd40sSnx/bViO5gwXIzQdeaVmweERwRRGuiAl4tHuNmdMKdesDUpfT1gs1owl9On0IXgNYg4Wlar1i4hKmbMnWeQ5dQ+5hcahKxaPGk4j8CFWjAiKARLH51yw+GAjQfB9TiqVeA3l/mKUKqIoxYlPJ4DXiYVgkHUYe/mj/B0N5Di0PhOLZtZtOUTgWq4eeW66eBI4LEMRJF9D+w/Ld/8e/jlSc5jIiW0LQ8ddcTzYWd3RLVaqFquHa0TtlELFzMtXSPH84u8e3bV6kqzVp3wVq2oBsXXGodk6o6+DFxJKpmM5qSSs3EZSxcvAItLKtclfT14mNTnNiUE5tjEWqvqV3E48kBr6S3ObS94OA9RDPhxs1NbqhNXhs/STQXvAGbBt/Wvqlo37WkRzXU1aNZjmiNmIjkuKZzLQUHnTsWM7VUXU2xplAVRJMSoghxnmIZc5y0uLlYA+Bn47Msb3XQhbC/lnDcbZGlNbN+QiuqiMShxJPpmlmakkjDic2YNikKT6QsGkc3KphG849YjXDStBjWOY3XlDbCIWhxPBHvM3UZOEE86ErQJxF46NxQtPYtNhbqtuAFsmOHmVr0osbbn7fZh1qOQmIDSYIuGrIDhziIxw3RvCFaWJKRQhx4rfDnNyl7ishYnIc3bl7k1eJxzIFh/W0wS0/VjmhSQ92Bt7d7uMySDAo2unMi5bg+Xcd5YW/cpThO0e2GLz92g8daQ3rRgjNmzGHT5V/uP8/etMPoqEN8z4APluxjz3c3LvPDnR2KxsA8wpmwrPRCUI2QjB3ZYY3Xgk0VXoRoYdFFg1rUYO3ngyNKIEmQNEEtKjq3NHhPNC2RokaKEj+ZQWxorp5jcSajXBPSpMY5hXm7xcY1R2u/InnzFn46BaXCct3eYvr8FmU3YvxUm/3HNN4LdqmhUeQfRpy7bpmdy7i31eW5zl02oymPmSMOmy5vXztHdiPm3LuW3neuISLUV7Yp12ImO22+/9STEHmiicLGIBbMTNAlZIcN8e7oY+4DpUArZFFgHwWc0+FWnEMBdnUyvXKl1oILh3oNTkOsLUqgJDg4cR68A7WyxCjCtxLqPJi1SxxRZHFOcCbwHFVDMmqo2orjeYu7ZZ+FizlsOvx4ukN0ZEiHnvS4wU9neBH0rMQYRTpWlAcKl3hsAlXfES0FPRbEBqrER3fK1f34SCFK8bDxCXC887As8NbCWoeqE7Y4bxSqcmijw26jVOBedSBra60lRllGvTWW64JXMXp+Dqkdy+0WxZpmflaxeGFJu1NwLivoJsUp31k2hr13dsjePyBarHHjnT7fmH4BfxJjxop4Ilx8oyS5O0GWJb6VhZ1yWWG8pz8u6L0rVOsZH/4D4be/+DZ/dfsyfL+DLj3OCHaQg5LgDoRAWrVgjEb2I3xZfo7leIdvmrB5imDTgLZYjdKCWIMs4wcM1AWCmkcVaVTjMk/TUlQVVIMEsZ7ZuYjlprA8Z3n58i0u50OW1lC6CCOOTFfMbcKe7OAOh0QmIj3MWeiU/J7QvWWJJ5bkp7ex+weoPEd12hBFUDfgPTKdY4+GZDvnUdkaf3/jdXbnfe7SCeFFJLgswivBxmGZex3YtC4MkdafbzmiNdLKkCShyQwuCrRdnEeXDiktUtX4Vsr4asr8nFBsWw6XOc4Leq7QJTQtYfTUalsuPK09jzjN671L/Cw/S7GMccsIrCCVoGph+wOLrxtEBBeBSxw21VS5QjUeuc9ircVbhySK6uIaZd/QutNCxidQ1ejbKf/Dua/z/u0z9Bag6+B/wsMP1u6Vp84j6lwh1hCZR2HIWiOdNr6V0uQRTSKoxqNqHzx7UUFR4ns5o+c8l1/c5aRIOTppUxcR6YkQLTyLM8Ly6QJRnu73MtZ/Oic/iBkVKS5JGQw92bEjWljSezNkUcLoBLviGy4GnzrqtqLqCeI0ndUNeOuQsoR2i/GVlNlFYZC26b8X4xdL1t7y3Kwvks8gnnh05RHn8SKI90jt8Vqoc8XiTDh3bh6BIYvW+DTGtWKaXNNkoOrV0qptcNSrJeU1JLqhbjTVOEEKja7C0xEP3irwHl171LJBtSJ0FY6PZ55kVBPNa9TJHL8oQOkQ4fdzbOIh8ogLlqcaj2u30Ge2ggXFBrvWphwI5cBR9gUZ9MA6zMKTHoEuw3GyYr9eBTcg3oVg33pUExy2f0gI80lwkoTifJdiwzC9oJhfskQzRfuuQmbL8KUsxRtNMlS8ffss0a2U8z906MJRdaFJheTYY34QI9bTuVWjFiUySKlzwaagK3+6tfo0gXaLxaUu0wsRVV+ozpe0ugXqnZit749xsebolQHlIJBM8VDnIF864eUze7zWvowuLpBMHelBSfuDApsnVIMYr8OO6IxGlx4zsWA9+b2adKSIRxV+sXyEZRVFVP2I5bqi2PAkZxcU4xSvBSkqMBE+DReMFlAOE/Jd6L2xB1XN/Ivnqc9FmLknvdOgak98uETqBvEeZ8AmYZkyHCNJjNsY4FqG2fmI8dMe17J0BgtS01AtgXeuE53dYv47HZZXS3ACjaDyht+9eI2vdd9lWOTcvXyB+kjTvlbi3nwHs30Wl56jSTUuVTgjyIoJq9qiiobYe2S2xNefFGMeulupJqzTaCEU4xQ11YizEBu8VisO5JEGpAn8hKrGlyW6cujVdepcI9ajyxixlrodUfc8TctRDDT55ho+0riWwSURVUfwaxVJq+Jif0zXFLxxZgOeukzdThAHMjHBbBS4SjOpU4a2TceUFNs1TSti+KU+nY2XKGNF01IgEC0dZu5RlUNVFmlccBONRcoa90jhg/eo0qMLSMbgtSFagjiLa6WIc+GEzqNqUJWgK/CLZQCnsOjSY2OhGAAI4mJSYLmuqc9UJHnF/FyH/LHBaTTsTLDUKzsHbKYzfrV/nbVoxutXLnL0Uj+EAhVk+wqbgM08VuBw2eZONmAznfHMk3dY1DG75wccTg1mrGndFaKlpzdqSO5OVr5j5UOXZdhcqioQ1s8Fh7BtK+sRK4gDVmIbkYLag1/9CKDAGpBBD6lq6njFNgWckdWNC26lEtIobKOJCNxDLKdOUyyUTUTlNEYaclWSZhVlPw+yAoF9u49sLG4VmSeqYSOdsYhiJp2EqWQ0dYLXGi9gY4VLV0KTDvNS3ofd61P0pE+CY21YGmXwD9XAoZdC3VbEmUE7h6pqpI5pWlD3LaPnFNPHttGVkB554kmg8HUeQKrmgi41ZuHpvWnw2pDvBQeuS0s0WoB1bPQ2OCq3ubNxBvWy58XuLpvtOde/kCOFJjkIGpMznqZtIbMkOqCWRyV5VLK0hqNlm6qJWLiU5NgTFZ7xVUP1d3qIW4U3FpKxJ5k40mFN/MMCOz75HHCcR+rgd7wGl1u8UjSpwiUavVRQ1UjjcAZUXpNuVmx1Zyxrw/j1TaKFYI0ErqIIyyAWdOXpX6uDH6pcuE5RI8cn+LKicy1BVznT8xEfXl1nK5kxSBacv3DMaJ5RT7tEy0AhSBxRYolXJpWqmrYuWKiElqmIo4Slh2TqULVneUbwV+c4q08D3fJIk4w0Nhbit5LPtxzfNJjRErGedKBZHkeoGsR7bKKIRIJnbywuApM0KOWZlQnLyoAPonfThuW5BiKPVwYfaaKFJ98PwEsdHCOAH3QBmDzRYfSUoho4Hs+WOISbJ2sc7faRUhHXK6ATj84aImPZX3RYNDGtqKIXF9ROc1KmVE2Ea1mOnzKIg2qzpp+tCGYuNFZRLDrEJ/KxhMZnguOWS9S1m2it6ctVmrQFAuKgbmvikcLP5qi8hU09W9058zJmNGlhi4hs5ROKdc9Lz11nK53xnfUrjPdy0v2I1qGEALZokKLBpxHFTo861+z9uuc/+Or3MGKZ2YSljTm61efct0I4MbksVF2P6zZs9uZ4L+wd9ri7iJDMkuUlIlDXGmsV+caCzcszEt0QqSCu9eMFV1pHlC7ij2Yv4/dTvBLkIdr2Q3crVxQgglo2YSda+VivQiQrWYaPDV6D0RbrBbuIkFIHtqnAR56eKVgzc4y2D9IzziPWrbbSBp/oEDEnAu2aF/NbWC+8V2zTeI3UCjOzuFhQtUJZwAtqlZHwViF1iLILFZ+mfJR4WknF1e4Rma44rnIWjSHTNWfMCbWPQg7NhTk9EkMOdxAEdp9omizcVVSEg6eXMuyTT1O3hWajoraa6V6Hje8H9ln2oM4FVcFf3ngcpTzRGx0uvtUQzUuSvWkgk2WFLwp03UU2sqAs1orDpkNLVVxN97GJ4tvnrzJ6qouZewbvNURzy/EXEvZVH51a0nZJ1F8wHbXQt1O8gvjqhCc2jujGS9biOc4LR0XO/rRD0TV8sb0bVsnU0L7jyA5qqB6FBBLiK7TGGY1N7ltNCNoWZxTTKxafOlr9JdYL8VCz8f0RUlYMf+UM5Zqgamh2W1ALZ14vif7VDwLgWQYiuLIMvEgEVa+H+McKoybHGMuVeJ9cKh7fGPLOhTbZgWLru2Ps2+8z0C8xP29oeop2f8ZjvWPemF4k2w/LzzzT8OXBjdP7WbiYkzJlMslITIPzCiUhO9rarzDHReA6jwKOdx6RELm6+3Lj3JEe1xSDkLplFX9q8WEZGY24oN06E7Rdt1FjrTDdidl4+ipS1vj5ApoGqapVllPjIwnSSGw5H4/o6yCoz33MvWmH1j1FduiDxYkiHpW0b8XUnYhDBoynGW5qaLJw7Uw7Sh9RO03tNZMm5XiSwzDhSMFPN86hxQcJddGgyvoXWFbe4S24WFG3QxiR31mi37lJO3uSkyeClCHiSaIGF3tsbvBGUedCkzv82ZLfuvo+iW74hn2eYm2T7NCz/oNj5GQWRKqyRJTCJoo6E9qDBX83fw/r4f16wF7TY3RjwFP/7zhE7qMxYiLUe7c4d7eNzzOmz66zXM8pB8LyjMPmjs2oYVi1mduYUdliXGa4mzn9a7AcZnxLPYnSjvYdj9kbw7LAParlnGKkBB8FB6uWNXZ8QrSwqCpCSkXTaMomnMIlOsgY9wmyBGLW1iVJv2B5JkK84FoxehGtkoEqyK06XEPkfqJO2Gt63Ko2MBOF2hvi5iF3JVGEWxb4yQyVt8jWclSdYE2EOw9EIQwoXcS0Tjha5pwsU8xUSE4cTSosTxKIHIOFD+HDQ4LOh4PzkaReoP1Bf/VGI1FEvDvi3L/eoM4V0wsdhr0O2RJOHo8RC9nQ0TqAJkv59huvYFOwzy145dff4fVbFxmO2+R7Ka1rEZxMwDlUFVjs9Gd9fs/+IcUyJvowJZ4I2z+t8YslEkX4i2ex7QQ9K9EnYenJ0ZRovEDVfXxkqDoxu/EA54U7d9bo/Sgmm3jad0qSoyXpcQvVxLgI8nsFvrFQN0E7/3xwFBJFSJpgY8GZsC07o9FRhLt9l/j6LdIspf3kY1SbGfOzhpMrIQ4783pD/tYBFCVuNEatr/HOf3eGf3Lpz/jHnS/xzz74LWwSkYzyUF3hAimMSk//HaG52aU/9vS/dxt7by9YJaAGA5bn2yw3IpKTmPQgRi9r5PYednRCVl/EmZBDq/oJB3Gb1gcx5//FDez+QVgJosj219DLbVysiO9OoK5CMuGRAk/vQlBZN4F7DCqqTHNytUVPPb0KOqGJFMutmKqtcDEkx0G6ULXHZwmkMdJt0/Qy3NzwP4+f5Zv3niE7FNKRo+7GxF96hqptmG0HZ+p1CA2qNlSXNoh6bbzRwZfFOmhIS0c0t+h5iZQNYgy6nUMSB6dOyFWVRxmtORAbVDsHEyORxucZ0jj0fUsx8SqZoMB/PHclDy1eEkEiw95//jK//h+9QaQs37r9BNOTDNEeHYWT2FrjGkXrvYSdP5+g5iXNoIXNIop1w3QnJNfuE8Bs37P1vSGyKNj/nfMMX7IPipMAWWqipZzW9HjAthy+ZdEnEWf/ytO+OUeN53AwDHU1G2shH7beYnb+AUAA8dTRulcgjaNpx9hUES0tZrh4IPk6hyxL7P4h/ufy5Z+yW3m8tdgEnsnv0lFL5tsJ9/pd2qakZ5ZULuLWbMC0TJje2ETvj/EnE1T7EuWapuwKi+0QnLZvKvJ7IR3LvUNcVVG3LrC5E2TSZWWwVrGcpFgf4bXH5xZlLHm7ZKsz4/ZRH2daSNEEcaqqkDgOWnKeBLVvJUWYuSMqggxSdwyIUHVC8JxMBDMErAtJyshAYx9awPTZlV3CaZXDk/kem/GUgZlzzoyZuwS4wq70OTHhCXhrcUZhU2G5Jey8cJf1dM4b7ceo2zFVNyY5PBsyDQLjaUYcWzpZgRbPXmlwEgUBbRIIU/mE5fmLdxkkC3708lVm59fwag2vLyINZEceswhAJJPgN4ISIEzPR0yeq1FZE8wQ4Cihd26AmUE2bIjHFRGrxMIvAo5XkErNup7xfLpLkRjO6hMuRUumXjiouyyt4UZESBFbi9eKJgmc47++/Gc8HY/4r9S/zV+by9gsoXO7jZkkeAX1NMHnNRf6Y/rJkuNZi4IEVcmpgje8FPHVzvtMWxmzv5Nwd9LlfHfC8/273Fn2efX7T9G+qUiPPZ3bJeI85cBQZ4rp445/8lv/lBfiITebjD3b45vj5/hG9zn0OKL7fkTPgTQO9ShJvY8ZjgeLwqIwEnQTJY4aqL3CiCXXFc1aw/yli0QLy+jJhOWWEG3NWddzWiKcz8b0+3NGi4jleoRNFE0OklgiY/FeqKymaRSqAV0K8dQTzxxyHPPq9Aozm3DjaI1ynDJNSy4mx7R1yWtnLjFvMuqOUOcJqoJ4HqiBqgW7cmgtVbPGjAvJiO76nKnJsLtpCIQfso1/Ljg4mLuEwhlSVZNLhfOK202Lwht6esHl1hH/7ks/ZPeZPgBfbh+wHZ9wKT5kJ6rRCL/T/SkXrxzzrf6T/Hh5hWimqHdKzm2NUeIpbcS8jqlnMelEkRzD4O0Z+mBMk5znT9yX0aWw9lNPdtRw89/Z5CtPfUBfVVx9aZ/d59ewXuEQ3ppu87M/fobt75yQPdHjh4vHSCXMva8Kfr39LueeHnGz3OD/2P0N9CJIJ49UgvLzllM6Q40mp8SIpfARc5dQozFiaeuCJ9N7PLl2QEs1nNGKnsqovaX0mto7zkcTUlWz3+3yo7Ud6tiQtku6SYF1ikmVUNYRVKuiqKVHjWa4/UPyvU1ad1OiBfTenxHdGxH95g6bquRi1GKtdYtFdvO0VvGv22/xn2XPoKYFetnjqG4ztG3SaITBcVbPOZt9yI4Z8s+SryHWI859wt98Ljh6CW/OLrBwMS9kt8j1hFxqUt0w9zF3UMxsygf2LB+WW7RUxSvZdR4389O6v9p7bjQbvFuc4zv7V+n8ICU7chRrXW50ux/TdLeOPNlRTbS0oDXq7BbLDUO57nGx4GJ9yrOCYXtOnGfsYtAVXUK5nDPgsxivYN4kHDdt+mpBLjWVVxTecLtex0zULxlb+ZBWfWt0hqU1XE4OOBedYHCk4ki9xXlhalOOyja78z5GW8xWQyrXScTSUY7Sw7vFOV4/ucTtGxs8/a1jeO8G0s6RLAs3a22gD0WBWxaoLMVf2KZZy1lsaerNCmeiB+AQWLPDMXYxe7aLkTHbOtQRhkA4xkcwXYGzFs3oqoK5j9lr+twsN4jHYG/fWTHkR43KV0M1nlmRMMlSnFekElS/hdfMfYRFoVf1nw45rTk24tDy4GIWoVrVEPs4QuUtxJjAMxqLL8pQ9pLE6LUBvt2iOpNTt3WQTAqNLiRoztYin2T6p0PjsTHU3ZgmhUzXpKomFosSh8HSUUtaOtCJTwPmc8ExC8/+YZsbgNp2XNCGDxrHj4oLFD6mdIZetGThYvKoItYNZ80J57THElJcAG5VfK3bDcPnO7S2r64qvyA+qYneuQV1Tf3iVYbPpjQtodjy2MQTj6H7riYZe8z+BDc+QVUPCJsRRyo1ZvWQWtLA+SXDZ1ssL9Y80TrgUnzEuWjEuipRlDy2sqL/LeOhYcMjgaMqjyw0xTIkw1oqpvYV+02P0hmM2NOfWDekuqYlJS1lqL2l9g12VZ/sEHRkKdYFr3WIw5oAUCSCt45y3TB7DJrMoTYLkrihWXbIhp5kbJHZAlvViOV0i9b48LOy1Fgcnbxgvp5huhVr0YyOWpJLQyKQitBRMXM3CymezxifvVtZj6qEehrzP93+Gt/uHvLq3kXGH6whDuygwWQ1nfaSp9YO6ZslsdjTinQjgvGeYZ1zb9qlmiS0J554Gpymi0JlJ4Me2hicDtqzxBDHDd1WwcG5hKHExGNDtDhH3G5Rd1a6j7enIN0fFmFRxJipUOxl/C/dr7LRmvP1zXf4SusDcqnZ0CXHrvWgoOmXAUfVDl2CjCJuvnaBm/4Cg7fh6W/dBmD+/DaLrRajL7RIvnaPs/GEVOrT0vtUNAtpuFf0GA7bRMOI7NgRjxuK9RCJN6nQbHTQeYozgi5CiUqeVpzNp2w8Nqfe0dwe9RlOu/TydZpBE/oevMX5j99C7RXVPKZ97IkWitlwk3G+weKlmNaFkrVoRsURe01/lcn4dAf2uQ5ZL2VVFfXgb9RBczXzhnim0IViWicsXPyxJ2lXe26iG7Rx+Oh+KoRQ0FRJmKAEuUI1nmgJNg3B6LIxoQ1JPFo7bBoqNzCBrX+07N+uJqjwmKym6sWrgk7QS2Faxhw1HSyKrioY28+3HP24fOG/+VTk2r1QrF0KxSbUmw2OCKM62PUuXksoWGpH7K3FnPiMZzp7PB/XNFgmzrL0wlQSopbjtu3Qet+QTBt04UgmlnjWoBoHIkSFJx06ooVi0koY1hnHsxajRYtymqAKTZMK8VNT/uPzr5MrzdjD0htaqqatHB5L0xHmO56DdowcxSgL01wx1hl7VY8Tct5fnGH/tTPkr+/+kpazKMiOmtOsgumUlGua2XZEtAxU3swazNwzmSQcRG3mLkZL6D0ofTDzHXMMXXi7exavQ7tAVNRIWYNSgb8oIZqWmIMKXXeYDDMKZYIKGXmkEWzi8UpYzwpiERQKzYPHX3tHKsLvd3/EV/Jr/I/ym7z79hV0DX4RsT/pME9jIuWYVCnqk7zv0cHx8wXJ3gxnOvh1y69cusG1/gZ31wdQauIjQzSPKdcdSaeknZYrhxzaiBIBi2No21xfbjKatNg5tpjhHB8FcR3vQ3m9YlX2pin7QvGFJf3enNkipZrHUGvyO0FFvHe5T/WFByLZ/WFEYb3lRr3Bu8U28yam6juaSlCdOsxPW8ZlxrRKTousfilw7OEQOR6TJk/xxPkR/+jCN6jOexbPCGMX8xfT57i22AwpkKJFbko6esn9SKWjNDjLnWrAm8fn8Qcp2c0h/sPbqO0z2I0uUjWokxko4fjpNbZ+d5ft1oSvr73F2eiEfz58me/cuEI9bbHx5hLz0xuMnnqGxW8Iax+Zq8JjJGLhLW8ud/jro8ucFClytsADm/0ZZ/Mpy8YwXORM5inr5Wf3eX1OVG7xzqLqIGe2xaCVEKGZuIL3kyMWLmbSpDgvpLoOrY4rUqURNDBrEiZFgioEKWtsWaLcSqu2HprgYJ2Bi+0R59Mx56IRW3rGZjwlz0pGSYqqLXY8RlUPHDBw2tF3f8yahFkdY50Qxw0inl5SsJ7MOaRN2WiaSqPs3wSc1ZDacnvc55vLNTb1hJ1owdhFvLnY4Wcn25xJp7zSv0FPL2mpknu2oiWwphO0WN6fbTHa7dE5lAc56apeSZ5VyILyoJDaeeHQdnEonm3dYfvKCX/SeoGqt0VMUAscckoZIGReFQrrPcd1znieEUeWtfaC3FT89ta7/Gr+Pn86/hI/ef8C0ZEhnnz2unokcHCOxSzhx4uLXE4OyOUOY5dxZ9nn3rRDP17yVHKPdT1D4xm6BFTJxio2Hy5bxENNfPLASrwLVRZSN9hVz8F9A7AopjZF49gxQ76a3uTeeo9/nZ393KlaYN7ElKVBa0c/XbKZzni5dZ2vpfDj5Bg1i0jGIRX8aXHVo4NTN8hxzPeGl3HrwkvpbYw0HC7bjMc597IuC5eQq5KOKsilQQELX1F5z9P9A75zpcskyhhc3cZ0cqSxsCigaVBJEoTyGHpmSU8vMWKxKP74+BV+cLTDnd01njgoPzE1i+C8wvqPWxJA02ix7ZGzAAAHhUlEQVSOFjmljRiutSn9EfeqHumBonUvtEl9Rgz7KeCoVdCxymHJsqR9U/GeuQDPwH8yeJXCN+yOe+jbKbdNn8PtLi1Vsq4W9JTFAUfWUnnFP9z8Hr8z+Bn/+7lf4dbRZfK7Kb13psi7H4YEYifkveuO57H0iL5ekEpN5TV/+saLXPkjy9PHc+TmXVblORhxKAy1DwUH9Uc6R5WE3vWqNBzMY45jy4dbW0yzu7w322LwrqXzwQTZG36mTTya5VhLtPBEU8W0CjUpRhwPKYZCiUcT9Jb7bLmvlqSm5kw65XpGqPmJVJALtEZig08NAoyaPKiPXrOwMeY4Ir59BNM5vqqDlT2kPcr9XO2aiMfZ0MhvladYlaAW1mDmDjVZfKKF6NHA+bl4w5cVnd0GsRH7Oz2shzXV8GsXrvO62eGLm/d4IbvJugol8sdOk4plTQW17v2iz9vFea5P11ftj2ATjWnnSKtFvd2naRuyfeGffu/XUIWitaswM8+ZfYfrtZB2BmfX8UpRDu5rSA6NYLAYud85R+gf1S40wjYKp0CLo6OCumAmFX44wi2LXwacVfHNyln5qiI9KMClDE+CctJRmq/13mMznvFMdpfHoxmpCIdWOHEJRhd0VEztLYdNl3fmZzmet0JNswrNbRLH+FZKNYipc01y7Bn8SJOOPIPv3qS5c5fo0g7VpXWcVrhYhb6p9irjikcJQcj6iAqsxKFU+L80EhpCgETMqu2pwk4mnwnMp4NzH6D7w1rUZEmiheQo589mz9LTc/7F/kt8OFpjf7vLK+ktYoEaRYU+5SGFt/z58Rd49Z3HiQ4Na7sh5bI4EzO9cBkbQ9UPBQu6BFWBV/609K7eHjB8ZtV7sWoLinsz4H7DvQ7SKMLUVSy80DdLBu0FE50ytwqlHR8uNviTeZsbwzUee0ib9C8GzkeGK0vU7j30Qczg8lP845/8Rqjq+mmb1j3PX3ylzX+4+V06MqPwmoVLKCWs56nzvPbakzzxfy3R8xnqYATGcO0/vciv/e6b1F5xb9FjVsXsX9+gfS3UBWMiJI45fraF/v0hWjmOT3KaSvPlC7srcFYCF5bCa+5aYeEMj2eHqE3PQdHhw3SNqtG8vrfDq3cv4d7qIPNPDzZ/YXDwHrcskKomnjrq4xQUdCcQTz1SKNyqasl5FdS/lTOuEcxEMDf28UVJczJBt3Oalufvrb3J3MX8OL7IcZ1z0O3SZBk2BZ8YJEmoO8IzgyMicbznhXkR0zPL1bkfDIvA6todVbBlplQuIo0avBdOJjl2auiMJeTG/9bAgdNSuGx/Se/tDnUbpk9aZq9UvHhxl009R4uQShM0XQkmD6wqzuPQZ6BDBC4eaq/p6oLf7r2F9YqtZMqPz5/n2t4m0WKDzu0O5cDjvDBrEkYnOc3McHOwxt31Dh1VUHuNRVavdfDkUnMlPuC8GTGzCcN5i9kkI38zpX/Nkh0scD9Xxv+3AI4Hb9GHJwzeS5ifNaRfHfFfPPFtdsyQTR1evmLEBV2Zj4PjY4M0FtEqiNpA4Q2basIL8YSOivlq+l1O1jx/vPkl/tcPvo6LEqpeAGfZGJq5QZ9EDBc5B7aDRbif/td4jGpQeHaiCUbgx9GSxSKBUczGTyrib74BgHvEF4s8Ojj3R1ESj0psqtgdtXl9eplpK+Osfod0tWv0VUGugmyRiqfZLhm9vElUeOLxWXwUtJnvTx9nN1lD8x5rekHh42AJXlFuWfAR0daCC60xB6oT3q+zUgbjlbCfS7Wy0jBqFPtNm7mPeePkIupWRnYkxKPyM0OFvxVw7HCEmi9oH2/Qenqbf2mf481z5+hdmnM2OuEJM+KSjjCSYUSzoWL+y5f/FX9x6RkmZcruuIO1CmrHN37yHHFe8eb585xNJ2S6pqUqShfx2y++Rekinu/c4eXWdd4qLvBaegkvEUaH3NO6WrKpHW0xzHzNoVVMXcw3J8/x3myLH/z4Clf/dEm0fwIHQx7N0/wNwPF1ha8rdBKTjM5SDA37rQ7Xzp6h9hHrek5H1RgsKREOx4vpLdKtmv26x9vts4zLjGt7m7hRTGWFvX6XxinapqQblSSq5sl8n5aq2ImHbOo5a9GMyFhK4zEqWIpFqLynpAmvpLFhuV1fbPDheI14qDG3jrD39gIb/zcNzilIiyUbb87J91OKfs4//8FvhP7NbJV22S743aff5lwypqUqElUzalpcH68zWyY4K7jMIomlspqTKmNeJxyIJ9aWw7hNpmuOm5xJklL4mL/3+M8Y77TomwWvzq8yrHP+7PqzFEcZqlBEc0FVQnwCZu7Z3q3xJ5PPzGr+GwHHLRbw6k/IRNFSwtrKyd4vHyt/83m+8QfPMdic8sLWXV7o3GZapwxHbdwiAuNQrQYdOapG43yCdYJzCqUc4zjDaMs0S1m4mDNmwh9u/CWXophvLAb80cGXefvwDN0/bXP59SEyXeCGx/h61dLnHd55rPvFLeZvDE6YQNjBHpb60ZUDp7FOnbLl++/aOmX6919W9pHhvHwsrvxYDh5PIia8mMyvXg7S+NB8W1W4ooS/ARg/P/5/d86SnNl/mGUAAAAASUVORK5CYII=\" y=\"-39.446953\"/>\n   </g>\n   <g id=\"patch_18\">\n    <path d=\"M 266.055932 110.446953 \nL 266.055932 39.51475 \n\" style=\"fill:none;stroke:#000000;stroke-linecap:square;stroke-linejoin:miter;stroke-width:0.8;\"/>\n   </g>\n   <g id=\"patch_19\">\n    <path d=\"M 336.988136 110.446953 \nL 336.988136 39.51475 \n\" style=\"fill:none;stroke:#000000;stroke-linecap:square;stroke-linejoin:miter;stroke-width:0.8;\"/>\n   </g>\n   <g id=\"patch_20\">\n    <path d=\"M 266.055932 110.446953 \nL 336.988136 110.446953 \n\" style=\"fill:none;stroke:#000000;stroke-linecap:square;stroke-linejoin:miter;stroke-width:0.8;\"/>\n   </g>\n   <g id=\"patch_21\">\n    <path d=\"M 266.055932 39.51475 \nL 336.988136 39.51475 \n\" style=\"fill:none;stroke:#000000;stroke-linecap:square;stroke-linejoin:miter;stroke-width:0.8;\"/>\n   </g>\n   <g id=\"text_4\">\n    <!-- pullover -->\n    <g transform=\"translate(273.141409 17.837812)scale(0.14 -0.14)\">\n     <use xlink:href=\"#DejaVuSans-112\"/>\n     <use x=\"63.476562\" xlink:href=\"#DejaVuSans-117\"/>\n     <use x=\"126.855469\" xlink:href=\"#DejaVuSans-108\"/>\n     <use x=\"154.638672\" xlink:href=\"#DejaVuSans-108\"/>\n     <use x=\"182.421875\" xlink:href=\"#DejaVuSans-111\"/>\n     <use x=\"243.603516\" xlink:href=\"#DejaVuSans-118\"/>\n     <use x=\"302.783203\" xlink:href=\"#DejaVuSans-101\"/>\n     <use x=\"364.306641\" xlink:href=\"#DejaVuSans-114\"/>\n    </g>\n    <!-- pullover -->\n    <g transform=\"translate(273.141409 33.51475)scale(0.14 -0.14)\">\n     <use xlink:href=\"#DejaVuSans-112\"/>\n     <use x=\"63.476562\" xlink:href=\"#DejaVuSans-117\"/>\n     <use x=\"126.855469\" xlink:href=\"#DejaVuSans-108\"/>\n     <use x=\"154.638672\" xlink:href=\"#DejaVuSans-108\"/>\n     <use x=\"182.421875\" xlink:href=\"#DejaVuSans-111\"/>\n     <use x=\"243.603516\" xlink:href=\"#DejaVuSans-118\"/>\n     <use x=\"302.783203\" xlink:href=\"#DejaVuSans-101\"/>\n     <use x=\"364.306641\" xlink:href=\"#DejaVuSans-114\"/>\n    </g>\n   </g>\n  </g>\n  <g id=\"axes_5\">\n   <g id=\"patch_22\">\n    <path d=\"M 351.174576 110.446953 \nL 422.10678 110.446953 \nL 422.10678 39.51475 \nL 351.174576 39.51475 \nz\n\" style=\"fill:#ffffff;\"/>\n   </g>\n   <g clip-path=\"url(#pb940df50d3)\">\n    <image height=\"71\" id=\"imaged3735af4f4\" transform=\"scale(1 -1)translate(0 -71)\" width=\"71\" x=\"351.174576\" xlink:href=\"data:image/png;base64,\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\" y=\"-39.446953\"/>\n   </g>\n   <g id=\"patch_23\">\n    <path d=\"M 351.174576 110.446953 \nL 351.174576 39.51475 \n\" style=\"fill:none;stroke:#000000;stroke-linecap:square;stroke-linejoin:miter;stroke-width:0.8;\"/>\n   </g>\n   <g id=\"patch_24\">\n    <path d=\"M 422.10678 110.446953 \nL 422.10678 39.51475 \n\" style=\"fill:none;stroke:#000000;stroke-linecap:square;stroke-linejoin:miter;stroke-width:0.8;\"/>\n   </g>\n   <g id=\"patch_25\">\n    <path d=\"M 351.174576 110.446953 \nL 422.10678 110.446953 \n\" style=\"fill:none;stroke:#000000;stroke-linecap:square;stroke-linejoin:miter;stroke-width:0.8;\"/>\n   </g>\n   <g id=\"patch_26\">\n    <path d=\"M 351.174576 39.51475 \nL 422.10678 39.51475 \n\" style=\"fill:none;stroke:#000000;stroke-linecap:square;stroke-linejoin:miter;stroke-width:0.8;\"/>\n   </g>\n   <g id=\"text_5\">\n    <!-- dress -->\n    <defs>\n     <path d=\"M 45.40625 46.390625 \nL 45.40625 75.984375 \nL 54.390625 75.984375 \nL 54.390625 0 \nL 45.40625 0 \nL 45.40625 8.203125 \nQ 42.578125 3.328125 38.25 0.953125 \nQ 33.9375 -1.421875 27.875 -1.421875 \nQ 17.96875 -1.421875 11.734375 6.484375 \nQ 5.515625 14.40625 5.515625 27.296875 \nQ 5.515625 40.1875 11.734375 48.09375 \nQ 17.96875 56 27.875 56 \nQ 33.9375 56 38.25 53.625 \nQ 42.578125 51.265625 45.40625 46.390625 \nz\nM 14.796875 27.296875 \nQ 14.796875 17.390625 18.875 11.75 \nQ 22.953125 6.109375 30.078125 6.109375 \nQ 37.203125 6.109375 41.296875 11.75 \nQ 45.40625 17.390625 45.40625 27.296875 \nQ 45.40625 37.203125 41.296875 42.84375 \nQ 37.203125 48.484375 30.078125 48.484375 \nQ 22.953125 48.484375 18.875 42.84375 \nQ 14.796875 37.203125 14.796875 27.296875 \nz\n\" id=\"DejaVuSans-100\"/>\n    </defs>\n    <g transform=\"translate(367.876303 17.837812)scale(0.14 -0.14)\">\n     <use xlink:href=\"#DejaVuSans-100\"/>\n     <use x=\"63.476562\" xlink:href=\"#DejaVuSans-114\"/>\n     <use x=\"102.339844\" xlink:href=\"#DejaVuSans-101\"/>\n     <use x=\"163.863281\" xlink:href=\"#DejaVuSans-115\"/>\n     <use x=\"215.962891\" xlink:href=\"#DejaVuSans-115\"/>\n    </g>\n    <!-- dress -->\n    <g transform=\"translate(367.876303 33.51475)scale(0.14 -0.14)\">\n     <use xlink:href=\"#DejaVuSans-100\"/>\n     <use x=\"63.476562\" xlink:href=\"#DejaVuSans-114\"/>\n     <use x=\"102.339844\" xlink:href=\"#DejaVuSans-101\"/>\n     <use x=\"163.863281\" xlink:href=\"#DejaVuSans-115\"/>\n     <use x=\"215.962891\" xlink:href=\"#DejaVuSans-115\"/>\n    </g>\n   </g>\n  </g>\n  <g id=\"axes_6\">\n   <g id=\"patch_27\">\n    <path d=\"M 436.29322 110.446953 \nL 507.225424 110.446953 \nL 507.225424 39.51475 \nL 436.29322 39.51475 \nz\n\" style=\"fill:#ffffff;\"/>\n   </g>\n   <g clip-path=\"url(#pc6a98d09ab)\">\n    <image height=\"71\" id=\"imagea05063bee2\" transform=\"scale(1 -1)translate(0 -71)\" width=\"71\" x=\"436.29322\" xlink:href=\"data:image/png;base64,\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\" y=\"-39.446953\"/>\n   </g>\n   <g id=\"patch_28\">\n    <path d=\"M 436.29322 110.446953 \nL 436.29322 39.51475 \n\" style=\"fill:none;stroke:#000000;stroke-linecap:square;stroke-linejoin:miter;stroke-width:0.8;\"/>\n   </g>\n   <g id=\"patch_29\">\n    <path d=\"M 507.225424 110.446953 \nL 507.225424 39.51475 \n\" style=\"fill:none;stroke:#000000;stroke-linecap:square;stroke-linejoin:miter;stroke-width:0.8;\"/>\n   </g>\n   <g id=\"patch_30\">\n    <path d=\"M 436.29322 110.446953 \nL 507.225424 110.446953 \n\" style=\"fill:none;stroke:#000000;stroke-linecap:square;stroke-linejoin:miter;stroke-width:0.8;\"/>\n   </g>\n   <g id=\"patch_31\">\n    <path d=\"M 436.29322 39.51475 \nL 507.225424 39.51475 \n\" style=\"fill:none;stroke:#000000;stroke-linecap:square;stroke-linejoin:miter;stroke-width:0.8;\"/>\n   </g>\n   <g id=\"text_6\">\n    <!-- pullover -->\n    <g transform=\"translate(443.378697 17.837812)scale(0.14 -0.14)\">\n     <use xlink:href=\"#DejaVuSans-112\"/>\n     <use x=\"63.476562\" xlink:href=\"#DejaVuSans-117\"/>\n     <use x=\"126.855469\" xlink:href=\"#DejaVuSans-108\"/>\n     <use x=\"154.638672\" xlink:href=\"#DejaVuSans-108\"/>\n     <use x=\"182.421875\" xlink:href=\"#DejaVuSans-111\"/>\n     <use x=\"243.603516\" xlink:href=\"#DejaVuSans-118\"/>\n     <use x=\"302.783203\" xlink:href=\"#DejaVuSans-101\"/>\n     <use x=\"364.306641\" xlink:href=\"#DejaVuSans-114\"/>\n    </g>\n    <!-- t-shirt -->\n    <g transform=\"translate(450.84026 33.51475)scale(0.14 -0.14)\">\n     <use xlink:href=\"#DejaVuSans-116\"/>\n     <use x=\"39.208984\" xlink:href=\"#DejaVuSans-45\"/>\n     <use x=\"75.292969\" xlink:href=\"#DejaVuSans-115\"/>\n     <use x=\"127.392578\" xlink:href=\"#DejaVuSans-104\"/>\n     <use x=\"190.771484\" xlink:href=\"#DejaVuSans-105\"/>\n     <use x=\"218.554688\" xlink:href=\"#DejaVuSans-114\"/>\n     <use x=\"259.667969\" xlink:href=\"#DejaVuSans-116\"/>\n    </g>\n   </g>\n  </g>\n  <g id=\"axes_7\">\n   <g id=\"patch_32\">\n    <path d=\"M 521.411864 110.446953 \nL 592.344068 110.446953 \nL 592.344068 39.51475 \nL 521.411864 39.51475 \nz\n\" style=\"fill:#ffffff;\"/>\n   </g>\n   <g clip-path=\"url(#p3febe3c5b2)\">\n    <image height=\"71\" id=\"image59a149716c\" transform=\"scale(1 -1)translate(0 -71)\" width=\"71\" x=\"521.411864\" xlink:href=\"data:image/png;base64,\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\" y=\"-39.446953\"/>\n   </g>\n   <g id=\"patch_33\">\n    <path d=\"M 521.411864 110.446953 \nL 521.411864 39.51475 \n\" style=\"fill:none;stroke:#000000;stroke-linecap:square;stroke-linejoin:miter;stroke-width:0.8;\"/>\n   </g>\n   <g id=\"patch_34\">\n    <path d=\"M 592.344068 110.446953 \nL 592.344068 39.51475 \n\" style=\"fill:none;stroke:#000000;stroke-linecap:square;stroke-linejoin:miter;stroke-width:0.8;\"/>\n   </g>\n   <g id=\"patch_35\">\n    <path d=\"M 521.411864 110.446953 \nL 592.344068 110.446953 \n\" style=\"fill:none;stroke:#000000;stroke-linecap:square;stroke-linejoin:miter;stroke-width:0.8;\"/>\n   </g>\n   <g id=\"patch_36\">\n    <path d=\"M 521.411864 39.51475 \nL 592.344068 39.51475 \n\" style=\"fill:none;stroke:#000000;stroke-linecap:square;stroke-linejoin:miter;stroke-width:0.8;\"/>\n   </g>\n   <g id=\"text_7\">\n    <!-- bag -->\n    <defs>\n     <path d=\"M 48.6875 27.296875 \nQ 48.6875 37.203125 44.609375 42.84375 \nQ 40.53125 48.484375 33.40625 48.484375 \nQ 26.265625 48.484375 22.1875 42.84375 \nQ 18.109375 37.203125 18.109375 27.296875 \nQ 18.109375 17.390625 22.1875 11.75 \nQ 26.265625 6.109375 33.40625 6.109375 \nQ 40.53125 6.109375 44.609375 11.75 \nQ 48.6875 17.390625 48.6875 27.296875 \nz\nM 18.109375 46.390625 \nQ 20.953125 51.265625 25.265625 53.625 \nQ 29.59375 56 35.59375 56 \nQ 45.5625 56 51.78125 48.09375 \nQ 58.015625 40.1875 58.015625 27.296875 \nQ 58.015625 14.40625 51.78125 6.484375 \nQ 45.5625 -1.421875 35.59375 -1.421875 \nQ 29.59375 -1.421875 25.265625 0.953125 \nQ 20.953125 3.328125 18.109375 8.203125 \nL 18.109375 0 \nL 9.078125 0 \nL 9.078125 75.984375 \nL 18.109375 75.984375 \nz\n\" id=\"DejaVuSans-98\"/>\n     <path d=\"M 34.28125 27.484375 \nQ 23.390625 27.484375 19.1875 25 \nQ 14.984375 22.515625 14.984375 16.5 \nQ 14.984375 11.71875 18.140625 8.90625 \nQ 21.296875 6.109375 26.703125 6.109375 \nQ 34.1875 6.109375 38.703125 11.40625 \nQ 43.21875 16.703125 43.21875 25.484375 \nL 43.21875 27.484375 \nz\nM 52.203125 31.203125 \nL 52.203125 0 \nL 43.21875 0 \nL 43.21875 8.296875 \nQ 40.140625 3.328125 35.546875 0.953125 \nQ 30.953125 -1.421875 24.3125 -1.421875 \nQ 15.921875 -1.421875 10.953125 3.296875 \nQ 6 8.015625 6 15.921875 \nQ 6 25.140625 12.171875 29.828125 \nQ 18.359375 34.515625 30.609375 34.515625 \nL 43.21875 34.515625 \nL 43.21875 35.40625 \nQ 43.21875 41.609375 39.140625 45 \nQ 35.0625 48.390625 27.6875 48.390625 \nQ 23 48.390625 18.546875 47.265625 \nQ 14.109375 46.140625 10.015625 43.890625 \nL 10.015625 52.203125 \nQ 14.9375 54.109375 19.578125 55.046875 \nQ 24.21875 56 28.609375 56 \nQ 40.484375 56 46.34375 49.84375 \nQ 52.203125 43.703125 52.203125 31.203125 \nz\n\" id=\"DejaVuSans-97\"/>\n     <path d=\"M 45.40625 27.984375 \nQ 45.40625 37.75 41.375 43.109375 \nQ 37.359375 48.484375 30.078125 48.484375 \nQ 22.859375 48.484375 18.828125 43.109375 \nQ 14.796875 37.75 14.796875 27.984375 \nQ 14.796875 18.265625 18.828125 12.890625 \nQ 22.859375 7.515625 30.078125 7.515625 \nQ 37.359375 7.515625 41.375 12.890625 \nQ 45.40625 18.265625 45.40625 27.984375 \nz\nM 54.390625 6.78125 \nQ 54.390625 -7.171875 48.1875 -13.984375 \nQ 42 -20.796875 29.203125 -20.796875 \nQ 24.46875 -20.796875 20.265625 -20.09375 \nQ 16.0625 -19.390625 12.109375 -17.921875 \nL 12.109375 -9.1875 \nQ 16.0625 -11.328125 19.921875 -12.34375 \nQ 23.78125 -13.375 27.78125 -13.375 \nQ 36.625 -13.375 41.015625 -8.765625 \nQ 45.40625 -4.15625 45.40625 5.171875 \nL 45.40625 9.625 \nQ 42.625 4.78125 38.28125 2.390625 \nQ 33.9375 0 27.875 0 \nQ 17.828125 0 11.671875 7.65625 \nQ 5.515625 15.328125 5.515625 27.984375 \nQ 5.515625 40.671875 11.671875 48.328125 \nQ 17.828125 56 27.875 56 \nQ 33.9375 56 38.28125 53.609375 \nQ 42.625 51.21875 45.40625 46.390625 \nL 45.40625 54.6875 \nL 54.390625 54.6875 \nz\n\" id=\"DejaVuSans-103\"/>\n    </defs>\n    <g transform=\"translate(543.700466 17.837812)scale(0.14 -0.14)\">\n     <use xlink:href=\"#DejaVuSans-98\"/>\n     <use x=\"63.476562\" xlink:href=\"#DejaVuSans-97\"/>\n     <use x=\"124.755859\" xlink:href=\"#DejaVuSans-103\"/>\n    </g>\n    <!-- bag -->\n    <g transform=\"translate(543.700466 33.51475)scale(0.14 -0.14)\">\n     <use xlink:href=\"#DejaVuSans-98\"/>\n     <use x=\"63.476562\" xlink:href=\"#DejaVuSans-97\"/>\n     <use x=\"124.755859\" xlink:href=\"#DejaVuSans-103\"/>\n    </g>\n   </g>\n  </g>\n  <g id=\"axes_8\">\n   <g id=\"patch_37\">\n    <path d=\"M 606.530508 110.446953 \nL 677.462712 110.446953 \nL 677.462712 39.51475 \nL 606.530508 39.51475 \nz\n\" style=\"fill:#ffffff;\"/>\n   </g>\n   <g clip-path=\"url(#p8ffa6af7c8)\">\n    <image height=\"71\" id=\"image2083598d47\" transform=\"scale(1 -1)translate(0 -71)\" width=\"71\" x=\"606.530508\" xlink:href=\"data:image/png;base64,\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\" y=\"-39.446953\"/>\n   </g>\n   <g id=\"patch_38\">\n    <path d=\"M 606.530508 110.446953 \nL 606.530508 39.51475 \n\" style=\"fill:none;stroke:#000000;stroke-linecap:square;stroke-linejoin:miter;stroke-width:0.8;\"/>\n   </g>\n   <g id=\"patch_39\">\n    <path d=\"M 677.462712 110.446953 \nL 677.462712 39.51475 \n\" style=\"fill:none;stroke:#000000;stroke-linecap:square;stroke-linejoin:miter;stroke-width:0.8;\"/>\n   </g>\n   <g id=\"patch_40\">\n    <path d=\"M 606.530508 110.446953 \nL 677.462712 110.446953 \n\" style=\"fill:none;stroke:#000000;stroke-linecap:square;stroke-linejoin:miter;stroke-width:0.8;\"/>\n   </g>\n   <g id=\"patch_41\">\n    <path d=\"M 606.530508 39.51475 \nL 677.462712 39.51475 \n\" style=\"fill:none;stroke:#000000;stroke-linecap:square;stroke-linejoin:miter;stroke-width:0.8;\"/>\n   </g>\n   <g id=\"text_8\">\n    <!-- shirt -->\n    <g transform=\"translate(626.347235 17.837812)scale(0.14 -0.14)\">\n     <use xlink:href=\"#DejaVuSans-115\"/>\n     <use x=\"52.099609\" xlink:href=\"#DejaVuSans-104\"/>\n     <use x=\"115.478516\" xlink:href=\"#DejaVuSans-105\"/>\n     <use x=\"143.261719\" xlink:href=\"#DejaVuSans-114\"/>\n     <use x=\"184.375\" xlink:href=\"#DejaVuSans-116\"/>\n    </g>\n    <!-- shirt -->\n    <g transform=\"translate(626.347235 33.51475)scale(0.14 -0.14)\">\n     <use xlink:href=\"#DejaVuSans-115\"/>\n     <use x=\"52.099609\" xlink:href=\"#DejaVuSans-104\"/>\n     <use x=\"115.478516\" xlink:href=\"#DejaVuSans-105\"/>\n     <use x=\"143.261719\" xlink:href=\"#DejaVuSans-114\"/>\n     <use x=\"184.375\" xlink:href=\"#DejaVuSans-116\"/>\n    </g>\n   </g>\n  </g>\n  <g id=\"axes_9\">\n   <g id=\"patch_42\">\n    <path d=\"M 691.649153 110.446953 \nL 762.581356 110.446953 \nL 762.581356 39.51475 \nL 691.649153 39.51475 \nz\n\" style=\"fill:#ffffff;\"/>\n   </g>\n   <g clip-path=\"url(#p272be9d9a3)\">\n    <image height=\"71\" id=\"imagee6e383431a\" transform=\"scale(1 -1)translate(0 -71)\" width=\"71\" x=\"691.649153\" xlink:href=\"data:image/png;base64,\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\" y=\"-39.446953\"/>\n   </g>\n   <g id=\"patch_43\">\n    <path d=\"M 691.649153 110.446953 \nL 691.649153 39.51475 \n\" style=\"fill:none;stroke:#000000;stroke-linecap:square;stroke-linejoin:miter;stroke-width:0.8;\"/>\n   </g>\n   <g id=\"patch_44\">\n    <path d=\"M 762.581356 110.446953 \nL 762.581356 39.51475 \n\" style=\"fill:none;stroke:#000000;stroke-linecap:square;stroke-linejoin:miter;stroke-width:0.8;\"/>\n   </g>\n   <g id=\"patch_45\">\n    <path d=\"M 691.649153 110.446953 \nL 762.581356 110.446953 \n\" style=\"fill:none;stroke:#000000;stroke-linecap:square;stroke-linejoin:miter;stroke-width:0.8;\"/>\n   </g>\n   <g id=\"patch_46\">\n    <path d=\"M 691.649153 39.51475 \nL 762.581356 39.51475 \n\" style=\"fill:none;stroke:#000000;stroke-linecap:square;stroke-linejoin:miter;stroke-width:0.8;\"/>\n   </g>\n   <g id=\"text_9\">\n    <!-- sandal -->\n    <defs>\n     <path d=\"M 54.890625 33.015625 \nL 54.890625 0 \nL 45.90625 0 \nL 45.90625 32.71875 \nQ 45.90625 40.484375 42.875 44.328125 \nQ 39.84375 48.1875 33.796875 48.1875 \nQ 26.515625 48.1875 22.3125 43.546875 \nQ 18.109375 38.921875 18.109375 30.90625 \nL 18.109375 0 \nL 9.078125 0 \nL 9.078125 54.6875 \nL 18.109375 54.6875 \nL 18.109375 46.1875 \nQ 21.34375 51.125 25.703125 53.5625 \nQ 30.078125 56 35.796875 56 \nQ 45.21875 56 50.046875 50.171875 \nQ 54.890625 44.34375 54.890625 33.015625 \nz\n\" id=\"DejaVuSans-110\"/>\n    </defs>\n    <g transform=\"translate(704.064473 17.837812)scale(0.14 -0.14)\">\n     <use xlink:href=\"#DejaVuSans-115\"/>\n     <use x=\"52.099609\" xlink:href=\"#DejaVuSans-97\"/>\n     <use x=\"113.378906\" xlink:href=\"#DejaVuSans-110\"/>\n     <use x=\"176.757812\" xlink:href=\"#DejaVuSans-100\"/>\n     <use x=\"240.234375\" xlink:href=\"#DejaVuSans-97\"/>\n     <use x=\"301.513672\" xlink:href=\"#DejaVuSans-108\"/>\n    </g>\n    <!-- sandal -->\n    <g transform=\"translate(704.064473 33.51475)scale(0.14 -0.14)\">\n     <use xlink:href=\"#DejaVuSans-115\"/>\n     <use x=\"52.099609\" xlink:href=\"#DejaVuSans-97\"/>\n     <use x=\"113.378906\" xlink:href=\"#DejaVuSans-110\"/>\n     <use x=\"176.757812\" xlink:href=\"#DejaVuSans-100\"/>\n     <use x=\"240.234375\" xlink:href=\"#DejaVuSans-97\"/>\n     <use x=\"301.513672\" xlink:href=\"#DejaVuSans-108\"/>\n    </g>\n   </g>\n  </g>\n  <g id=\"axes_10\">\n   <g id=\"patch_47\">\n    <path d=\"M 776.767797 110.446953 \nL 847.7 110.446953 \nL 847.7 39.51475 \nL 776.767797 39.51475 \nz\n\" style=\"fill:#ffffff;\"/>\n   </g>\n   <g clip-path=\"url(#pa4e3175419)\">\n    <image height=\"71\" id=\"image53b22e010f\" transform=\"scale(1 -1)translate(0 -71)\" width=\"71\" x=\"776.767797\" xlink:href=\"data:image/png;base64,\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\" y=\"-39.446953\"/>\n   </g>\n   <g id=\"patch_48\">\n    <path d=\"M 776.767797 110.446953 \nL 776.767797 39.51475 \n\" style=\"fill:none;stroke:#000000;stroke-linecap:square;stroke-linejoin:miter;stroke-width:0.8;\"/>\n   </g>\n   <g id=\"patch_49\">\n    <path d=\"M 847.7 110.446953 \nL 847.7 39.51475 \n\" style=\"fill:none;stroke:#000000;stroke-linecap:square;stroke-linejoin:miter;stroke-width:0.8;\"/>\n   </g>\n   <g id=\"patch_50\">\n    <path d=\"M 776.767797 110.446953 \nL 847.7 110.446953 \n\" style=\"fill:none;stroke:#000000;stroke-linecap:square;stroke-linejoin:miter;stroke-width:0.8;\"/>\n   </g>\n   <g id=\"patch_51\">\n    <path d=\"M 776.767797 39.51475 \nL 847.7 39.51475 \n\" style=\"fill:none;stroke:#000000;stroke-linecap:square;stroke-linejoin:miter;stroke-width:0.8;\"/>\n   </g>\n   <g id=\"text_10\">\n    <!-- t-shirt -->\n    <g transform=\"translate(791.314836 17.837812)scale(0.14 -0.14)\">\n     <use xlink:href=\"#DejaVuSans-116\"/>\n     <use x=\"39.208984\" xlink:href=\"#DejaVuSans-45\"/>\n     <use x=\"75.292969\" xlink:href=\"#DejaVuSans-115\"/>\n     <use x=\"127.392578\" xlink:href=\"#DejaVuSans-104\"/>\n     <use x=\"190.771484\" xlink:href=\"#DejaVuSans-105\"/>\n     <use x=\"218.554688\" xlink:href=\"#DejaVuSans-114\"/>\n     <use x=\"259.667969\" xlink:href=\"#DejaVuSans-116\"/>\n    </g>\n    <!-- t-shirt -->\n    <g transform=\"translate(791.314836 33.51475)scale(0.14 -0.14)\">\n     <use xlink:href=\"#DejaVuSans-116\"/>\n     <use x=\"39.208984\" xlink:href=\"#DejaVuSans-45\"/>\n     <use x=\"75.292969\" xlink:href=\"#DejaVuSans-115\"/>\n     <use x=\"127.392578\" xlink:href=\"#DejaVuSans-104\"/>\n     <use x=\"190.771484\" xlink:href=\"#DejaVuSans-105\"/>\n     <use x=\"218.554688\" xlink:href=\"#DejaVuSans-114\"/>\n     <use x=\"259.667969\" xlink:href=\"#DejaVuSans-116\"/>\n    </g>\n   </g>\n  </g>\n </g>\n <defs>\n  <clipPath id=\"p1e3c4f5647\">\n   <rect height=\"70.932203\" width=\"70.932203\" x=\"10.7\" y=\"39.51475\"/>\n  </clipPath>\n  <clipPath id=\"p4943db4c63\">\n   <rect height=\"70.932203\" width=\"70.932203\" x=\"95.818644\" y=\"39.51475\"/>\n  </clipPath>\n  <clipPath id=\"p6225f498d1\">\n   <rect height=\"70.932203\" width=\"70.932203\" x=\"180.937288\" y=\"39.51475\"/>\n  </clipPath>\n  <clipPath id=\"p8d21af852d\">\n   <rect height=\"70.932203\" width=\"70.932203\" x=\"266.055932\" y=\"39.51475\"/>\n  </clipPath>\n  <clipPath id=\"pb940df50d3\">\n   <rect height=\"70.932203\" width=\"70.932203\" x=\"351.174576\" y=\"39.51475\"/>\n  </clipPath>\n  <clipPath id=\"pc6a98d09ab\">\n   <rect height=\"70.932203\" width=\"70.932203\" x=\"436.29322\" y=\"39.51475\"/>\n  </clipPath>\n  <clipPath id=\"p3febe3c5b2\">\n   <rect height=\"70.932203\" width=\"70.932203\" x=\"521.411864\" y=\"39.51475\"/>\n  </clipPath>\n  <clipPath id=\"p8ffa6af7c8\">\n   <rect height=\"70.932203\" width=\"70.932203\" x=\"606.530508\" y=\"39.51475\"/>\n  </clipPath>\n  <clipPath id=\"p272be9d9a3\">\n   <rect height=\"70.932203\" width=\"70.932203\" x=\"691.649153\" y=\"39.51475\"/>\n  </clipPath>\n  <clipPath id=\"pa4e3175419\">\n   <rect height=\"70.932203\" width=\"70.932203\" x=\"776.767797\" y=\"39.51475\"/>\n  </clipPath>\n </defs>\n</svg>\n"
          },
          "metadata": {
            "tags": [],
            "needs_background": "light"
          }
        }
      ]
    },
    {
      "cell_type": "code",
      "metadata": {
        "colab": {
          "base_uri": "https://localhost:8080/"
        },
        "id": "f1wz9634Uq1q",
        "outputId": "254d0c75-62d0-4371-b2bc-03588149e2de"
      },
      "source": [
        "from mxnet.gluon.model_zoo import vision as models\n",
        "from mxnet.gluon.utils import download\n",
        "from mxnet import image\n",
        "\n",
        "net = models.resnet50_v2(pretrained=True)"
      ],
      "execution_count": 78,
      "outputs": [
        {
          "output_type": "stream",
          "text": [
            "Downloading /root/.mxnet/models/resnet50_v2-ecdde353.zipf01092f1-8579-4a19-b31f-5060ec7a111f from https://apache-mxnet.s3-accelerate.dualstack.amazonaws.com/gluon/models/resnet50_v2-ecdde353.zip...\n"
          ],
          "name": "stdout"
        }
      ]
    },
    {
      "cell_type": "code",
      "metadata": {
        "colab": {
          "base_uri": "https://localhost:8080/"
        },
        "id": "IuhNSROHUq5K",
        "outputId": "dcdac662-2b8c-47ec-f562-332561083708"
      },
      "source": [
        "url = 'http://data.mxnet.io/models/imagenet/synset.txt'\n",
        "fname = download(url)\n",
        "with open(fname, 'r') as f:\n",
        "    text_labels = [' '.join(l.split()[1:]) for l in f]"
      ],
      "execution_count": 79,
      "outputs": [
        {
          "output_type": "stream",
          "text": [
            "Downloading synset.txt from http://data.mxnet.io/models/imagenet/synset.txt...\n"
          ],
          "name": "stdout"
        }
      ]
    },
    {
      "cell_type": "code",
      "metadata": {
        "colab": {
          "base_uri": "https://localhost:8080/"
        },
        "id": "91D2ZILfVsCa",
        "outputId": "6967a559-2e9f-4db1-a994-c35f89dd881e"
      },
      "source": [
        "url = 'https://upload.wikimedia.org/wikipedia/commons/thumb/b/b5/\\\n",
        "Golden_Retriever_medium-to-light-coat.jpg/\\\n",
        "365px-Golden_Retriever_medium-to-light-coat.jpg'\n",
        "fname = download(url)\n",
        "x = image.imread(fname)"
      ],
      "execution_count": 80,
      "outputs": [
        {
          "output_type": "stream",
          "text": [
            "Downloading 365px-Golden_Retriever_medium-to-light-coat.jpg from https://upload.wikimedia.org/wikipedia/commons/thumb/b/b5/Golden_Retriever_medium-to-light-coat.jpg/365px-Golden_Retriever_medium-to-light-coat.jpg...\n"
          ],
          "name": "stdout"
        }
      ]
    },
    {
      "cell_type": "code",
      "metadata": {
        "colab": {
          "base_uri": "https://localhost:8080/",
          "height": 356
        },
        "id": "U4WunvSpVsJ9",
        "outputId": "2dc33f97-18e0-4df4-aea6-03a5317ac4ab"
      },
      "source": [
        "x = image.resize_short(x, 256)\n",
        "x, _ = image.center_crop(x, (224,224))\n",
        "plt.imshow(x.asnumpy())\n",
        "plt.show()"
      ],
      "execution_count": 81,
      "outputs": [
        {
          "output_type": "display_data",
          "data": {
            "text/plain": [
              "<Figure size 432x288 with 1 Axes>"
            ],
            "image/svg+xml": "<?xml version=\"1.0\" encoding=\"utf-8\" standalone=\"no\"?>\n<!DOCTYPE svg PUBLIC \"-//W3C//DTD SVG 1.1//EN\"\n  \"http://www.w3.org/Graphics/SVG/1.1/DTD/svg11.dtd\">\n<!-- Created with matplotlib (https://matplotlib.org/) -->\n<svg height=\"251.831987pt\" version=\"1.1\" viewBox=\"0 0 257.9275 251.831987\" width=\"257.9275pt\" xmlns=\"http://www.w3.org/2000/svg\" xmlns:xlink=\"http://www.w3.org/1999/xlink\">\n <defs>\n  <style type=\"text/css\">\n*{stroke-linecap:butt;stroke-linejoin:round;}\n  </style>\n </defs>\n <g id=\"figure_1\">\n  <g id=\"patch_1\">\n   <path d=\"M 0 251.831987 \nL 257.9275 251.831987 \nL 257.9275 0 \nL 0 0 \nz\n\" style=\"fill:none;\"/>\n  </g>\n  <g id=\"axes_1\">\n   <g id=\"patch_2\">\n    <path d=\"M 33.2875 227.953862 \nL 250.7275 227.953862 \nL 250.7275 10.513862 \nL 33.2875 10.513862 \nz\n\" style=\"fill:#ffffff;\"/>\n   </g>\n   <g clip-path=\"url(#p4afd83a7ba)\">\n    <image height=\"218\" id=\"imageb4b826f11d\" transform=\"scale(1 -1)translate(0 -218)\" width=\"218\" x=\"33.2875\" xlink:href=\"data:image/png;base64,\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\" y=\"-9.953862\"/>\n   </g>\n   <g id=\"matplotlib.axis_1\">\n    <g id=\"xtick_1\">\n     <g id=\"line2d_1\">\n      <defs>\n       <path d=\"M 0 0 \nL 0 3.5 \n\" id=\"m417a6a6644\" style=\"stroke:#000000;stroke-width:0.8;\"/>\n      </defs>\n      <g>\n       <use style=\"stroke:#000000;stroke-width:0.8;\" x=\"33.772857\" xlink:href=\"#m417a6a6644\" y=\"227.953862\"/>\n      </g>\n     </g>\n     <g id=\"text_1\">\n      <!-- 0 -->\n      <defs>\n       <path d=\"M 31.78125 66.40625 \nQ 24.171875 66.40625 20.328125 58.90625 \nQ 16.5 51.421875 16.5 36.375 \nQ 16.5 21.390625 20.328125 13.890625 \nQ 24.171875 6.390625 31.78125 6.390625 \nQ 39.453125 6.390625 43.28125 13.890625 \nQ 47.125 21.390625 47.125 36.375 \nQ 47.125 51.421875 43.28125 58.90625 \nQ 39.453125 66.40625 31.78125 66.40625 \nz\nM 31.78125 74.21875 \nQ 44.046875 74.21875 50.515625 64.515625 \nQ 56.984375 54.828125 56.984375 36.375 \nQ 56.984375 17.96875 50.515625 8.265625 \nQ 44.046875 -1.421875 31.78125 -1.421875 \nQ 19.53125 -1.421875 13.0625 8.265625 \nQ 6.59375 17.96875 6.59375 36.375 \nQ 6.59375 54.828125 13.0625 64.515625 \nQ 19.53125 74.21875 31.78125 74.21875 \nz\n\" id=\"DejaVuSans-48\"/>\n      </defs>\n      <g transform=\"translate(30.591607 242.552299)scale(0.1 -0.1)\">\n       <use xlink:href=\"#DejaVuSans-48\"/>\n      </g>\n     </g>\n    </g>\n    <g id=\"xtick_2\">\n     <g id=\"line2d_2\">\n      <g>\n       <use style=\"stroke:#000000;stroke-width:0.8;\" x=\"82.308571\" xlink:href=\"#m417a6a6644\" y=\"227.953862\"/>\n      </g>\n     </g>\n     <g id=\"text_2\">\n      <!-- 50 -->\n      <defs>\n       <path d=\"M 10.796875 72.90625 \nL 49.515625 72.90625 \nL 49.515625 64.59375 \nL 19.828125 64.59375 \nL 19.828125 46.734375 \nQ 21.96875 47.46875 24.109375 47.828125 \nQ 26.265625 48.1875 28.421875 48.1875 \nQ 40.625 48.1875 47.75 41.5 \nQ 54.890625 34.8125 54.890625 23.390625 \nQ 54.890625 11.625 47.5625 5.09375 \nQ 40.234375 -1.421875 26.90625 -1.421875 \nQ 22.3125 -1.421875 17.546875 -0.640625 \nQ 12.796875 0.140625 7.71875 1.703125 \nL 7.71875 11.625 \nQ 12.109375 9.234375 16.796875 8.0625 \nQ 21.484375 6.890625 26.703125 6.890625 \nQ 35.15625 6.890625 40.078125 11.328125 \nQ 45.015625 15.765625 45.015625 23.390625 \nQ 45.015625 31 40.078125 35.4375 \nQ 35.15625 39.890625 26.703125 39.890625 \nQ 22.75 39.890625 18.8125 39.015625 \nQ 14.890625 38.140625 10.796875 36.28125 \nz\n\" id=\"DejaVuSans-53\"/>\n      </defs>\n      <g transform=\"translate(75.946071 242.552299)scale(0.1 -0.1)\">\n       <use xlink:href=\"#DejaVuSans-53\"/>\n       <use x=\"63.623047\" xlink:href=\"#DejaVuSans-48\"/>\n      </g>\n     </g>\n    </g>\n    <g id=\"xtick_3\">\n     <g id=\"line2d_3\">\n      <g>\n       <use style=\"stroke:#000000;stroke-width:0.8;\" x=\"130.844286\" xlink:href=\"#m417a6a6644\" y=\"227.953862\"/>\n      </g>\n     </g>\n     <g id=\"text_3\">\n      <!-- 100 -->\n      <defs>\n       <path d=\"M 12.40625 8.296875 \nL 28.515625 8.296875 \nL 28.515625 63.921875 \nL 10.984375 60.40625 \nL 10.984375 69.390625 \nL 28.421875 72.90625 \nL 38.28125 72.90625 \nL 38.28125 8.296875 \nL 54.390625 8.296875 \nL 54.390625 0 \nL 12.40625 0 \nz\n\" id=\"DejaVuSans-49\"/>\n      </defs>\n      <g transform=\"translate(121.300536 242.552299)scale(0.1 -0.1)\">\n       <use xlink:href=\"#DejaVuSans-49\"/>\n       <use x=\"63.623047\" xlink:href=\"#DejaVuSans-48\"/>\n       <use x=\"127.246094\" xlink:href=\"#DejaVuSans-48\"/>\n      </g>\n     </g>\n    </g>\n    <g id=\"xtick_4\">\n     <g id=\"line2d_4\">\n      <g>\n       <use style=\"stroke:#000000;stroke-width:0.8;\" x=\"179.38\" xlink:href=\"#m417a6a6644\" y=\"227.953862\"/>\n      </g>\n     </g>\n     <g id=\"text_4\">\n      <!-- 150 -->\n      <g transform=\"translate(169.83625 242.552299)scale(0.1 -0.1)\">\n       <use xlink:href=\"#DejaVuSans-49\"/>\n       <use x=\"63.623047\" xlink:href=\"#DejaVuSans-53\"/>\n       <use x=\"127.246094\" xlink:href=\"#DejaVuSans-48\"/>\n      </g>\n     </g>\n    </g>\n    <g id=\"xtick_5\">\n     <g id=\"line2d_5\">\n      <g>\n       <use style=\"stroke:#000000;stroke-width:0.8;\" x=\"227.915714\" xlink:href=\"#m417a6a6644\" y=\"227.953862\"/>\n      </g>\n     </g>\n     <g id=\"text_5\">\n      <!-- 200 -->\n      <defs>\n       <path d=\"M 19.1875 8.296875 \nL 53.609375 8.296875 \nL 53.609375 0 \nL 7.328125 0 \nL 7.328125 8.296875 \nQ 12.9375 14.109375 22.625 23.890625 \nQ 32.328125 33.6875 34.8125 36.53125 \nQ 39.546875 41.84375 41.421875 45.53125 \nQ 43.3125 49.21875 43.3125 52.78125 \nQ 43.3125 58.59375 39.234375 62.25 \nQ 35.15625 65.921875 28.609375 65.921875 \nQ 23.96875 65.921875 18.8125 64.3125 \nQ 13.671875 62.703125 7.8125 59.421875 \nL 7.8125 69.390625 \nQ 13.765625 71.78125 18.9375 73 \nQ 24.125 74.21875 28.421875 74.21875 \nQ 39.75 74.21875 46.484375 68.546875 \nQ 53.21875 62.890625 53.21875 53.421875 \nQ 53.21875 48.921875 51.53125 44.890625 \nQ 49.859375 40.875 45.40625 35.40625 \nQ 44.1875 33.984375 37.640625 27.21875 \nQ 31.109375 20.453125 19.1875 8.296875 \nz\n\" id=\"DejaVuSans-50\"/>\n      </defs>\n      <g transform=\"translate(218.371964 242.552299)scale(0.1 -0.1)\">\n       <use xlink:href=\"#DejaVuSans-50\"/>\n       <use x=\"63.623047\" xlink:href=\"#DejaVuSans-48\"/>\n       <use x=\"127.246094\" xlink:href=\"#DejaVuSans-48\"/>\n      </g>\n     </g>\n    </g>\n   </g>\n   <g id=\"matplotlib.axis_2\">\n    <g id=\"ytick_1\">\n     <g id=\"line2d_6\">\n      <defs>\n       <path d=\"M 0 0 \nL -3.5 0 \n\" id=\"m22b5bd6399\" style=\"stroke:#000000;stroke-width:0.8;\"/>\n      </defs>\n      <g>\n       <use style=\"stroke:#000000;stroke-width:0.8;\" x=\"33.2875\" xlink:href=\"#m22b5bd6399\" y=\"10.999219\"/>\n      </g>\n     </g>\n     <g id=\"text_6\">\n      <!-- 0 -->\n      <g transform=\"translate(19.925 14.798437)scale(0.1 -0.1)\">\n       <use xlink:href=\"#DejaVuSans-48\"/>\n      </g>\n     </g>\n    </g>\n    <g id=\"ytick_2\">\n     <g id=\"line2d_7\">\n      <g>\n       <use style=\"stroke:#000000;stroke-width:0.8;\" x=\"33.2875\" xlink:href=\"#m22b5bd6399\" y=\"35.267076\"/>\n      </g>\n     </g>\n     <g id=\"text_7\">\n      <!-- 25 -->\n      <g transform=\"translate(13.5625 39.066295)scale(0.1 -0.1)\">\n       <use xlink:href=\"#DejaVuSans-50\"/>\n       <use x=\"63.623047\" xlink:href=\"#DejaVuSans-53\"/>\n      </g>\n     </g>\n    </g>\n    <g id=\"ytick_3\">\n     <g id=\"line2d_8\">\n      <g>\n       <use style=\"stroke:#000000;stroke-width:0.8;\" x=\"33.2875\" xlink:href=\"#m22b5bd6399\" y=\"59.534933\"/>\n      </g>\n     </g>\n     <g id=\"text_8\">\n      <!-- 50 -->\n      <g transform=\"translate(13.5625 63.334152)scale(0.1 -0.1)\">\n       <use xlink:href=\"#DejaVuSans-53\"/>\n       <use x=\"63.623047\" xlink:href=\"#DejaVuSans-48\"/>\n      </g>\n     </g>\n    </g>\n    <g id=\"ytick_4\">\n     <g id=\"line2d_9\">\n      <g>\n       <use style=\"stroke:#000000;stroke-width:0.8;\" x=\"33.2875\" xlink:href=\"#m22b5bd6399\" y=\"83.80279\"/>\n      </g>\n     </g>\n     <g id=\"text_9\">\n      <!-- 75 -->\n      <defs>\n       <path d=\"M 8.203125 72.90625 \nL 55.078125 72.90625 \nL 55.078125 68.703125 \nL 28.609375 0 \nL 18.3125 0 \nL 43.21875 64.59375 \nL 8.203125 64.59375 \nz\n\" id=\"DejaVuSans-55\"/>\n      </defs>\n      <g transform=\"translate(13.5625 87.602009)scale(0.1 -0.1)\">\n       <use xlink:href=\"#DejaVuSans-55\"/>\n       <use x=\"63.623047\" xlink:href=\"#DejaVuSans-53\"/>\n      </g>\n     </g>\n    </g>\n    <g id=\"ytick_5\">\n     <g id=\"line2d_10\">\n      <g>\n       <use style=\"stroke:#000000;stroke-width:0.8;\" x=\"33.2875\" xlink:href=\"#m22b5bd6399\" y=\"108.070647\"/>\n      </g>\n     </g>\n     <g id=\"text_10\">\n      <!-- 100 -->\n      <g transform=\"translate(7.2 111.869866)scale(0.1 -0.1)\">\n       <use xlink:href=\"#DejaVuSans-49\"/>\n       <use x=\"63.623047\" xlink:href=\"#DejaVuSans-48\"/>\n       <use x=\"127.246094\" xlink:href=\"#DejaVuSans-48\"/>\n      </g>\n     </g>\n    </g>\n    <g id=\"ytick_6\">\n     <g id=\"line2d_11\">\n      <g>\n       <use style=\"stroke:#000000;stroke-width:0.8;\" x=\"33.2875\" xlink:href=\"#m22b5bd6399\" y=\"132.338504\"/>\n      </g>\n     </g>\n     <g id=\"text_11\">\n      <!-- 125 -->\n      <g transform=\"translate(7.2 136.137723)scale(0.1 -0.1)\">\n       <use xlink:href=\"#DejaVuSans-49\"/>\n       <use x=\"63.623047\" xlink:href=\"#DejaVuSans-50\"/>\n       <use x=\"127.246094\" xlink:href=\"#DejaVuSans-53\"/>\n      </g>\n     </g>\n    </g>\n    <g id=\"ytick_7\">\n     <g id=\"line2d_12\">\n      <g>\n       <use style=\"stroke:#000000;stroke-width:0.8;\" x=\"33.2875\" xlink:href=\"#m22b5bd6399\" y=\"156.606362\"/>\n      </g>\n     </g>\n     <g id=\"text_12\">\n      <!-- 150 -->\n      <g transform=\"translate(7.2 160.40558)scale(0.1 -0.1)\">\n       <use xlink:href=\"#DejaVuSans-49\"/>\n       <use x=\"63.623047\" xlink:href=\"#DejaVuSans-53\"/>\n       <use x=\"127.246094\" xlink:href=\"#DejaVuSans-48\"/>\n      </g>\n     </g>\n    </g>\n    <g id=\"ytick_8\">\n     <g id=\"line2d_13\">\n      <g>\n       <use style=\"stroke:#000000;stroke-width:0.8;\" x=\"33.2875\" xlink:href=\"#m22b5bd6399\" y=\"180.874219\"/>\n      </g>\n     </g>\n     <g id=\"text_13\">\n      <!-- 175 -->\n      <g transform=\"translate(7.2 184.673437)scale(0.1 -0.1)\">\n       <use xlink:href=\"#DejaVuSans-49\"/>\n       <use x=\"63.623047\" xlink:href=\"#DejaVuSans-55\"/>\n       <use x=\"127.246094\" xlink:href=\"#DejaVuSans-53\"/>\n      </g>\n     </g>\n    </g>\n    <g id=\"ytick_9\">\n     <g id=\"line2d_14\">\n      <g>\n       <use style=\"stroke:#000000;stroke-width:0.8;\" x=\"33.2875\" xlink:href=\"#m22b5bd6399\" y=\"205.142076\"/>\n      </g>\n     </g>\n     <g id=\"text_14\">\n      <!-- 200 -->\n      <g transform=\"translate(7.2 208.941295)scale(0.1 -0.1)\">\n       <use xlink:href=\"#DejaVuSans-50\"/>\n       <use x=\"63.623047\" xlink:href=\"#DejaVuSans-48\"/>\n       <use x=\"127.246094\" xlink:href=\"#DejaVuSans-48\"/>\n      </g>\n     </g>\n    </g>\n   </g>\n   <g id=\"patch_3\">\n    <path d=\"M 33.2875 227.953862 \nL 33.2875 10.513862 \n\" style=\"fill:none;stroke:#000000;stroke-linecap:square;stroke-linejoin:miter;stroke-width:0.8;\"/>\n   </g>\n   <g id=\"patch_4\">\n    <path d=\"M 250.7275 227.953862 \nL 250.7275 10.513862 \n\" style=\"fill:none;stroke:#000000;stroke-linecap:square;stroke-linejoin:miter;stroke-width:0.8;\"/>\n   </g>\n   <g id=\"patch_5\">\n    <path d=\"M 33.2875 227.953862 \nL 250.7275 227.953862 \n\" style=\"fill:none;stroke:#000000;stroke-linecap:square;stroke-linejoin:miter;stroke-width:0.8;\"/>\n   </g>\n   <g id=\"patch_6\">\n    <path d=\"M 33.2875 10.513862 \nL 250.7275 10.513862 \n\" style=\"fill:none;stroke:#000000;stroke-linecap:square;stroke-linejoin:miter;stroke-width:0.8;\"/>\n   </g>\n  </g>\n </g>\n <defs>\n  <clipPath id=\"p4afd83a7ba\">\n   <rect height=\"217.44\" width=\"217.44\" x=\"33.2875\" y=\"10.513862\"/>\n  </clipPath>\n </defs>\n</svg>\n"
          },
          "metadata": {
            "tags": [],
            "needs_background": "light"
          }
        }
      ]
    },
    {
      "cell_type": "code",
      "metadata": {
        "id": "c0zIgh2qVsvX"
      },
      "source": [
        "def transform(data):\n",
        "    data = data.transpose((2,0,1)).expand_dims(axis=0)\n",
        "    rgb_mean = nd.array([0.485, 0.456, 0.406]).reshape((1,3,1,1))\n",
        "    rgb_std = nd.array([0.229, 0.224, 0.225]).reshape((1,3,1,1))\n",
        "    return (data.astype('float32') / 255 - rgb_mean) / rgb_std"
      ],
      "execution_count": 82,
      "outputs": []
    },
    {
      "cell_type": "code",
      "metadata": {
        "colab": {
          "base_uri": "https://localhost:8080/"
        },
        "id": "DCf79fwYVtZu",
        "outputId": "6d62ab94-d447-4306-e648-df19e7d57af5"
      },
      "source": [
        "prob = net(transform(x)).softmax()\n",
        "idx = prob.topk(k=5)[0]\n",
        "for i in idx:\n",
        "    i = int(i.asscalar())\n",
        "    print('With prob = %.5f, it contains %s' % (\n",
        "        prob[0,i].asscalar(), text_labels[i]))"
      ],
      "execution_count": 83,
      "outputs": [
        {
          "output_type": "stream",
          "text": [
            "With prob = 0.98323, it contains golden retriever\n",
            "With prob = 0.00729, it contains English setter\n",
            "With prob = 0.00297, it contains Irish setter, red setter\n",
            "With prob = 0.00224, it contains cocker spaniel, English cocker spaniel, cocker\n",
            "With prob = 0.00147, it contains Labrador retriever\n"
          ],
          "name": "stdout"
        }
      ]
    },
    {
      "cell_type": "markdown",
      "metadata": {
        "id": "94xml-7BWgeh"
      },
      "source": [
        "# **Use GPUs**"
      ]
    },
    {
      "cell_type": "code",
      "metadata": {
        "colab": {
          "base_uri": "https://localhost:8080/"
        },
        "id": "xdsuvzjIVtiZ",
        "outputId": "b68dc92f-7648-46c0-c204-ade2fda70242"
      },
      "source": [
        "!pip install -U mxnet-cu101==1.7.0\n",
        "!pip install d2l==0.16.2\n",
        "from mxnet import nd, gpu, gluon, autograd\n",
        "from mxnet.gluon import nn\n",
        "from mxnet.gluon.data.vision import datasets, transforms\n",
        "import time\n",
        "from d2l import mxnet as d2l"
      ],
      "execution_count": 84,
      "outputs": [
        {
          "output_type": "stream",
          "text": [
            "Requirement already up-to-date: mxnet-cu101==1.7.0 in /usr/local/lib/python3.7/dist-packages (1.7.0)\n",
            "Requirement already satisfied, skipping upgrade: numpy<2.0.0,>1.16.0 in /usr/local/lib/python3.7/dist-packages (from mxnet-cu101==1.7.0) (1.19.5)\n",
            "Requirement already satisfied, skipping upgrade: graphviz<0.9.0,>=0.8.1 in /usr/local/lib/python3.7/dist-packages (from mxnet-cu101==1.7.0) (0.8.4)\n",
            "Requirement already satisfied, skipping upgrade: requests<3,>=2.20.0 in /usr/local/lib/python3.7/dist-packages (from mxnet-cu101==1.7.0) (2.23.0)\n",
            "Requirement already satisfied, skipping upgrade: idna<3,>=2.5 in /usr/local/lib/python3.7/dist-packages (from requests<3,>=2.20.0->mxnet-cu101==1.7.0) (2.10)\n",
            "Requirement already satisfied, skipping upgrade: urllib3!=1.25.0,!=1.25.1,<1.26,>=1.21.1 in /usr/local/lib/python3.7/dist-packages (from requests<3,>=2.20.0->mxnet-cu101==1.7.0) (1.24.3)\n",
            "Requirement already satisfied, skipping upgrade: chardet<4,>=3.0.2 in /usr/local/lib/python3.7/dist-packages (from requests<3,>=2.20.0->mxnet-cu101==1.7.0) (3.0.4)\n",
            "Requirement already satisfied, skipping upgrade: certifi>=2017.4.17 in /usr/local/lib/python3.7/dist-packages (from requests<3,>=2.20.0->mxnet-cu101==1.7.0) (2020.12.5)\n",
            "Requirement already satisfied: d2l==0.16.2 in /usr/local/lib/python3.7/dist-packages (0.16.2)\n",
            "Requirement already satisfied: jupyter in /usr/local/lib/python3.7/dist-packages (from d2l==0.16.2) (1.0.0)\n",
            "Requirement already satisfied: numpy in /usr/local/lib/python3.7/dist-packages (from d2l==0.16.2) (1.19.5)\n",
            "Requirement already satisfied: requests in /usr/local/lib/python3.7/dist-packages (from d2l==0.16.2) (2.23.0)\n",
            "Requirement already satisfied: pandas in /usr/local/lib/python3.7/dist-packages (from d2l==0.16.2) (1.1.5)\n",
            "Requirement already satisfied: matplotlib in /usr/local/lib/python3.7/dist-packages (from d2l==0.16.2) (3.2.2)\n",
            "Requirement already satisfied: notebook in /usr/local/lib/python3.7/dist-packages (from jupyter->d2l==0.16.2) (5.3.1)\n",
            "Requirement already satisfied: qtconsole in /usr/local/lib/python3.7/dist-packages (from jupyter->d2l==0.16.2) (5.0.3)\n",
            "Requirement already satisfied: ipykernel in /usr/local/lib/python3.7/dist-packages (from jupyter->d2l==0.16.2) (4.10.1)\n",
            "Requirement already satisfied: ipywidgets in /usr/local/lib/python3.7/dist-packages (from jupyter->d2l==0.16.2) (7.6.3)\n",
            "Requirement already satisfied: nbconvert in /usr/local/lib/python3.7/dist-packages (from jupyter->d2l==0.16.2) (5.6.1)\n",
            "Requirement already satisfied: jupyter-console in /usr/local/lib/python3.7/dist-packages (from jupyter->d2l==0.16.2) (5.2.0)\n",
            "Requirement already satisfied: urllib3!=1.25.0,!=1.25.1,<1.26,>=1.21.1 in /usr/local/lib/python3.7/dist-packages (from requests->d2l==0.16.2) (1.24.3)\n",
            "Requirement already satisfied: chardet<4,>=3.0.2 in /usr/local/lib/python3.7/dist-packages (from requests->d2l==0.16.2) (3.0.4)\n",
            "Requirement already satisfied: idna<3,>=2.5 in /usr/local/lib/python3.7/dist-packages (from requests->d2l==0.16.2) (2.10)\n",
            "Requirement already satisfied: certifi>=2017.4.17 in /usr/local/lib/python3.7/dist-packages (from requests->d2l==0.16.2) (2020.12.5)\n",
            "Requirement already satisfied: python-dateutil>=2.7.3 in /usr/local/lib/python3.7/dist-packages (from pandas->d2l==0.16.2) (2.8.1)\n",
            "Requirement already satisfied: pytz>=2017.2 in /usr/local/lib/python3.7/dist-packages (from pandas->d2l==0.16.2) (2018.9)\n",
            "Requirement already satisfied: kiwisolver>=1.0.1 in /usr/local/lib/python3.7/dist-packages (from matplotlib->d2l==0.16.2) (1.3.1)\n",
            "Requirement already satisfied: pyparsing!=2.0.4,!=2.1.2,!=2.1.6,>=2.0.1 in /usr/local/lib/python3.7/dist-packages (from matplotlib->d2l==0.16.2) (2.4.7)\n",
            "Requirement already satisfied: cycler>=0.10 in /usr/local/lib/python3.7/dist-packages (from matplotlib->d2l==0.16.2) (0.10.0)\n",
            "Requirement already satisfied: terminado>=0.8.1 in /usr/local/lib/python3.7/dist-packages (from notebook->jupyter->d2l==0.16.2) (0.9.4)\n",
            "Requirement already satisfied: jinja2 in /usr/local/lib/python3.7/dist-packages (from notebook->jupyter->d2l==0.16.2) (2.11.3)\n",
            "Requirement already satisfied: Send2Trash in /usr/local/lib/python3.7/dist-packages (from notebook->jupyter->d2l==0.16.2) (1.5.0)\n",
            "Requirement already satisfied: nbformat in /usr/local/lib/python3.7/dist-packages (from notebook->jupyter->d2l==0.16.2) (5.1.3)\n",
            "Requirement already satisfied: jupyter-client>=5.2.0 in /usr/local/lib/python3.7/dist-packages (from notebook->jupyter->d2l==0.16.2) (5.3.5)\n",
            "Requirement already satisfied: tornado>=4 in /usr/local/lib/python3.7/dist-packages (from notebook->jupyter->d2l==0.16.2) (5.1.1)\n",
            "Requirement already satisfied: traitlets>=4.2.1 in /usr/local/lib/python3.7/dist-packages (from notebook->jupyter->d2l==0.16.2) (5.0.5)\n",
            "Requirement already satisfied: jupyter-core>=4.4.0 in /usr/local/lib/python3.7/dist-packages (from notebook->jupyter->d2l==0.16.2) (4.7.1)\n",
            "Requirement already satisfied: ipython-genutils in /usr/local/lib/python3.7/dist-packages (from notebook->jupyter->d2l==0.16.2) (0.2.0)\n",
            "Requirement already satisfied: pygments in /usr/local/lib/python3.7/dist-packages (from qtconsole->jupyter->d2l==0.16.2) (2.6.1)\n",
            "Requirement already satisfied: pyzmq>=17.1 in /usr/local/lib/python3.7/dist-packages (from qtconsole->jupyter->d2l==0.16.2) (22.0.3)\n",
            "Requirement already satisfied: qtpy in /usr/local/lib/python3.7/dist-packages (from qtconsole->jupyter->d2l==0.16.2) (1.9.0)\n",
            "Requirement already satisfied: ipython>=4.0.0 in /usr/local/lib/python3.7/dist-packages (from ipykernel->jupyter->d2l==0.16.2) (5.5.0)\n",
            "Requirement already satisfied: widgetsnbextension~=3.5.0 in /usr/local/lib/python3.7/dist-packages (from ipywidgets->jupyter->d2l==0.16.2) (3.5.1)\n",
            "Requirement already satisfied: jupyterlab-widgets>=1.0.0; python_version >= \"3.6\" in /usr/local/lib/python3.7/dist-packages (from ipywidgets->jupyter->d2l==0.16.2) (1.0.0)\n",
            "Requirement already satisfied: entrypoints>=0.2.2 in /usr/local/lib/python3.7/dist-packages (from nbconvert->jupyter->d2l==0.16.2) (0.3)\n",
            "Requirement already satisfied: testpath in /usr/local/lib/python3.7/dist-packages (from nbconvert->jupyter->d2l==0.16.2) (0.4.4)\n",
            "Requirement already satisfied: pandocfilters>=1.4.1 in /usr/local/lib/python3.7/dist-packages (from nbconvert->jupyter->d2l==0.16.2) (1.4.3)\n",
            "Requirement already satisfied: bleach in /usr/local/lib/python3.7/dist-packages (from nbconvert->jupyter->d2l==0.16.2) (3.3.0)\n",
            "Requirement already satisfied: defusedxml in /usr/local/lib/python3.7/dist-packages (from nbconvert->jupyter->d2l==0.16.2) (0.7.1)\n",
            "Requirement already satisfied: mistune<2,>=0.8.1 in /usr/local/lib/python3.7/dist-packages (from nbconvert->jupyter->d2l==0.16.2) (0.8.4)\n",
            "Requirement already satisfied: prompt-toolkit<2.0.0,>=1.0.0 in /usr/local/lib/python3.7/dist-packages (from jupyter-console->jupyter->d2l==0.16.2) (1.0.18)\n",
            "Requirement already satisfied: six>=1.5 in /usr/local/lib/python3.7/dist-packages (from python-dateutil>=2.7.3->pandas->d2l==0.16.2) (1.15.0)\n",
            "Requirement already satisfied: ptyprocess; os_name != \"nt\" in /usr/local/lib/python3.7/dist-packages (from terminado>=0.8.1->notebook->jupyter->d2l==0.16.2) (0.7.0)\n",
            "Requirement already satisfied: MarkupSafe>=0.23 in /usr/local/lib/python3.7/dist-packages (from jinja2->notebook->jupyter->d2l==0.16.2) (1.1.1)\n",
            "Requirement already satisfied: jsonschema!=2.5.0,>=2.4 in /usr/local/lib/python3.7/dist-packages (from nbformat->notebook->jupyter->d2l==0.16.2) (2.6.0)\n",
            "Requirement already satisfied: pexpect; sys_platform != \"win32\" in /usr/local/lib/python3.7/dist-packages (from ipython>=4.0.0->ipykernel->jupyter->d2l==0.16.2) (4.8.0)\n",
            "Requirement already satisfied: decorator in /usr/local/lib/python3.7/dist-packages (from ipython>=4.0.0->ipykernel->jupyter->d2l==0.16.2) (4.4.2)\n",
            "Requirement already satisfied: setuptools>=18.5 in /usr/local/lib/python3.7/dist-packages (from ipython>=4.0.0->ipykernel->jupyter->d2l==0.16.2) (54.2.0)\n",
            "Requirement already satisfied: simplegeneric>0.8 in /usr/local/lib/python3.7/dist-packages (from ipython>=4.0.0->ipykernel->jupyter->d2l==0.16.2) (0.8.1)\n",
            "Requirement already satisfied: pickleshare in /usr/local/lib/python3.7/dist-packages (from ipython>=4.0.0->ipykernel->jupyter->d2l==0.16.2) (0.7.5)\n",
            "Requirement already satisfied: webencodings in /usr/local/lib/python3.7/dist-packages (from bleach->nbconvert->jupyter->d2l==0.16.2) (0.5.1)\n",
            "Requirement already satisfied: packaging in /usr/local/lib/python3.7/dist-packages (from bleach->nbconvert->jupyter->d2l==0.16.2) (20.9)\n",
            "Requirement already satisfied: wcwidth in /usr/local/lib/python3.7/dist-packages (from prompt-toolkit<2.0.0,>=1.0.0->jupyter-console->jupyter->d2l==0.16.2) (0.2.5)\n"
          ],
          "name": "stdout"
        }
      ]
    },
    {
      "cell_type": "code",
      "metadata": {
        "colab": {
          "base_uri": "https://localhost:8080/"
        },
        "id": "1jRTBIFMVtms",
        "outputId": "0791768a-6945-4e11-8b8a-b4f764659a47"
      },
      "source": [
        "x = nd.ones((3,4), ctx=gpu())\n",
        "x"
      ],
      "execution_count": 85,
      "outputs": [
        {
          "output_type": "execute_result",
          "data": {
            "text/plain": [
              "\n",
              "[[1. 1. 1. 1.]\n",
              " [1. 1. 1. 1.]\n",
              " [1. 1. 1. 1.]]\n",
              "<NDArray 3x4 @gpu(0)>"
            ]
          },
          "metadata": {
            "tags": []
          },
          "execution_count": 85
        }
      ]
    },
    {
      "cell_type": "markdown",
      "metadata": {
        "id": "X-7GmbK-2R-C"
      },
      "source": [
        "The Tutorial was adapeted here in order to allow the usage of multiple GPUs on google colab\n",
        "\n",
        "```\n",
        "# Als Code formatiert\n",
        "```\n",
        "\n"
      ]
    },
    {
      "cell_type": "code",
      "metadata": {
        "colab": {
          "base_uri": "https://localhost:8080/"
        },
        "id": "ef-qU9meVtqo",
        "outputId": "04561d99-6d01-43c5-93c2-0154dd2f0fb0"
      },
      "source": [
        "\n",
        "x.copyto(d2l.try_gpu(1))\n",
        "# Doesn't work on colab, as only one GPU is used "
      ],
      "execution_count": 86,
      "outputs": [
        {
          "output_type": "execute_result",
          "data": {
            "text/plain": [
              "\n",
              "[[1. 1. 1. 1.]\n",
              " [1. 1. 1. 1.]\n",
              " [1. 1. 1. 1.]]\n",
              "<NDArray 3x4 @cpu(0)>"
            ]
          },
          "metadata": {
            "tags": []
          },
          "execution_count": 86
        }
      ]
    },
    {
      "cell_type": "code",
      "metadata": {
        "colab": {
          "base_uri": "https://localhost:8080/"
        },
        "id": "HufHoYMDVtul",
        "outputId": "0d220961-0743-4b63-f378-fd5bf8e5d036"
      },
      "source": [
        "y = nd.random.uniform(shape=(3,4), ctx=gpu())\n",
        "x + y"
      ],
      "execution_count": 87,
      "outputs": [
        {
          "output_type": "execute_result",
          "data": {
            "text/plain": [
              "\n",
              "[[1.1826111 1.4855869 1.2355132 1.6955829]\n",
              " [1.5746396 1.0816584 1.0388997 1.3750937]\n",
              " [1.8552965 1.6191106 1.2801125 1.9333761]]\n",
              "<NDArray 3x4 @gpu(0)>"
            ]
          },
          "metadata": {
            "tags": []
          },
          "execution_count": 87
        }
      ]
    },
    {
      "cell_type": "code",
      "metadata": {
        "id": "u33C1r6rVtyw"
      },
      "source": [
        "net = nn.Sequential()\n",
        "net.add(nn.Conv2D(channels=6, kernel_size=5, activation='relu'),\n",
        "        nn.MaxPool2D(pool_size=2, strides=2),\n",
        "        nn.Conv2D(channels=16, kernel_size=3, activation='relu'),\n",
        "        nn.MaxPool2D(pool_size=2, strides=2),\n",
        "        nn.Flatten(),\n",
        "        nn.Dense(120, activation=\"relu\"),\n",
        "        nn.Dense(84, activation=\"relu\"),\n",
        "        nn.Dense(10))"
      ],
      "execution_count": 88,
      "outputs": []
    },
    {
      "cell_type": "code",
      "metadata": {
        "id": "rdVZ_Ns9Vt3M"
      },
      "source": [
        "net.load_parameters('net.params', ctx=gpu(0))"
      ],
      "execution_count": 89,
      "outputs": []
    },
    {
      "cell_type": "code",
      "metadata": {
        "colab": {
          "base_uri": "https://localhost:8080/"
        },
        "id": "0QX38GHoVt7G",
        "outputId": "9615f309-ec28-4b40-ea41-b8c42905eefe"
      },
      "source": [
        "x = nd.random.uniform(shape=(1,1,28,28), ctx=gpu(0))\n",
        "net(x)"
      ],
      "execution_count": 90,
      "outputs": [
        {
          "output_type": "execute_result",
          "data": {
            "text/plain": [
              "\n",
              "[[ 1.1053015  -0.15635306  1.3680272   0.25438887  0.2831083  -1.7423886\n",
              "   1.5156552  -1.3906093   0.28807878 -1.1646396 ]]\n",
              "<NDArray 1x10 @gpu(0)>"
            ]
          },
          "metadata": {
            "tags": []
          },
          "execution_count": 90
        }
      ]
    },
    {
      "cell_type": "code",
      "metadata": {
        "id": "DB5BhEGNVt-6"
      },
      "source": [
        "batch_size = 256\n",
        "transformer = transforms.Compose([\n",
        "    transforms.ToTensor(),\n",
        "    transforms.Normalize(0.13, 0.31)])\n",
        "train_data = gluon.data.DataLoader(\n",
        "    datasets.FashionMNIST(train=True).transform_first(transformer),\n",
        "    batch_size, shuffle=True, num_workers=4)\n",
        "valid_data = gluon.data.DataLoader(\n",
        "    datasets.FashionMNIST(train=False).transform_first(transformer),\n",
        "    batch_size, shuffle=False, num_workers=4)\n"
      ],
      "execution_count": 91,
      "outputs": []
    },
    {
      "cell_type": "code",
      "metadata": {
        "colab": {
          "base_uri": "https://localhost:8080/"
        },
        "id": "OrubQjylVuCr",
        "outputId": "9b2ad7c1-e463-42ed-c141-909fce31da33"
      },
      "source": [
        "# Diff 1: Use two GPUs for training.\n",
        "devices = [d2l.try_gpu(0), d2l.try_gpu(1)]\n",
        "# Diff 2: reinitialize the parameters and place them on multiple GPUs\n",
        "net.collect_params().initialize(force_reinit=True, ctx=devices)\n",
        "# Loss and trainer are the same as before\n",
        "softmax_cross_entropy = gluon.loss.SoftmaxCrossEntropyLoss()\n",
        "trainer = gluon.Trainer(net.collect_params(), 'sgd', {'learning_rate': 0.1})\n",
        "for epoch in range(10):\n",
        "    train_loss = 0.\n",
        "    tic = time.time()\n",
        "    for data, label in train_data:\n",
        "        # Diff 3: split batch and load into corresponding devices\n",
        "        data_list = gluon.utils.split_and_load(data, devices)\n",
        "        label_list = gluon.utils.split_and_load(label, devices)\n",
        "        # Diff 4: run forward and backward on each devices.\n",
        "        # MXNet will automatically run them in parallel\n",
        "        with autograd.record():\n",
        "            losses = [softmax_cross_entropy(net(X), y)\n",
        "                      for X, y in zip(data_list, label_list)]\n",
        "        for l in losses:\n",
        "            l.backward()\n",
        "        trainer.step(batch_size)\n",
        "        # Diff 5: sum losses over all devices\n",
        "        train_loss += sum([l.sum().asscalar() for l in losses])\n",
        "    print(\"Epoch %d: loss %.3f, in %.1f sec\" % (\n",
        "        epoch, train_loss/len(train_data)/batch_size, time.time()-tic))"
      ],
      "execution_count": 92,
      "outputs": [
        {
          "output_type": "stream",
          "text": [
            "Epoch 0: loss 1.672, in 17.7 sec\n",
            "Epoch 1: loss 0.742, in 17.2 sec\n",
            "Epoch 2: loss 0.576, in 17.3 sec\n",
            "Epoch 3: loss 0.502, in 17.4 sec\n",
            "Epoch 4: loss 0.459, in 17.8 sec\n",
            "Epoch 5: loss 0.422, in 17.8 sec\n",
            "Epoch 6: loss 0.393, in 17.6 sec\n",
            "Epoch 7: loss 0.369, in 17.4 sec\n",
            "Epoch 8: loss 0.353, in 17.5 sec\n",
            "Epoch 9: loss 0.336, in 17.6 sec\n"
          ],
          "name": "stdout"
        }
      ]
    },
    {
      "cell_type": "markdown",
      "metadata": {
        "id": "xjpl-zG00mbK"
      },
      "source": [
        "# ****Handwritten Digit Recognition****"
      ]
    },
    {
      "cell_type": "code",
      "metadata": {
        "id": "yTTdjMU4VuHR",
        "colab": {
          "base_uri": "https://localhost:8080/"
        },
        "outputId": "600ce94e-0a05-4f45-8d2a-51cdfd15760e"
      },
      "source": [
        "!pip install -U mxnet-cu101==1.7.0\n",
        "import mxnet as mx\n",
        "# Fixing the random seed\n",
        "mx.random.seed(42)\n",
        "mnist = mx.test_utils.get_mnist()"
      ],
      "execution_count": 93,
      "outputs": [
        {
          "output_type": "stream",
          "text": [
            "Requirement already up-to-date: mxnet-cu101==1.7.0 in /usr/local/lib/python3.7/dist-packages (1.7.0)\n",
            "Requirement already satisfied, skipping upgrade: graphviz<0.9.0,>=0.8.1 in /usr/local/lib/python3.7/dist-packages (from mxnet-cu101==1.7.0) (0.8.4)\n",
            "Requirement already satisfied, skipping upgrade: requests<3,>=2.20.0 in /usr/local/lib/python3.7/dist-packages (from mxnet-cu101==1.7.0) (2.23.0)\n",
            "Requirement already satisfied, skipping upgrade: numpy<2.0.0,>1.16.0 in /usr/local/lib/python3.7/dist-packages (from mxnet-cu101==1.7.0) (1.19.5)\n",
            "Requirement already satisfied, skipping upgrade: idna<3,>=2.5 in /usr/local/lib/python3.7/dist-packages (from requests<3,>=2.20.0->mxnet-cu101==1.7.0) (2.10)\n",
            "Requirement already satisfied, skipping upgrade: urllib3!=1.25.0,!=1.25.1,<1.26,>=1.21.1 in /usr/local/lib/python3.7/dist-packages (from requests<3,>=2.20.0->mxnet-cu101==1.7.0) (1.24.3)\n",
            "Requirement already satisfied, skipping upgrade: certifi>=2017.4.17 in /usr/local/lib/python3.7/dist-packages (from requests<3,>=2.20.0->mxnet-cu101==1.7.0) (2020.12.5)\n",
            "Requirement already satisfied, skipping upgrade: chardet<4,>=3.0.2 in /usr/local/lib/python3.7/dist-packages (from requests<3,>=2.20.0->mxnet-cu101==1.7.0) (3.0.4)\n"
          ],
          "name": "stdout"
        }
      ]
    },
    {
      "cell_type": "code",
      "metadata": {
        "id": "38Vn0sI4VuMH"
      },
      "source": [
        "batch_size = 100\n",
        "train_data = mx.io.NDArrayIter(mnist['train_data'], mnist['train_label'], batch_size, shuffle=True)\n",
        "val_data = mx.io.NDArrayIter(mnist['test_data'], mnist['test_label'], batch_size)"
      ],
      "execution_count": 94,
      "outputs": []
    },
    {
      "cell_type": "code",
      "metadata": {
        "id": "calXsqkzVuQq"
      },
      "source": [
        "from __future__ import print_function\n",
        "import mxnet as mx\n",
        "from mxnet import gluon\n",
        "from mxnet.gluon import nn\n",
        "from mxnet import autograd as ag"
      ],
      "execution_count": 95,
      "outputs": []
    },
    {
      "cell_type": "code",
      "metadata": {
        "id": "31zLNRhhVuVg"
      },
      "source": [
        "# define network\n",
        "net = nn.Sequential()\n",
        "with net.name_scope():\n",
        "    net.add(nn.Dense(128, activation='relu'))\n",
        "    net.add(nn.Dense(64, activation='relu'))\n",
        "    net.add(nn.Dense(10))"
      ],
      "execution_count": 96,
      "outputs": []
    },
    {
      "cell_type": "code",
      "metadata": {
        "id": "Vhe_dMtr1TkQ"
      },
      "source": [
        "gpus = mx.test_utils.list_gpus()\n",
        "ctx =  [mx.gpu()] if gpus else [mx.cpu(0), mx.cpu(1)]\n",
        "net.initialize(mx.init.Xavier(magnitude=2.24), ctx=ctx)\n",
        "trainer = gluon.Trainer(net.collect_params(), 'sgd', {'learning_rate': 0.02})"
      ],
      "execution_count": 97,
      "outputs": []
    },
    {
      "cell_type": "code",
      "metadata": {
        "colab": {
          "base_uri": "https://localhost:8080/"
        },
        "id": "0AyLONQG1TVD",
        "outputId": "aeac71d0-dd00-4fab-f159-bf5356802190"
      },
      "source": [
        "%%time\n",
        "epoch = 10\n",
        "# Use Accuracy as the evaluation metric.\n",
        "metric = mx.metric.Accuracy()\n",
        "softmax_cross_entropy_loss = gluon.loss.SoftmaxCrossEntropyLoss()\n",
        "for i in range(epoch):\n",
        "    # Reset the train data iterator.\n",
        "    train_data.reset()\n",
        "    # Loop over the train data iterator.\n",
        "    for batch in train_data:\n",
        "        # Splits train data into multiple slices along batch_axis\n",
        "        # and copy each slice into a context.\n",
        "        data = gluon.utils.split_and_load(batch.data[0], ctx_list=ctx, batch_axis=0)\n",
        "        # Splits train labels into multiple slices along batch_axis\n",
        "        # and copy each slice into a context.\n",
        "        label = gluon.utils.split_and_load(batch.label[0], ctx_list=ctx, batch_axis=0)\n",
        "        outputs = []\n",
        "        # Inside training scope\n",
        "        with ag.record():\n",
        "            for x, y in zip(data, label):\n",
        "                z = net(x)\n",
        "                # Computes softmax cross entropy loss.\n",
        "                loss = softmax_cross_entropy_loss(z, y)\n",
        "                # Backpropagate the error for one iteration.\n",
        "                loss.backward()\n",
        "                outputs.append(z)\n",
        "        # Updates internal evaluation\n",
        "        metric.update(label, outputs)\n",
        "        # Make one step of parameter update. Trainer needs to know the\n",
        "        # batch size of data to normalize the gradient by 1/batch_size.\n",
        "        trainer.step(batch.data[0].shape[0])\n",
        "    # Gets the evaluation result.\n",
        "    name, acc = metric.get()\n",
        "    # Reset evaluation result to initial state.\n",
        "    metric.reset()\n",
        "    print('training acc at epoch %d: %s=%f'%(i, name, acc))"
      ],
      "execution_count": 98,
      "outputs": [
        {
          "output_type": "stream",
          "text": [
            "training acc at epoch 0: accuracy=0.782100\n",
            "training acc at epoch 1: accuracy=0.899917\n",
            "training acc at epoch 2: accuracy=0.914450\n",
            "training acc at epoch 3: accuracy=0.924017\n",
            "training acc at epoch 4: accuracy=0.931417\n",
            "training acc at epoch 5: accuracy=0.937533\n",
            "training acc at epoch 6: accuracy=0.942600\n",
            "training acc at epoch 7: accuracy=0.946417\n",
            "training acc at epoch 8: accuracy=0.950217\n",
            "training acc at epoch 9: accuracy=0.954050\n",
            "CPU times: user 32.8 s, sys: 5.31 s, total: 38.1 s\n",
            "Wall time: 27.3 s\n"
          ],
          "name": "stdout"
        }
      ]
    },
    {
      "cell_type": "code",
      "metadata": {
        "colab": {
          "base_uri": "https://localhost:8080/"
        },
        "id": "wAOJ0KiB1TQw",
        "outputId": "52f709c4-41c2-4670-ac3b-23166efa33af"
      },
      "source": [
        "# Use Accuracy as the evaluation metric.\n",
        "metric = mx.metric.Accuracy()\n",
        "# Reset the validation data iterator.\n",
        "val_data.reset()\n",
        "# Loop over the validation data iterator.\n",
        "for batch in val_data:\n",
        "    # Splits validation data into multiple slices along batch_axis\n",
        "    # and copy each slice into a context.\n",
        "    data = gluon.utils.split_and_load(batch.data[0], ctx_list=ctx, batch_axis=0)\n",
        "    # Splits validation label into multiple slices along batch_axis\n",
        "    # and copy each slice into a context.\n",
        "    label = gluon.utils.split_and_load(batch.label[0], ctx_list=ctx, batch_axis=0)\n",
        "    outputs = []\n",
        "    for x in data:\n",
        "        outputs.append(net(x))\n",
        "    # Updates internal evaluation\n",
        "    metric.update(label, outputs)\n",
        "print('validation acc: %s=%f'%metric.get())\n",
        "assert metric.get()[1] > 0.94"
      ],
      "execution_count": 99,
      "outputs": [
        {
          "output_type": "stream",
          "text": [
            "validation acc: accuracy=0.953700\n"
          ],
          "name": "stdout"
        }
      ]
    },
    {
      "cell_type": "code",
      "metadata": {
        "id": "iBJuT7h_1TAC"
      },
      "source": [
        "import mxnet.ndarray as F\n",
        "\n",
        "class Net(gluon.Block):\n",
        "    def __init__(self, **kwargs):\n",
        "        super(Net, self).__init__(**kwargs)\n",
        "        with self.name_scope():\n",
        "            # layers created in name_scope will inherit name space\n",
        "            # from parent layer.\n",
        "            self.conv1 = nn.Conv2D(20, kernel_size=(5,5))\n",
        "            self.pool1 = nn.MaxPool2D(pool_size=(2,2), strides = (2,2))\n",
        "            self.conv2 = nn.Conv2D(50, kernel_size=(5,5))\n",
        "            self.pool2 = nn.MaxPool2D(pool_size=(2,2), strides = (2,2))\n",
        "            self.fc1 = nn.Dense(500)\n",
        "            self.fc2 = nn.Dense(10)\n",
        "\n",
        "    def forward(self, x):\n",
        "        x = self.pool1(F.tanh(self.conv1(x)))\n",
        "        x = self.pool2(F.tanh(self.conv2(x)))\n",
        "        # 0 means copy over size from corresponding dimension.\n",
        "        # -1 means infer size from the rest of dimensions.\n",
        "        x = x.reshape((0, -1))\n",
        "        x = F.tanh(self.fc1(x))\n",
        "        x = F.tanh(self.fc2(x))\n",
        "        return x"
      ],
      "execution_count": 100,
      "outputs": []
    },
    {
      "cell_type": "code",
      "metadata": {
        "id": "GsU-CVeZ1SwQ"
      },
      "source": [
        "net = Net()"
      ],
      "execution_count": 101,
      "outputs": []
    },
    {
      "cell_type": "code",
      "metadata": {
        "id": "bHAFUUi21Shb"
      },
      "source": [
        "# set the context on GPU is available otherwise CPU\n",
        "ctx = [mx.gpu() if mx.test_utils.list_gpus() else mx.cpu()]\n",
        "net.initialize(mx.init.Xavier(magnitude=2.24), ctx=ctx)\n",
        "trainer = gluon.Trainer(net.collect_params(), 'sgd', {'learning_rate': 0.03})"
      ],
      "execution_count": 102,
      "outputs": []
    },
    {
      "cell_type": "code",
      "metadata": {
        "id": "7pHB_wIfVusu",
        "colab": {
          "base_uri": "https://localhost:8080/"
        },
        "outputId": "a060892e-b32f-42c3-c999-83d3379a5c77"
      },
      "source": [
        "# Use Accuracy as the evaluation metric.\n",
        "metric = mx.metric.Accuracy()\n",
        "softmax_cross_entropy_loss = gluon.loss.SoftmaxCrossEntropyLoss()\n",
        "\n",
        "for i in range(epoch):\n",
        "    # Reset the train data iterator.\n",
        "    train_data.reset()\n",
        "    # Loop over the train data iterator.\n",
        "    for batch in train_data:\n",
        "        # Splits train data into multiple slices along batch_axis\n",
        "        # and copy each slice into a context.\n",
        "        data = gluon.utils.split_and_load(batch.data[0], ctx_list=ctx, batch_axis=0)\n",
        "        # Splits train labels into multiple slices along batch_axis\n",
        "        # and copy each slice into a context.\n",
        "        label = gluon.utils.split_and_load(batch.label[0], ctx_list=ctx, batch_axis=0)\n",
        "        outputs = []\n",
        "        # Inside training scope\n",
        "        with ag.record():\n",
        "            for x, y in zip(data, label):\n",
        "                z = net(x)\n",
        "                # Computes softmax cross entropy loss.\n",
        "                loss = softmax_cross_entropy_loss(z, y)\n",
        "                # Backpropogate the error for one iteration.\n",
        "                loss.backward()\n",
        "                outputs.append(z)\n",
        "        # Updates internal evaluation\n",
        "        metric.update(label, outputs)\n",
        "        # Make one step of parameter update. Trainer needs to know the\n",
        "        # batch size of data to normalize the gradient by 1/batch_size.\n",
        "        trainer.step(batch.data[0].shape[0])\n",
        "    # Gets the evaluation result.\n",
        "    name, acc = metric.get()\n",
        "    # Reset evaluation result to initial state.\n",
        "    metric.reset()\n",
        "    print('training acc at epoch %d: %s=%f'%(i, name, acc))"
      ],
      "execution_count": 103,
      "outputs": [
        {
          "output_type": "stream",
          "text": [
            "training acc at epoch 0: accuracy=0.862367\n",
            "training acc at epoch 1: accuracy=0.937117\n",
            "training acc at epoch 2: accuracy=0.953317\n",
            "training acc at epoch 3: accuracy=0.961883\n",
            "training acc at epoch 4: accuracy=0.967900\n",
            "training acc at epoch 5: accuracy=0.971417\n",
            "training acc at epoch 6: accuracy=0.974267\n",
            "training acc at epoch 7: accuracy=0.976183\n",
            "training acc at epoch 8: accuracy=0.978733\n",
            "training acc at epoch 9: accuracy=0.980283\n"
          ],
          "name": "stdout"
        }
      ]
    },
    {
      "cell_type": "code",
      "metadata": {
        "colab": {
          "base_uri": "https://localhost:8080/"
        },
        "id": "qLtP21G22HNP",
        "outputId": "2f946357-4054-4c59-8be4-b821dac6f52a"
      },
      "source": [
        "# Use Accuracy as the evaluation metric.\n",
        "metric = mx.metric.Accuracy()\n",
        "# Reset the validation data iterator.\n",
        "val_data.reset()\n",
        "# Loop over the validation data iterator.\n",
        "for batch in val_data:\n",
        "    # Splits validation data into multiple slices along batch_axis\n",
        "    # and copy each slice into a context.\n",
        "    data = gluon.utils.split_and_load(batch.data[0], ctx_list=ctx, batch_axis=0)\n",
        "    # Splits validation label into multiple slices along batch_axis\n",
        "    # and copy each slice into a context.\n",
        "    label = gluon.utils.split_and_load(batch.label[0], ctx_list=ctx, batch_axis=0)\n",
        "    outputs = []\n",
        "    for x in data:\n",
        "        outputs.append(net(x))\n",
        "    # Updates internal evaluation\n",
        "    metric.update(label, outputs)\n",
        "print('validation acc: %s=%f'%metric.get())\n",
        "assert metric.get()[1] > 0.98"
      ],
      "execution_count": 104,
      "outputs": [
        {
          "output_type": "stream",
          "text": [
            "validation acc: accuracy=0.981100\n"
          ],
          "name": "stdout"
        }
      ]
    },
    {
      "cell_type": "code",
      "metadata": {
        "id": "uiUkS9sC2G1k"
      },
      "source": [
        ""
      ],
      "execution_count": 104,
      "outputs": []
    }
  ]
}